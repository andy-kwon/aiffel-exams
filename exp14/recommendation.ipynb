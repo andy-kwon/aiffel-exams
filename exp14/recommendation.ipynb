{
 "cells": [
  {
   "cell_type": "markdown",
   "id": "190c26ec",
   "metadata": {},
   "source": [
    "# 영화추천 기능 구현\n",
    "\n",
    "## 라이브러리 임포트"
   ]
  },
  {
   "cell_type": "code",
   "execution_count": 1,
   "id": "67d95266",
   "metadata": {},
   "outputs": [],
   "source": [
    "import os\n",
    "from implicit.als import AlternatingLeastSquares\n",
    "import pandas as pd\n",
    "import numpy as np\n",
    "from scipy.sparse import csr_matrix\n",
    "\n",
    "os.environ['OPENBLAS_NUM_THREADS'] = '1'\n",
    "os.environ['KMP_DUPLICATE_LIB_OK'] = 'True'\n",
    "os.environ['MKL_NUM_THREADS'] = '1'"
   ]
  },
  {
   "cell_type": "markdown",
   "id": "e554df7e",
   "metadata": {},
   "source": [
    "## 1. 데이터 준비와 전처리"
   ]
  },
  {
   "cell_type": "code",
   "execution_count": 2,
   "id": "a47777da",
   "metadata": {},
   "outputs": [
    {
     "data": {
      "text/html": [
       "<div>\n",
       "<style scoped>\n",
       "    .dataframe tbody tr th:only-of-type {\n",
       "        vertical-align: middle;\n",
       "    }\n",
       "\n",
       "    .dataframe tbody tr th {\n",
       "        vertical-align: top;\n",
       "    }\n",
       "\n",
       "    .dataframe thead th {\n",
       "        text-align: right;\n",
       "    }\n",
       "</style>\n",
       "<table border=\"1\" class=\"dataframe\">\n",
       "  <thead>\n",
       "    <tr style=\"text-align: right;\">\n",
       "      <th></th>\n",
       "      <th>user_id</th>\n",
       "      <th>movie_id</th>\n",
       "      <th>ratings</th>\n",
       "      <th>timestamp</th>\n",
       "    </tr>\n",
       "  </thead>\n",
       "  <tbody>\n",
       "    <tr>\n",
       "      <th>0</th>\n",
       "      <td>1</td>\n",
       "      <td>1193</td>\n",
       "      <td>5</td>\n",
       "      <td>978300760</td>\n",
       "    </tr>\n",
       "    <tr>\n",
       "      <th>1</th>\n",
       "      <td>1</td>\n",
       "      <td>661</td>\n",
       "      <td>3</td>\n",
       "      <td>978302109</td>\n",
       "    </tr>\n",
       "    <tr>\n",
       "      <th>2</th>\n",
       "      <td>1</td>\n",
       "      <td>914</td>\n",
       "      <td>3</td>\n",
       "      <td>978301968</td>\n",
       "    </tr>\n",
       "    <tr>\n",
       "      <th>3</th>\n",
       "      <td>1</td>\n",
       "      <td>3408</td>\n",
       "      <td>4</td>\n",
       "      <td>978300275</td>\n",
       "    </tr>\n",
       "    <tr>\n",
       "      <th>4</th>\n",
       "      <td>1</td>\n",
       "      <td>2355</td>\n",
       "      <td>5</td>\n",
       "      <td>978824291</td>\n",
       "    </tr>\n",
       "  </tbody>\n",
       "</table>\n",
       "</div>"
      ],
      "text/plain": [
       "   user_id  movie_id  ratings  timestamp\n",
       "0        1      1193        5  978300760\n",
       "1        1       661        3  978302109\n",
       "2        1       914        3  978301968\n",
       "3        1      3408        4  978300275\n",
       "4        1      2355        5  978824291"
      ]
     },
     "execution_count": 2,
     "metadata": {},
     "output_type": "execute_result"
    }
   ],
   "source": [
    "rating_file_path=os.getenv('HOME') + '/aiffel/recommendata_iu/data/ml-1m/ratings.dat'\n",
    "ratings_cols = ['user_id', 'movie_id', 'ratings', 'timestamp']\n",
    "ratings = pd.read_csv(rating_file_path, sep='::', names=ratings_cols, engine='python', encoding = \"ISO-8859-1\")\n",
    "orginal_data_size = len(ratings)\n",
    "ratings.head()"
   ]
  },
  {
   "cell_type": "code",
   "execution_count": 3,
   "id": "9cc1ab5b",
   "metadata": {},
   "outputs": [
    {
     "name": "stdout",
     "output_type": "stream",
     "text": [
      "원본: (1000209, 4)\n",
      "결측치 제거 후: (1000209, 4)\n"
     ]
    }
   ],
   "source": [
    "print(\"원본:\", ratings.shape)\n",
    "print(\"결측치 제거 후:\", ratings.dropna().shape)"
   ]
  },
  {
   "cell_type": "markdown",
   "id": "753fbf4b",
   "metadata": {},
   "source": [
    "> 결측치는 없다"
   ]
  },
  {
   "cell_type": "code",
   "execution_count": 4,
   "id": "c8888f15",
   "metadata": {},
   "outputs": [
    {
     "name": "stdout",
     "output_type": "stream",
     "text": [
      "orginal_data_size: 1,000,209, filtered_data_size: 836,478\n",
      "Ratio of Remaining Data is 83.63%\n"
     ]
    }
   ],
   "source": [
    "# 3점 이상만 남깁니다.\n",
    "ratings = ratings[ratings['ratings'] >= 3]\n",
    "filtered_data_size = len(ratings)\n",
    "\n",
    "print(f'orginal_data_size: {orginal_data_size:,}, filtered_data_size: {filtered_data_size:,}')\n",
    "print(f'Ratio of Remaining Data is {filtered_data_size / orginal_data_size:.2%}')"
   ]
  },
  {
   "cell_type": "code",
   "execution_count": 5,
   "id": "a275abca",
   "metadata": {},
   "outputs": [
    {
     "data": {
      "text/html": [
       "<div>\n",
       "<style scoped>\n",
       "    .dataframe tbody tr th:only-of-type {\n",
       "        vertical-align: middle;\n",
       "    }\n",
       "\n",
       "    .dataframe tbody tr th {\n",
       "        vertical-align: top;\n",
       "    }\n",
       "\n",
       "    .dataframe thead th {\n",
       "        text-align: right;\n",
       "    }\n",
       "</style>\n",
       "<table border=\"1\" class=\"dataframe\">\n",
       "  <thead>\n",
       "    <tr style=\"text-align: right;\">\n",
       "      <th></th>\n",
       "      <th>user_id</th>\n",
       "      <th>movie_id</th>\n",
       "      <th>counts</th>\n",
       "      <th>timestamp</th>\n",
       "    </tr>\n",
       "  </thead>\n",
       "  <tbody>\n",
       "    <tr>\n",
       "      <th>0</th>\n",
       "      <td>1</td>\n",
       "      <td>1193</td>\n",
       "      <td>5</td>\n",
       "      <td>978300760</td>\n",
       "    </tr>\n",
       "    <tr>\n",
       "      <th>1</th>\n",
       "      <td>1</td>\n",
       "      <td>661</td>\n",
       "      <td>3</td>\n",
       "      <td>978302109</td>\n",
       "    </tr>\n",
       "    <tr>\n",
       "      <th>2</th>\n",
       "      <td>1</td>\n",
       "      <td>914</td>\n",
       "      <td>3</td>\n",
       "      <td>978301968</td>\n",
       "    </tr>\n",
       "    <tr>\n",
       "      <th>3</th>\n",
       "      <td>1</td>\n",
       "      <td>3408</td>\n",
       "      <td>4</td>\n",
       "      <td>978300275</td>\n",
       "    </tr>\n",
       "    <tr>\n",
       "      <th>4</th>\n",
       "      <td>1</td>\n",
       "      <td>2355</td>\n",
       "      <td>5</td>\n",
       "      <td>978824291</td>\n",
       "    </tr>\n",
       "    <tr>\n",
       "      <th>5</th>\n",
       "      <td>1</td>\n",
       "      <td>1197</td>\n",
       "      <td>3</td>\n",
       "      <td>978302268</td>\n",
       "    </tr>\n",
       "    <tr>\n",
       "      <th>6</th>\n",
       "      <td>1</td>\n",
       "      <td>1287</td>\n",
       "      <td>5</td>\n",
       "      <td>978302039</td>\n",
       "    </tr>\n",
       "    <tr>\n",
       "      <th>7</th>\n",
       "      <td>1</td>\n",
       "      <td>2804</td>\n",
       "      <td>5</td>\n",
       "      <td>978300719</td>\n",
       "    </tr>\n",
       "    <tr>\n",
       "      <th>8</th>\n",
       "      <td>1</td>\n",
       "      <td>594</td>\n",
       "      <td>4</td>\n",
       "      <td>978302268</td>\n",
       "    </tr>\n",
       "    <tr>\n",
       "      <th>9</th>\n",
       "      <td>1</td>\n",
       "      <td>919</td>\n",
       "      <td>4</td>\n",
       "      <td>978301368</td>\n",
       "    </tr>\n",
       "  </tbody>\n",
       "</table>\n",
       "</div>"
      ],
      "text/plain": [
       "   user_id  movie_id  counts  timestamp\n",
       "0        1      1193       5  978300760\n",
       "1        1       661       3  978302109\n",
       "2        1       914       3  978301968\n",
       "3        1      3408       4  978300275\n",
       "4        1      2355       5  978824291\n",
       "5        1      1197       3  978302268\n",
       "6        1      1287       5  978302039\n",
       "7        1      2804       5  978300719\n",
       "8        1       594       4  978302268\n",
       "9        1       919       4  978301368"
      ]
     },
     "execution_count": 5,
     "metadata": {},
     "output_type": "execute_result"
    }
   ],
   "source": [
    "ratings.rename(columns={'ratings': 'counts'}, inplace=True)\n",
    "ratings.head(10)"
   ]
  },
  {
   "cell_type": "code",
   "execution_count": 6,
   "id": "14362cf4",
   "metadata": {},
   "outputs": [
    {
     "data": {
      "text/html": [
       "<div>\n",
       "<style scoped>\n",
       "    .dataframe tbody tr th:only-of-type {\n",
       "        vertical-align: middle;\n",
       "    }\n",
       "\n",
       "    .dataframe tbody tr th {\n",
       "        vertical-align: top;\n",
       "    }\n",
       "\n",
       "    .dataframe thead th {\n",
       "        text-align: right;\n",
       "    }\n",
       "</style>\n",
       "<table border=\"1\" class=\"dataframe\">\n",
       "  <thead>\n",
       "    <tr style=\"text-align: right;\">\n",
       "      <th></th>\n",
       "      <th>movie_id</th>\n",
       "      <th>title</th>\n",
       "      <th>genre</th>\n",
       "    </tr>\n",
       "  </thead>\n",
       "  <tbody>\n",
       "    <tr>\n",
       "      <th>0</th>\n",
       "      <td>1</td>\n",
       "      <td>Toy Story (1995)</td>\n",
       "      <td>Animation|Children's|Comedy</td>\n",
       "    </tr>\n",
       "    <tr>\n",
       "      <th>1</th>\n",
       "      <td>2</td>\n",
       "      <td>Jumanji (1995)</td>\n",
       "      <td>Adventure|Children's|Fantasy</td>\n",
       "    </tr>\n",
       "    <tr>\n",
       "      <th>2</th>\n",
       "      <td>3</td>\n",
       "      <td>Grumpier Old Men (1995)</td>\n",
       "      <td>Comedy|Romance</td>\n",
       "    </tr>\n",
       "    <tr>\n",
       "      <th>3</th>\n",
       "      <td>4</td>\n",
       "      <td>Waiting to Exhale (1995)</td>\n",
       "      <td>Comedy|Drama</td>\n",
       "    </tr>\n",
       "    <tr>\n",
       "      <th>4</th>\n",
       "      <td>5</td>\n",
       "      <td>Father of the Bride Part II (1995)</td>\n",
       "      <td>Comedy</td>\n",
       "    </tr>\n",
       "  </tbody>\n",
       "</table>\n",
       "</div>"
      ],
      "text/plain": [
       "   movie_id                               title                         genre\n",
       "0         1                    Toy Story (1995)   Animation|Children's|Comedy\n",
       "1         2                      Jumanji (1995)  Adventure|Children's|Fantasy\n",
       "2         3             Grumpier Old Men (1995)                Comedy|Romance\n",
       "3         4            Waiting to Exhale (1995)                  Comedy|Drama\n",
       "4         5  Father of the Bride Part II (1995)                        Comedy"
      ]
     },
     "execution_count": 6,
     "metadata": {},
     "output_type": "execute_result"
    }
   ],
   "source": [
    "# 영화 제목을 보기 위해 메타 데이터를 읽어옵니다.\n",
    "movie_file_path=os.getenv('HOME') + '/aiffel/recommendata_iu/data/ml-1m/movies.dat'\n",
    "cols = ['movie_id', 'title', 'genre'] \n",
    "movies = pd.read_csv(movie_file_path, sep='::', names=cols, engine='python', encoding='ISO-8859-1')\n",
    "movies.head()"
   ]
  },
  {
   "cell_type": "code",
   "execution_count": 7,
   "id": "40bb1ba1",
   "metadata": {},
   "outputs": [
    {
     "name": "stdout",
     "output_type": "stream",
     "text": [
      "원본: (3883, 3)\n",
      "결측치 제거 후: (3883, 3)\n"
     ]
    }
   ],
   "source": [
    "print(\"원본:\", movies.shape)\n",
    "print(\"결측치 제거 후:\", movies.dropna().shape)"
   ]
  },
  {
   "cell_type": "markdown",
   "id": "97db4504",
   "metadata": {},
   "source": [
    "> 결측치는 없다"
   ]
  },
  {
   "cell_type": "code",
   "execution_count": 8,
   "id": "3f13ed36",
   "metadata": {},
   "outputs": [
    {
     "data": {
      "text/html": [
       "<div>\n",
       "<style scoped>\n",
       "    .dataframe tbody tr th:only-of-type {\n",
       "        vertical-align: middle;\n",
       "    }\n",
       "\n",
       "    .dataframe tbody tr th {\n",
       "        vertical-align: top;\n",
       "    }\n",
       "\n",
       "    .dataframe thead th {\n",
       "        text-align: right;\n",
       "    }\n",
       "</style>\n",
       "<table border=\"1\" class=\"dataframe\">\n",
       "  <thead>\n",
       "    <tr style=\"text-align: right;\">\n",
       "      <th></th>\n",
       "      <th>movie_id</th>\n",
       "      <th>title</th>\n",
       "      <th>genre</th>\n",
       "    </tr>\n",
       "  </thead>\n",
       "  <tbody>\n",
       "    <tr>\n",
       "      <th>0</th>\n",
       "      <td>1</td>\n",
       "      <td>toy story (1995)</td>\n",
       "      <td>animation|children's|comedy</td>\n",
       "    </tr>\n",
       "    <tr>\n",
       "      <th>1</th>\n",
       "      <td>2</td>\n",
       "      <td>jumanji (1995)</td>\n",
       "      <td>adventure|children's|fantasy</td>\n",
       "    </tr>\n",
       "    <tr>\n",
       "      <th>2</th>\n",
       "      <td>3</td>\n",
       "      <td>grumpier old men (1995)</td>\n",
       "      <td>comedy|romance</td>\n",
       "    </tr>\n",
       "    <tr>\n",
       "      <th>3</th>\n",
       "      <td>4</td>\n",
       "      <td>waiting to exhale (1995)</td>\n",
       "      <td>comedy|drama</td>\n",
       "    </tr>\n",
       "    <tr>\n",
       "      <th>4</th>\n",
       "      <td>5</td>\n",
       "      <td>father of the bride part ii (1995)</td>\n",
       "      <td>comedy</td>\n",
       "    </tr>\n",
       "  </tbody>\n",
       "</table>\n",
       "</div>"
      ],
      "text/plain": [
       "   movie_id                               title                         genre\n",
       "0         1                    toy story (1995)   animation|children's|comedy\n",
       "1         2                      jumanji (1995)  adventure|children's|fantasy\n",
       "2         3             grumpier old men (1995)                comedy|romance\n",
       "3         4            waiting to exhale (1995)                  comedy|drama\n",
       "4         5  father of the bride part ii (1995)                        comedy"
      ]
     },
     "execution_count": 8,
     "metadata": {},
     "output_type": "execute_result"
    }
   ],
   "source": [
    "# 검색 편의를 위해 title, genre 소문자로\n",
    "movies['title'] = movies['title'].str.lower()\n",
    "movies['genre'] = movies['genre'].str.lower()\n",
    "movies.head()"
   ]
  },
  {
   "cell_type": "code",
   "execution_count": 9,
   "id": "cc5615f1",
   "metadata": {},
   "outputs": [
    {
     "name": "stdout",
     "output_type": "stream",
     "text": [
      "(836478, 6)\n"
     ]
    },
    {
     "data": {
      "text/html": [
       "<div>\n",
       "<style scoped>\n",
       "    .dataframe tbody tr th:only-of-type {\n",
       "        vertical-align: middle;\n",
       "    }\n",
       "\n",
       "    .dataframe tbody tr th {\n",
       "        vertical-align: top;\n",
       "    }\n",
       "\n",
       "    .dataframe thead th {\n",
       "        text-align: right;\n",
       "    }\n",
       "</style>\n",
       "<table border=\"1\" class=\"dataframe\">\n",
       "  <thead>\n",
       "    <tr style=\"text-align: right;\">\n",
       "      <th></th>\n",
       "      <th>user_id</th>\n",
       "      <th>movie_id</th>\n",
       "      <th>counts</th>\n",
       "      <th>timestamp</th>\n",
       "      <th>title</th>\n",
       "      <th>genre</th>\n",
       "    </tr>\n",
       "  </thead>\n",
       "  <tbody>\n",
       "    <tr>\n",
       "      <th>0</th>\n",
       "      <td>1</td>\n",
       "      <td>1193</td>\n",
       "      <td>5</td>\n",
       "      <td>978300760</td>\n",
       "      <td>one flew over the cuckoo's nest (1975)</td>\n",
       "      <td>drama</td>\n",
       "    </tr>\n",
       "    <tr>\n",
       "      <th>1</th>\n",
       "      <td>1</td>\n",
       "      <td>661</td>\n",
       "      <td>3</td>\n",
       "      <td>978302109</td>\n",
       "      <td>james and the giant peach (1996)</td>\n",
       "      <td>animation|children's|musical</td>\n",
       "    </tr>\n",
       "    <tr>\n",
       "      <th>2</th>\n",
       "      <td>1</td>\n",
       "      <td>914</td>\n",
       "      <td>3</td>\n",
       "      <td>978301968</td>\n",
       "      <td>my fair lady (1964)</td>\n",
       "      <td>musical|romance</td>\n",
       "    </tr>\n",
       "    <tr>\n",
       "      <th>3</th>\n",
       "      <td>1</td>\n",
       "      <td>3408</td>\n",
       "      <td>4</td>\n",
       "      <td>978300275</td>\n",
       "      <td>erin brockovich (2000)</td>\n",
       "      <td>drama</td>\n",
       "    </tr>\n",
       "    <tr>\n",
       "      <th>4</th>\n",
       "      <td>1</td>\n",
       "      <td>2355</td>\n",
       "      <td>5</td>\n",
       "      <td>978824291</td>\n",
       "      <td>bug's life, a (1998)</td>\n",
       "      <td>animation|children's|comedy</td>\n",
       "    </tr>\n",
       "  </tbody>\n",
       "</table>\n",
       "</div>"
      ],
      "text/plain": [
       "   user_id  movie_id  counts  timestamp  \\\n",
       "0        1      1193       5  978300760   \n",
       "1        1       661       3  978302109   \n",
       "2        1       914       3  978301968   \n",
       "3        1      3408       4  978300275   \n",
       "4        1      2355       5  978824291   \n",
       "\n",
       "                                    title                         genre  \n",
       "0  one flew over the cuckoo's nest (1975)                         drama  \n",
       "1        james and the giant peach (1996)  animation|children's|musical  \n",
       "2                     my fair lady (1964)               musical|romance  \n",
       "3                  erin brockovich (2000)                         drama  \n",
       "4                    bug's life, a (1998)   animation|children's|comedy  "
      ]
     },
     "execution_count": 9,
     "metadata": {},
     "output_type": "execute_result"
    }
   ],
   "source": [
    "# 평점과 제목 데이터프레임 합치기\n",
    "rating_data = ratings.join(movies.set_index('movie_id'), on='movie_id')\n",
    "print(rating_data.shape)\n",
    "rating_data.head()"
   ]
  },
  {
   "cell_type": "code",
   "execution_count": 10,
   "id": "86e63b5c",
   "metadata": {},
   "outputs": [
    {
     "name": "stdout",
     "output_type": "stream",
     "text": [
      "<class 'pandas.core.frame.DataFrame'>\n",
      "Int64Index: 836478 entries, 0 to 1000208\n",
      "Data columns (total 6 columns):\n",
      " #   Column     Non-Null Count   Dtype \n",
      "---  ------     --------------   ----- \n",
      " 0   user_id    836478 non-null  int64 \n",
      " 1   movie_id   836478 non-null  int64 \n",
      " 2   counts     836478 non-null  int64 \n",
      " 3   timestamp  836478 non-null  int64 \n",
      " 4   title      836478 non-null  object\n",
      " 5   genre      836478 non-null  object\n",
      "dtypes: int64(4), object(2)\n",
      "memory usage: 44.7+ MB\n"
     ]
    }
   ],
   "source": [
    "rating_data.info()"
   ]
  },
  {
   "cell_type": "markdown",
   "id": "77a768c7",
   "metadata": {},
   "source": [
    "## 2. 분석\n",
    "\n",
    "* ratings에 있는 유니크한 영화 개수\n",
    "* ratings에 있는 유니크한 사용자 수\n",
    "* 가장 인기 있는 영화 30개(인기순)"
   ]
  },
  {
   "cell_type": "code",
   "execution_count": 11,
   "id": "098da286",
   "metadata": {},
   "outputs": [
    {
     "name": "stdout",
     "output_type": "stream",
     "text": [
      "Unique movie_id: 3,628\n",
      "Unique user_id: 6,039\n"
     ]
    }
   ],
   "source": [
    "# ratings에 있는 유니크한 영화 개수\n",
    "print(f\"Unique movie_id: {rating_data['movie_id'].nunique():,}\")\n",
    "# ratings에 있는 유니크한 사용자 수\n",
    "print(f\"Unique user_id: {rating_data['user_id'].nunique():,}\")"
   ]
  },
  {
   "cell_type": "code",
   "execution_count": 12,
   "id": "f03f9274",
   "metadata": {},
   "outputs": [
    {
     "data": {
      "text/plain": [
       "title\n",
       "american beauty (1999)                                   3211\n",
       "star wars: episode iv - a new hope (1977)                2910\n",
       "star wars: episode v - the empire strikes back (1980)    2885\n",
       "star wars: episode vi - return of the jedi (1983)        2716\n",
       "saving private ryan (1998)                               2561\n",
       "terminator 2: judgment day (1991)                        2509\n",
       "silence of the lambs, the (1991)                         2498\n",
       "raiders of the lost ark (1981)                           2473\n",
       "back to the future (1985)                                2460\n",
       "matrix, the (1999)                                       2434\n",
       "jurassic park (1993)                                     2413\n",
       "sixth sense, the (1999)                                  2385\n",
       "fargo (1996)                                             2371\n",
       "braveheart (1995)                                        2314\n",
       "men in black (1997)                                      2297\n",
       "schindler's list (1993)                                  2257\n",
       "princess bride, the (1987)                               2252\n",
       "shakespeare in love (1998)                               2213\n",
       "l.a. confidential (1997)                                 2210\n",
       "shawshank redemption, the (1994)                         2194\n",
       "godfather, the (1972)                                    2167\n",
       "groundhog day (1993)                                     2121\n",
       "e.t. the extra-terrestrial (1982)                        2102\n",
       "being john malkovich (1999)                              2066\n",
       "ghostbusters (1984)                                      2051\n",
       "pulp fiction (1994)                                      2030\n",
       "forrest gump (1994)                                      2022\n",
       "terminator, the (1984)                                   2019\n",
       "toy story (1995)                                         2000\n",
       "fugitive, the (1993)                                     1941\n",
       "Name: user_id, dtype: int64"
      ]
     },
     "execution_count": 12,
     "metadata": {},
     "output_type": "execute_result"
    }
   ],
   "source": [
    "# 가장 인기 있는 영화 30개(인기순)\n",
    "movie_count = rating_data.groupby('title')['user_id'].count()\n",
    "movie_count.sort_values(ascending=False).head(30)"
   ]
  },
  {
   "cell_type": "markdown",
   "id": "b1addb98",
   "metadata": {},
   "source": [
    "## 3. 선호하는 영화를 5가지 골라서 ratings에 추가"
   ]
  },
  {
   "cell_type": "code",
   "execution_count": 13,
   "id": "be4d16e2",
   "metadata": {},
   "outputs": [
    {
     "data": {
      "text/html": [
       "<div>\n",
       "<style scoped>\n",
       "    .dataframe tbody tr th:only-of-type {\n",
       "        vertical-align: middle;\n",
       "    }\n",
       "\n",
       "    .dataframe tbody tr th {\n",
       "        vertical-align: top;\n",
       "    }\n",
       "\n",
       "    .dataframe thead th {\n",
       "        text-align: right;\n",
       "    }\n",
       "</style>\n",
       "<table border=\"1\" class=\"dataframe\">\n",
       "  <thead>\n",
       "    <tr style=\"text-align: right;\">\n",
       "      <th></th>\n",
       "      <th>movie_id</th>\n",
       "      <th>title</th>\n",
       "      <th>genre</th>\n",
       "    </tr>\n",
       "  </thead>\n",
       "  <tbody>\n",
       "    <tr>\n",
       "      <th>151</th>\n",
       "      <td>153</td>\n",
       "      <td>batman forever (1995)</td>\n",
       "      <td>action|adventure|comedy|crime</td>\n",
       "    </tr>\n",
       "    <tr>\n",
       "      <th>588</th>\n",
       "      <td>592</td>\n",
       "      <td>batman (1989)</td>\n",
       "      <td>action|adventure|crime|drama</td>\n",
       "    </tr>\n",
       "    <tr>\n",
       "      <th>1356</th>\n",
       "      <td>1377</td>\n",
       "      <td>batman returns (1992)</td>\n",
       "      <td>action|adventure|comedy|crime</td>\n",
       "    </tr>\n",
       "    <tr>\n",
       "      <th>1522</th>\n",
       "      <td>1562</td>\n",
       "      <td>batman &amp; robin (1997)</td>\n",
       "      <td>action|adventure|crime</td>\n",
       "    </tr>\n",
       "    <tr>\n",
       "      <th>3144</th>\n",
       "      <td>3213</td>\n",
       "      <td>batman: mask of the phantasm (1993)</td>\n",
       "      <td>animation|children's</td>\n",
       "    </tr>\n",
       "  </tbody>\n",
       "</table>\n",
       "</div>"
      ],
      "text/plain": [
       "      movie_id                                title  \\\n",
       "151        153                batman forever (1995)   \n",
       "588        592                        batman (1989)   \n",
       "1356      1377                batman returns (1992)   \n",
       "1522      1562                batman & robin (1997)   \n",
       "3144      3213  batman: mask of the phantasm (1993)   \n",
       "\n",
       "                              genre  \n",
       "151   action|adventure|comedy|crime  \n",
       "588    action|adventure|crime|drama  \n",
       "1356  action|adventure|comedy|crime  \n",
       "1522         action|adventure|crime  \n",
       "3144           animation|children's  "
      ]
     },
     "execution_count": 13,
     "metadata": {},
     "output_type": "execute_result"
    }
   ],
   "source": [
    "# 영화 제목 키워드로 검색\n",
    "movies[movies['title'].str.contains('batman', regex=False)]"
   ]
  },
  {
   "cell_type": "code",
   "execution_count": 14,
   "id": "0be19877",
   "metadata": {},
   "outputs": [
    {
     "data": {
      "text/plain": [
       "False"
      ]
     },
     "execution_count": 14,
     "metadata": {},
     "output_type": "execute_result"
    }
   ],
   "source": [
    "# 나의 아이디는 901203으로 가정, 이미 있는 id인지 체크\n",
    "rating_data.isin({'user_id':[901203]})['user_id'].any()"
   ]
  },
  {
   "cell_type": "code",
   "execution_count": 15,
   "id": "c27d0ae8",
   "metadata": {},
   "outputs": [
    {
     "data": {
      "text/html": [
       "<div>\n",
       "<style scoped>\n",
       "    .dataframe tbody tr th:only-of-type {\n",
       "        vertical-align: middle;\n",
       "    }\n",
       "\n",
       "    .dataframe tbody tr th {\n",
       "        vertical-align: top;\n",
       "    }\n",
       "\n",
       "    .dataframe thead th {\n",
       "        text-align: right;\n",
       "    }\n",
       "</style>\n",
       "<table border=\"1\" class=\"dataframe\">\n",
       "  <thead>\n",
       "    <tr style=\"text-align: right;\">\n",
       "      <th></th>\n",
       "      <th>user_id</th>\n",
       "      <th>movie_id</th>\n",
       "      <th>counts</th>\n",
       "      <th>title</th>\n",
       "    </tr>\n",
       "  </thead>\n",
       "  <tbody>\n",
       "    <tr>\n",
       "      <th>0</th>\n",
       "      <td>901203</td>\n",
       "      <td>153</td>\n",
       "      <td>5</td>\n",
       "      <td>batman forever (1995)</td>\n",
       "    </tr>\n",
       "    <tr>\n",
       "      <th>1</th>\n",
       "      <td>901203</td>\n",
       "      <td>592</td>\n",
       "      <td>5</td>\n",
       "      <td>batman (1989)</td>\n",
       "    </tr>\n",
       "    <tr>\n",
       "      <th>2</th>\n",
       "      <td>901203</td>\n",
       "      <td>1377</td>\n",
       "      <td>5</td>\n",
       "      <td>batman returns (1992)</td>\n",
       "    </tr>\n",
       "    <tr>\n",
       "      <th>3</th>\n",
       "      <td>901203</td>\n",
       "      <td>1562</td>\n",
       "      <td>5</td>\n",
       "      <td>batman &amp; robin (1997)</td>\n",
       "    </tr>\n",
       "    <tr>\n",
       "      <th>4</th>\n",
       "      <td>901203</td>\n",
       "      <td>3213</td>\n",
       "      <td>5</td>\n",
       "      <td>batman: mask of the phantasm (1993)</td>\n",
       "    </tr>\n",
       "  </tbody>\n",
       "</table>\n",
       "</div>"
      ],
      "text/plain": [
       "   user_id  movie_id  counts                                title\n",
       "0   901203       153       5                batman forever (1995)\n",
       "1   901203       592       5                        batman (1989)\n",
       "2   901203      1377       5                batman returns (1992)\n",
       "3   901203      1562       5                batman & robin (1997)\n",
       "4   901203      3213       5  batman: mask of the phantasm (1993)"
      ]
     },
     "execution_count": 15,
     "metadata": {},
     "output_type": "execute_result"
    }
   ],
   "source": [
    "# 내가 좋아하는 영화 5편 리스트\n",
    "my_favorite_id = [153, 592, 1377 , 1562, 3213]\n",
    "\n",
    "my_favorite_title = []\n",
    "for i in my_favorite_id:\n",
    "    my_favorite_title.extend(list(movies[movies['movie_id'] == i]['title']))\n",
    "\n",
    "# 선정한 5편의 영화를 5번씩 봤다고 가정\n",
    "my_favorite = pd.DataFrame({'user_id': [901203]*5, 'movie_id': my_favorite_id, 'counts': [5]*5, 'title': my_favorite_title})\n",
    "my_favorite"
   ]
  },
  {
   "cell_type": "code",
   "execution_count": 16,
   "id": "9777cf4e",
   "metadata": {},
   "outputs": [
    {
     "data": {
      "text/html": [
       "<div>\n",
       "<style scoped>\n",
       "    .dataframe tbody tr th:only-of-type {\n",
       "        vertical-align: middle;\n",
       "    }\n",
       "\n",
       "    .dataframe tbody tr th {\n",
       "        vertical-align: top;\n",
       "    }\n",
       "\n",
       "    .dataframe thead th {\n",
       "        text-align: right;\n",
       "    }\n",
       "</style>\n",
       "<table border=\"1\" class=\"dataframe\">\n",
       "  <thead>\n",
       "    <tr style=\"text-align: right;\">\n",
       "      <th></th>\n",
       "      <th>user_id</th>\n",
       "      <th>movie_id</th>\n",
       "      <th>counts</th>\n",
       "      <th>timestamp</th>\n",
       "      <th>title</th>\n",
       "      <th>genre</th>\n",
       "    </tr>\n",
       "  </thead>\n",
       "  <tbody>\n",
       "    <tr>\n",
       "      <th>836478</th>\n",
       "      <td>901203</td>\n",
       "      <td>153</td>\n",
       "      <td>5</td>\n",
       "      <td>NaN</td>\n",
       "      <td>batman forever (1995)</td>\n",
       "      <td>NaN</td>\n",
       "    </tr>\n",
       "    <tr>\n",
       "      <th>836479</th>\n",
       "      <td>901203</td>\n",
       "      <td>592</td>\n",
       "      <td>5</td>\n",
       "      <td>NaN</td>\n",
       "      <td>batman (1989)</td>\n",
       "      <td>NaN</td>\n",
       "    </tr>\n",
       "    <tr>\n",
       "      <th>836480</th>\n",
       "      <td>901203</td>\n",
       "      <td>1377</td>\n",
       "      <td>5</td>\n",
       "      <td>NaN</td>\n",
       "      <td>batman returns (1992)</td>\n",
       "      <td>NaN</td>\n",
       "    </tr>\n",
       "    <tr>\n",
       "      <th>836481</th>\n",
       "      <td>901203</td>\n",
       "      <td>1562</td>\n",
       "      <td>5</td>\n",
       "      <td>NaN</td>\n",
       "      <td>batman &amp; robin (1997)</td>\n",
       "      <td>NaN</td>\n",
       "    </tr>\n",
       "    <tr>\n",
       "      <th>836482</th>\n",
       "      <td>901203</td>\n",
       "      <td>3213</td>\n",
       "      <td>5</td>\n",
       "      <td>NaN</td>\n",
       "      <td>batman: mask of the phantasm (1993)</td>\n",
       "      <td>NaN</td>\n",
       "    </tr>\n",
       "  </tbody>\n",
       "</table>\n",
       "</div>"
      ],
      "text/plain": [
       "        user_id  movie_id  counts  timestamp  \\\n",
       "836478   901203       153       5        NaN   \n",
       "836479   901203       592       5        NaN   \n",
       "836480   901203      1377       5        NaN   \n",
       "836481   901203      1562       5        NaN   \n",
       "836482   901203      3213       5        NaN   \n",
       "\n",
       "                                      title genre  \n",
       "836478                batman forever (1995)   NaN  \n",
       "836479                        batman (1989)   NaN  \n",
       "836480                batman returns (1992)   NaN  \n",
       "836481                batman & robin (1997)   NaN  \n",
       "836482  batman: mask of the phantasm (1993)   NaN  "
      ]
     },
     "execution_count": 16,
     "metadata": {},
     "output_type": "execute_result"
    }
   ],
   "source": [
    "# 내 취향 레이팅 데이터에 결합\n",
    "rating_data = rating_data.append(my_favorite, ignore_index=True)\n",
    "rating_data.tail()"
   ]
  },
  {
   "cell_type": "code",
   "execution_count": 17,
   "id": "e5e90d82",
   "metadata": {},
   "outputs": [
    {
     "data": {
      "text/html": [
       "<div>\n",
       "<style scoped>\n",
       "    .dataframe tbody tr th:only-of-type {\n",
       "        vertical-align: middle;\n",
       "    }\n",
       "\n",
       "    .dataframe tbody tr th {\n",
       "        vertical-align: top;\n",
       "    }\n",
       "\n",
       "    .dataframe thead th {\n",
       "        text-align: right;\n",
       "    }\n",
       "</style>\n",
       "<table border=\"1\" class=\"dataframe\">\n",
       "  <thead>\n",
       "    <tr style=\"text-align: right;\">\n",
       "      <th></th>\n",
       "      <th>user_id</th>\n",
       "      <th>movie_id</th>\n",
       "      <th>counts</th>\n",
       "      <th>title</th>\n",
       "    </tr>\n",
       "  </thead>\n",
       "  <tbody>\n",
       "    <tr>\n",
       "      <th>0</th>\n",
       "      <td>1</td>\n",
       "      <td>1193</td>\n",
       "      <td>5</td>\n",
       "      <td>one flew over the cuckoo's nest (1975)</td>\n",
       "    </tr>\n",
       "    <tr>\n",
       "      <th>1</th>\n",
       "      <td>1</td>\n",
       "      <td>661</td>\n",
       "      <td>3</td>\n",
       "      <td>james and the giant peach (1996)</td>\n",
       "    </tr>\n",
       "    <tr>\n",
       "      <th>2</th>\n",
       "      <td>1</td>\n",
       "      <td>914</td>\n",
       "      <td>3</td>\n",
       "      <td>my fair lady (1964)</td>\n",
       "    </tr>\n",
       "    <tr>\n",
       "      <th>3</th>\n",
       "      <td>1</td>\n",
       "      <td>3408</td>\n",
       "      <td>4</td>\n",
       "      <td>erin brockovich (2000)</td>\n",
       "    </tr>\n",
       "    <tr>\n",
       "      <th>4</th>\n",
       "      <td>1</td>\n",
       "      <td>2355</td>\n",
       "      <td>5</td>\n",
       "      <td>bug's life, a (1998)</td>\n",
       "    </tr>\n",
       "    <tr>\n",
       "      <th>...</th>\n",
       "      <td>...</td>\n",
       "      <td>...</td>\n",
       "      <td>...</td>\n",
       "      <td>...</td>\n",
       "    </tr>\n",
       "    <tr>\n",
       "      <th>836478</th>\n",
       "      <td>901203</td>\n",
       "      <td>153</td>\n",
       "      <td>5</td>\n",
       "      <td>batman forever (1995)</td>\n",
       "    </tr>\n",
       "    <tr>\n",
       "      <th>836479</th>\n",
       "      <td>901203</td>\n",
       "      <td>592</td>\n",
       "      <td>5</td>\n",
       "      <td>batman (1989)</td>\n",
       "    </tr>\n",
       "    <tr>\n",
       "      <th>836480</th>\n",
       "      <td>901203</td>\n",
       "      <td>1377</td>\n",
       "      <td>5</td>\n",
       "      <td>batman returns (1992)</td>\n",
       "    </tr>\n",
       "    <tr>\n",
       "      <th>836481</th>\n",
       "      <td>901203</td>\n",
       "      <td>1562</td>\n",
       "      <td>5</td>\n",
       "      <td>batman &amp; robin (1997)</td>\n",
       "    </tr>\n",
       "    <tr>\n",
       "      <th>836482</th>\n",
       "      <td>901203</td>\n",
       "      <td>3213</td>\n",
       "      <td>5</td>\n",
       "      <td>batman: mask of the phantasm (1993)</td>\n",
       "    </tr>\n",
       "  </tbody>\n",
       "</table>\n",
       "<p>836483 rows × 4 columns</p>\n",
       "</div>"
      ],
      "text/plain": [
       "        user_id  movie_id  counts                                   title\n",
       "0             1      1193       5  one flew over the cuckoo's nest (1975)\n",
       "1             1       661       3        james and the giant peach (1996)\n",
       "2             1       914       3                     my fair lady (1964)\n",
       "3             1      3408       4                  erin brockovich (2000)\n",
       "4             1      2355       5                    bug's life, a (1998)\n",
       "...         ...       ...     ...                                     ...\n",
       "836478   901203       153       5                   batman forever (1995)\n",
       "836479   901203       592       5                           batman (1989)\n",
       "836480   901203      1377       5                   batman returns (1992)\n",
       "836481   901203      1562       5                   batman & robin (1997)\n",
       "836482   901203      3213       5     batman: mask of the phantasm (1993)\n",
       "\n",
       "[836483 rows x 4 columns]"
      ]
     },
     "execution_count": 17,
     "metadata": {},
     "output_type": "execute_result"
    }
   ],
   "source": [
    "# 필요 컬럼만 남기고 모두 제거\n",
    "using_cols = ['user_id', 'movie_id', 'counts', 'title']\n",
    "rating_data = rating_data[using_cols]\n",
    "rating_data"
   ]
  },
  {
   "cell_type": "markdown",
   "id": "3dd57358",
   "metadata": {},
   "source": [
    "## 4. CSR matrix를 직접 만들어 봅시다."
   ]
  },
  {
   "cell_type": "code",
   "execution_count": 18,
   "id": "448aed9a",
   "metadata": {},
   "outputs": [],
   "source": [
    "# 고유한 유저와 영화의 개수\n",
    "user_unique = rating_data['user_id'].unique()\n",
    "movie_unique = rating_data['title'].unique()\n",
    "\n",
    "\n",
    "# 고유한 값의 개수만큼 유저 id와 영화 제목을 indexing\n",
    "user_to_idx = {v: k for k, v in enumerate(user_unique)}\n",
    "movie_to_idx = {v: k for k, v in enumerate(movie_unique)}"
   ]
  },
  {
   "cell_type": "code",
   "execution_count": 19,
   "id": "a4bb1fde",
   "metadata": {},
   "outputs": [
    {
     "name": "stdout",
     "output_type": "stream",
     "text": [
      "user_id column indexing OK!!\n",
      "title column indexing OK!!\n"
     ]
    },
    {
     "data": {
      "text/html": [
       "<div>\n",
       "<style scoped>\n",
       "    .dataframe tbody tr th:only-of-type {\n",
       "        vertical-align: middle;\n",
       "    }\n",
       "\n",
       "    .dataframe tbody tr th {\n",
       "        vertical-align: top;\n",
       "    }\n",
       "\n",
       "    .dataframe thead th {\n",
       "        text-align: right;\n",
       "    }\n",
       "</style>\n",
       "<table border=\"1\" class=\"dataframe\">\n",
       "  <thead>\n",
       "    <tr style=\"text-align: right;\">\n",
       "      <th></th>\n",
       "      <th>user_id</th>\n",
       "      <th>movie_id</th>\n",
       "      <th>counts</th>\n",
       "      <th>title</th>\n",
       "    </tr>\n",
       "  </thead>\n",
       "  <tbody>\n",
       "    <tr>\n",
       "      <th>0</th>\n",
       "      <td>0</td>\n",
       "      <td>1193</td>\n",
       "      <td>5</td>\n",
       "      <td>0</td>\n",
       "    </tr>\n",
       "    <tr>\n",
       "      <th>1</th>\n",
       "      <td>0</td>\n",
       "      <td>661</td>\n",
       "      <td>3</td>\n",
       "      <td>1</td>\n",
       "    </tr>\n",
       "    <tr>\n",
       "      <th>2</th>\n",
       "      <td>0</td>\n",
       "      <td>914</td>\n",
       "      <td>3</td>\n",
       "      <td>2</td>\n",
       "    </tr>\n",
       "    <tr>\n",
       "      <th>3</th>\n",
       "      <td>0</td>\n",
       "      <td>3408</td>\n",
       "      <td>4</td>\n",
       "      <td>3</td>\n",
       "    </tr>\n",
       "    <tr>\n",
       "      <th>4</th>\n",
       "      <td>0</td>\n",
       "      <td>2355</td>\n",
       "      <td>5</td>\n",
       "      <td>4</td>\n",
       "    </tr>\n",
       "    <tr>\n",
       "      <th>...</th>\n",
       "      <td>...</td>\n",
       "      <td>...</td>\n",
       "      <td>...</td>\n",
       "      <td>...</td>\n",
       "    </tr>\n",
       "    <tr>\n",
       "      <th>836478</th>\n",
       "      <td>6039</td>\n",
       "      <td>153</td>\n",
       "      <td>5</td>\n",
       "      <td>515</td>\n",
       "    </tr>\n",
       "    <tr>\n",
       "      <th>836479</th>\n",
       "      <td>6039</td>\n",
       "      <td>592</td>\n",
       "      <td>5</td>\n",
       "      <td>527</td>\n",
       "    </tr>\n",
       "    <tr>\n",
       "      <th>836480</th>\n",
       "      <td>6039</td>\n",
       "      <td>1377</td>\n",
       "      <td>5</td>\n",
       "      <td>587</td>\n",
       "    </tr>\n",
       "    <tr>\n",
       "      <th>836481</th>\n",
       "      <td>6039</td>\n",
       "      <td>1562</td>\n",
       "      <td>5</td>\n",
       "      <td>1943</td>\n",
       "    </tr>\n",
       "    <tr>\n",
       "      <th>836482</th>\n",
       "      <td>6039</td>\n",
       "      <td>3213</td>\n",
       "      <td>5</td>\n",
       "      <td>387</td>\n",
       "    </tr>\n",
       "  </tbody>\n",
       "</table>\n",
       "<p>836483 rows × 4 columns</p>\n",
       "</div>"
      ],
      "text/plain": [
       "        user_id  movie_id  counts  title\n",
       "0             0      1193       5      0\n",
       "1             0       661       3      1\n",
       "2             0       914       3      2\n",
       "3             0      3408       4      3\n",
       "4             0      2355       5      4\n",
       "...         ...       ...     ...    ...\n",
       "836478     6039       153       5    515\n",
       "836479     6039       592       5    527\n",
       "836480     6039      1377       5    587\n",
       "836481     6039      1562       5   1943\n",
       "836482     6039      3213       5    387\n",
       "\n",
       "[836483 rows x 4 columns]"
      ]
     },
     "execution_count": 19,
     "metadata": {},
     "output_type": "execute_result"
    }
   ],
   "source": [
    "# user_to_idx.get을 통해 user_id 컬럼의 모든 값을 인덱싱한 Series를 구해 봅시다. \n",
    "# 혹시 정상적으로 인덱싱되지 않은 row가 있다면 인덱스가 NaN이 될 테니 dropna()로 제거합니다. \n",
    "temp_user_data = rating_data['user_id'].map(user_to_idx.get).dropna()\n",
    "if len(temp_user_data) == len(rating_data):   # 모든 row가 정상적으로 인덱싱되었다면\n",
    "    print('user_id column indexing OK!!')\n",
    "    rating_data['user_id'] = temp_user_data   # data['user_id']을 인덱싱된 Series로 교체해 줍니다. \n",
    "else:\n",
    "    print('user_id column indexing Fail!!')\n",
    "\n",
    "# movie_to_idx을 통해 title 컬럼도 동일한 방식으로 인덱싱해 줍니다. \n",
    "temp_movie_data = rating_data['title'].map(movie_to_idx.get).dropna()\n",
    "if len(temp_movie_data) == len(rating_data):\n",
    "    print('title column indexing OK!!')\n",
    "    rating_data['title'] = temp_movie_data\n",
    "else:\n",
    "    print('title column indexing Fail!!')\n",
    "\n",
    "rating_data"
   ]
  },
  {
   "cell_type": "code",
   "execution_count": 20,
   "id": "8529e9c9",
   "metadata": {},
   "outputs": [
    {
     "data": {
      "text/plain": [
       "<6040x3628 sparse matrix of type '<class 'numpy.int64'>'\n",
       "\twith 836483 stored elements in Compressed Sparse Row format>"
      ]
     },
     "execution_count": 20,
     "metadata": {},
     "output_type": "execute_result"
    }
   ],
   "source": [
    "# CSR Matrix 생성\n",
    "num_user = rating_data['user_id'].nunique()\n",
    "num_movie = rating_data['title'].nunique()\n",
    "\n",
    "csr_data = csr_matrix((rating_data['counts'], (rating_data.user_id, rating_data.title)), shape= (num_user, num_movie))\n",
    "csr_data"
   ]
  },
  {
   "cell_type": "markdown",
   "id": "5a8fedc9",
   "metadata": {},
   "source": [
    "## 5. als_model = AlternatingLeastSquares 모델을 직접 구성하여 훈련"
   ]
  },
  {
   "cell_type": "code",
   "execution_count": 21,
   "id": "cf649daf",
   "metadata": {},
   "outputs": [],
   "source": [
    "# Implicit AlternatingLeastSquares 모델의 선언\n",
    "als_model = AlternatingLeastSquares(factors=100, regularization=0.01, use_gpu=False, iterations=15, dtype=np.float32)"
   ]
  },
  {
   "cell_type": "code",
   "execution_count": 22,
   "id": "3a74c234",
   "metadata": {},
   "outputs": [
    {
     "data": {
      "text/plain": [
       "<3628x6040 sparse matrix of type '<class 'numpy.int64'>'\n",
       "\twith 836483 stored elements in Compressed Sparse Column format>"
      ]
     },
     "execution_count": 22,
     "metadata": {},
     "output_type": "execute_result"
    }
   ],
   "source": [
    "# als 모델은 input으로 (item X user 꼴의 matrix를 받기 때문에 Transpose해줍니다.)\n",
    "csr_data_transpose = csr_data.T\n",
    "csr_data_transpose"
   ]
  },
  {
   "cell_type": "code",
   "execution_count": 23,
   "id": "6e6de529",
   "metadata": {},
   "outputs": [
    {
     "data": {
      "application/vnd.jupyter.widget-view+json": {
       "model_id": "2d2cc146fd424f9083af20e195434acc",
       "version_major": 2,
       "version_minor": 0
      },
      "text/plain": [
       "  0%|          | 0/15 [00:00<?, ?it/s]"
      ]
     },
     "metadata": {},
     "output_type": "display_data"
    }
   ],
   "source": [
    "# 모델 훈련\n",
    "als_model.fit(csr_data_transpose)"
   ]
  },
  {
   "cell_type": "markdown",
   "id": "67ff56f8",
   "metadata": {},
   "source": [
    "## 6. 내가 선호하는 5가지 영화 중 하나와 그 외의 영화 하나를 골라 훈련된 모델이 예측한 나의 선호도를 파악해 보세요."
   ]
  },
  {
   "cell_type": "code",
   "execution_count": 24,
   "id": "470554f6",
   "metadata": {},
   "outputs": [],
   "source": [
    "itsme, batman = user_to_idx[901203], movie_to_idx['batman & robin (1997)']\n",
    "itsme_vector, batman_vector = als_model.user_factors[itsme], als_model.item_factors[batman]"
   ]
  },
  {
   "cell_type": "code",
   "execution_count": 25,
   "id": "e62ef019",
   "metadata": {},
   "outputs": [
    {
     "data": {
      "text/plain": [
       "array([-0.66056   ,  0.4607171 ,  0.6418394 , -0.05152865,  0.09946587,\n",
       "        0.6482755 , -0.05517736,  1.0396565 , -0.01751541, -0.39804694,\n",
       "       -0.74770695, -0.27348697,  0.3416256 ,  0.21737161, -0.14270034,\n",
       "       -0.8306284 ,  0.21972978, -0.05297855,  0.31432146, -0.39885068,\n",
       "        0.4935285 ,  0.39418438,  0.38306537,  0.2541038 ,  0.2005023 ,\n",
       "       -1.0647122 ,  0.11739679,  0.02548267,  0.0752346 ,  0.57733613,\n",
       "       -0.6730967 ,  0.5425104 ,  0.7230321 , -0.7845515 ,  0.20285602,\n",
       "       -0.13073498,  0.21578734,  0.3895055 , -0.05840174,  0.7332811 ,\n",
       "        0.12333023, -0.04098547,  0.04770608,  0.11157852,  0.528335  ,\n",
       "       -0.578999  , -0.3536632 , -0.81755847, -0.10822852, -0.16840537,\n",
       "        0.00399633,  0.17220552,  0.05376507,  0.5217052 ,  0.9252479 ,\n",
       "       -0.8950293 ,  0.2630918 ,  0.04213001, -0.00199598, -0.4990407 ,\n",
       "        0.4234499 ,  0.13828802,  0.48848635, -0.5568425 ,  0.43227285,\n",
       "        0.46659613,  0.3450636 , -0.44485837, -0.24557666,  0.05052838,\n",
       "        0.56520385,  0.6800211 , -0.7554488 , -0.84296644, -0.00297643,\n",
       "       -0.2744563 , -0.40102208,  0.20422852, -0.06413084, -0.972887  ,\n",
       "        0.5385135 ,  0.19696248, -1.0397431 , -0.556985  , -0.4507069 ,\n",
       "        0.6417384 ,  0.5454123 , -0.7867324 , -0.31284395, -0.4632526 ,\n",
       "        0.4215679 ,  0.5936164 , -0.23675764, -0.66170275,  0.24058461,\n",
       "       -0.4247118 ,  0.47765046,  0.3224656 , -0.5169274 ,  1.6859741 ],\n",
       "      dtype=float32)"
      ]
     },
     "execution_count": 25,
     "metadata": {},
     "output_type": "execute_result"
    }
   ],
   "source": [
    "itsme_vector"
   ]
  },
  {
   "cell_type": "code",
   "execution_count": 26,
   "id": "4f53a517",
   "metadata": {},
   "outputs": [
    {
     "data": {
      "text/plain": [
       "array([ 0.00725098,  0.01991482,  0.01187417,  0.00475931,  0.00880468,\n",
       "        0.01304824,  0.00050484,  0.00631626, -0.00467162, -0.00165062,\n",
       "       -0.0038978 , -0.0142313 ,  0.01596441,  0.0070756 ,  0.01416342,\n",
       "       -0.0006941 ,  0.0228993 ,  0.00373532,  0.0046697 , -0.00481381,\n",
       "        0.01736959,  0.01205216,  0.00350271,  0.01351355,  0.0031398 ,\n",
       "       -0.01211409,  0.00799512,  0.00634697,  0.01498764,  0.00797143,\n",
       "        0.00804115,  0.0093709 ,  0.00251159, -0.01202353,  0.02036694,\n",
       "        0.00902917,  0.0002889 ,  0.00718609, -0.00026251, -0.00056474,\n",
       "        0.00432667,  0.00772441,  0.00865959,  0.01749446,  0.01271439,\n",
       "       -0.00014926,  0.01233794, -0.00598081,  0.00733917, -0.00100375,\n",
       "        0.01574965,  0.00623341,  0.00891149,  0.02187805,  0.02340629,\n",
       "       -0.01224949,  0.01077078,  0.0001292 ,  0.00352218, -0.00947324,\n",
       "        0.01108622,  0.01019233,  0.01769475, -0.00723518,  0.00472549,\n",
       "        0.025884  ,  0.00753886, -0.01494937, -0.00221305,  0.02002579,\n",
       "        0.01109645,  0.02053106, -0.0032534 , -0.00995972,  0.00501624,\n",
       "        0.011417  , -0.00463597,  0.0040236 ,  0.00199048, -0.01948419,\n",
       "       -0.01257326, -0.00287811, -0.00811397, -0.0043374 ,  0.00617435,\n",
       "        0.01178802,  0.0128491 , -0.00397578,  0.00954451,  0.01286162,\n",
       "        0.00654426,  0.02160016, -0.00186187, -0.02105772, -0.00713352,\n",
       "        0.00278243,  0.01356836, -0.00557279, -0.00365139,  0.02372212],\n",
       "      dtype=float32)"
      ]
     },
     "execution_count": 26,
     "metadata": {},
     "output_type": "execute_result"
    }
   ],
   "source": [
    "batman_vector"
   ]
  },
  {
   "cell_type": "code",
   "execution_count": 27,
   "id": "0525cfc4",
   "metadata": {},
   "outputs": [
    {
     "data": {
      "text/plain": [
       "0.34249958"
      ]
     },
     "execution_count": 27,
     "metadata": {},
     "output_type": "execute_result"
    }
   ],
   "source": [
    "# 나와 스타트렉의 내적 구하기 (선호 리스트에 있는 영화)\n",
    "np.dot(itsme_vector, batman_vector)"
   ]
  },
  {
   "cell_type": "code",
   "execution_count": 28,
   "id": "30836bb0",
   "metadata": {},
   "outputs": [
    {
     "data": {
      "text/plain": [
       "-0.012840501"
      ]
     },
     "execution_count": 28,
     "metadata": {},
     "output_type": "execute_result"
    }
   ],
   "source": [
    "# 다른 영화에 대한 선호도 예측 (선호 리스트에 없는 영화)\n",
    "matrix = movie_to_idx['bug\\'s life, a (1998)']\n",
    "matrix_vector = als_model.item_factors[matrix]\n",
    "np.dot(itsme_vector, matrix_vector)"
   ]
  },
  {
   "cell_type": "markdown",
   "id": "30387eb9",
   "metadata": {},
   "source": [
    "## 7. 내가 좋아하는 영화와 비슷한 영화를 추천받아 봅시다."
   ]
  },
  {
   "cell_type": "code",
   "execution_count": 29,
   "id": "2d2a7bab",
   "metadata": {},
   "outputs": [
    {
     "data": {
      "text/plain": [
       "[(587, 1.0),\n",
       " (515, 0.855453),\n",
       " (781, 0.67831147),\n",
       " (1943, 0.64612657),\n",
       " (527, 0.5433781),\n",
       " (714, 0.50606203),\n",
       " (79, 0.5044027),\n",
       " (177, 0.50150555),\n",
       " (1909, 0.49973345),\n",
       " (530, 0.4985712),\n",
       " (1085, 0.49703684),\n",
       " (766, 0.47372958),\n",
       " (497, 0.47189656),\n",
       " (1146, 0.44988522),\n",
       " (1656, 0.44699106)]"
      ]
     },
     "execution_count": 29,
     "metadata": {},
     "output_type": "execute_result"
    }
   ],
   "source": [
    "movie_id = movie_to_idx['batman returns (1992)']\n",
    "similar_movie = als_model.similar_items(movie_id, N=15)\n",
    "similar_movie   # (movie idx, 유사도) Tuple"
   ]
  },
  {
   "cell_type": "code",
   "execution_count": 30,
   "id": "c48577aa",
   "metadata": {},
   "outputs": [
    {
     "data": {
      "text/plain": [
       "['batman returns (1992)',\n",
       " 'batman forever (1995)',\n",
       " 'dick tracy (1990)',\n",
       " 'batman & robin (1997)',\n",
       " 'batman (1989)',\n",
       " 'waterworld (1995)',\n",
       " 'maverick (1994)',\n",
       " 'three musketeers, the (1993)',\n",
       " 'addams family values (1993)',\n",
       " 'lethal weapon 4 (1998)',\n",
       " 'last action hero (1993)',\n",
       " 'goldeneye (1995)',\n",
       " 'addams family, the (1991)',\n",
       " 'quick and the dead, the (1995)',\n",
       " 'rumble in the bronx (1995)']"
      ]
     },
     "execution_count": 30,
     "metadata": {},
     "output_type": "execute_result"
    }
   ],
   "source": [
    "# movie_to_idx 를 뒤집어, index로부터 movie 이름을 얻는 dict를 생성합니다. \n",
    "idx_to_movie = {v:k for k,v in movie_to_idx.items()}\n",
    "[idx_to_movie[i[0]] for i in similar_movie]"
   ]
  },
  {
   "cell_type": "code",
   "execution_count": 31,
   "id": "d1ad0730",
   "metadata": {},
   "outputs": [],
   "source": [
    "# 비슷한 영화를 알려주는 함수\n",
    "def get_similar_movie(movie_title: str):\n",
    "    movie_id = movie_to_idx[movie_title]\n",
    "    similar_movie = als_model.similar_items(movie_id)\n",
    "    similar_movie = [idx_to_movie[i[0]] for i in similar_movie]\n",
    "    return similar_movie"
   ]
  },
  {
   "cell_type": "code",
   "execution_count": 32,
   "id": "7294fe88",
   "metadata": {},
   "outputs": [
    {
     "data": {
      "text/html": [
       "<div>\n",
       "<style scoped>\n",
       "    .dataframe tbody tr th:only-of-type {\n",
       "        vertical-align: middle;\n",
       "    }\n",
       "\n",
       "    .dataframe tbody tr th {\n",
       "        vertical-align: top;\n",
       "    }\n",
       "\n",
       "    .dataframe thead th {\n",
       "        text-align: right;\n",
       "    }\n",
       "</style>\n",
       "<table border=\"1\" class=\"dataframe\">\n",
       "  <thead>\n",
       "    <tr style=\"text-align: right;\">\n",
       "      <th></th>\n",
       "      <th>movie_id</th>\n",
       "      <th>title</th>\n",
       "      <th>genre</th>\n",
       "    </tr>\n",
       "  </thead>\n",
       "  <tbody>\n",
       "    <tr>\n",
       "      <th>315</th>\n",
       "      <td>318</td>\n",
       "      <td>shawshank redemption, the (1994)</td>\n",
       "      <td>drama</td>\n",
       "    </tr>\n",
       "  </tbody>\n",
       "</table>\n",
       "</div>"
      ],
      "text/plain": [
       "     movie_id                             title  genre\n",
       "315       318  shawshank redemption, the (1994)  drama"
      ]
     },
     "execution_count": 32,
     "metadata": {},
     "output_type": "execute_result"
    }
   ],
   "source": [
    "movies[movies['title'].str.contains('shawshank', regex=False)]"
   ]
  },
  {
   "cell_type": "code",
   "execution_count": 33,
   "id": "ca57fb59",
   "metadata": {},
   "outputs": [
    {
     "data": {
      "text/plain": [
       "['shawshank redemption, the (1994)',\n",
       " 'silence of the lambs, the (1991)',\n",
       " \"schindler's list (1993)\",\n",
       " 'pulp fiction (1994)',\n",
       " 'fargo (1996)',\n",
       " 'good will hunting (1997)',\n",
       " 'goodfellas (1990)',\n",
       " 'saving private ryan (1998)',\n",
       " 'dead man walking (1995)',\n",
       " 'usual suspects, the (1995)']"
      ]
     },
     "execution_count": 33,
     "metadata": {},
     "output_type": "execute_result"
    }
   ],
   "source": [
    "get_similar_movie('shawshank redemption, the (1994)')"
   ]
  },
  {
   "cell_type": "code",
   "execution_count": 34,
   "id": "532100e3",
   "metadata": {},
   "outputs": [
    {
     "data": {
      "text/html": [
       "<div>\n",
       "<style scoped>\n",
       "    .dataframe tbody tr th:only-of-type {\n",
       "        vertical-align: middle;\n",
       "    }\n",
       "\n",
       "    .dataframe tbody tr th {\n",
       "        vertical-align: top;\n",
       "    }\n",
       "\n",
       "    .dataframe thead th {\n",
       "        text-align: right;\n",
       "    }\n",
       "</style>\n",
       "<table border=\"1\" class=\"dataframe\">\n",
       "  <thead>\n",
       "    <tr style=\"text-align: right;\">\n",
       "      <th></th>\n",
       "      <th>movie_id</th>\n",
       "      <th>title</th>\n",
       "      <th>genre</th>\n",
       "    </tr>\n",
       "  </thead>\n",
       "  <tbody>\n",
       "    <tr>\n",
       "      <th>2571</th>\n",
       "      <td>2640</td>\n",
       "      <td>superman (1978)</td>\n",
       "      <td>action|adventure|sci-fi</td>\n",
       "    </tr>\n",
       "    <tr>\n",
       "      <th>2572</th>\n",
       "      <td>2641</td>\n",
       "      <td>superman ii (1980)</td>\n",
       "      <td>action|adventure|sci-fi</td>\n",
       "    </tr>\n",
       "    <tr>\n",
       "      <th>2573</th>\n",
       "      <td>2642</td>\n",
       "      <td>superman iii (1983)</td>\n",
       "      <td>action|adventure|sci-fi</td>\n",
       "    </tr>\n",
       "    <tr>\n",
       "      <th>2574</th>\n",
       "      <td>2643</td>\n",
       "      <td>superman iv: the quest for peace (1987)</td>\n",
       "      <td>action|adventure|sci-fi</td>\n",
       "    </tr>\n",
       "  </tbody>\n",
       "</table>\n",
       "</div>"
      ],
      "text/plain": [
       "      movie_id                                    title  \\\n",
       "2571      2640                          superman (1978)   \n",
       "2572      2641                       superman ii (1980)   \n",
       "2573      2642                      superman iii (1983)   \n",
       "2574      2643  superman iv: the quest for peace (1987)   \n",
       "\n",
       "                        genre  \n",
       "2571  action|adventure|sci-fi  \n",
       "2572  action|adventure|sci-fi  \n",
       "2573  action|adventure|sci-fi  \n",
       "2574  action|adventure|sci-fi  "
      ]
     },
     "execution_count": 34,
     "metadata": {},
     "output_type": "execute_result"
    }
   ],
   "source": [
    "movies[movies['title'].str.contains('superman', regex=False)]"
   ]
  },
  {
   "cell_type": "code",
   "execution_count": 35,
   "id": "df600980",
   "metadata": {},
   "outputs": [
    {
     "data": {
      "text/plain": [
       "['superman iii (1983)',\n",
       " 'superman iv: the quest for peace (1987)',\n",
       " 'howard the duck (1986)',\n",
       " 'cocoon: the return (1988)',\n",
       " 'my science project (1985)',\n",
       " 'superman ii (1980)',\n",
       " 'karate kid iii, the (1989)',\n",
       " 'star trek v: the final frontier (1989)',\n",
       " 'judge dredd (1995)',\n",
       " 'karate kid, part ii, the (1986)']"
      ]
     },
     "execution_count": 35,
     "metadata": {},
     "output_type": "execute_result"
    }
   ],
   "source": [
    "get_similar_movie('superman iii (1983)')"
   ]
  },
  {
   "cell_type": "markdown",
   "id": "4d579e8a",
   "metadata": {},
   "source": [
    "## 8. 내가 가장 좋아할 만한 영화들을 추천받아 봅시다."
   ]
  },
  {
   "cell_type": "code",
   "execution_count": 36,
   "id": "29d5424c",
   "metadata": {},
   "outputs": [
    {
     "data": {
      "text/plain": [
       "[(189, 0.26685297),\n",
       " (172, 0.254559),\n",
       " (781, 0.25373718),\n",
       " (675, 0.25148556),\n",
       " (188, 0.22793815),\n",
       " (201, 0.21460454),\n",
       " (763, 0.20588872),\n",
       " (977, 0.1840398),\n",
       " (57, 0.18272433),\n",
       " (714, 0.175261),\n",
       " (790, 0.1662664),\n",
       " (154, 0.16559933),\n",
       " (702, 0.16222927),\n",
       " (372, 0.1599102),\n",
       " (58, 0.15795654),\n",
       " (526, 0.15787815),\n",
       " (253, 0.15784198),\n",
       " (80, 0.15508759),\n",
       " (52, 0.15505943),\n",
       " (177, 0.1549421)]"
      ]
     },
     "execution_count": 36,
     "metadata": {},
     "output_type": "execute_result"
    }
   ],
   "source": [
    "user = user_to_idx[901203]\n",
    "# recommend에서는 user*item CSR Matrix를 받습니다.\n",
    "movie_recommended = als_model.recommend(user, csr_data, N=20, filter_already_liked_items=True)\n",
    "movie_recommended"
   ]
  },
  {
   "cell_type": "code",
   "execution_count": 37,
   "id": "e236a33a",
   "metadata": {},
   "outputs": [
    {
     "data": {
      "text/plain": [
       "['breakfast club, the (1985)',\n",
       " 'indiana jones and the last crusade (1989)',\n",
       " 'dick tracy (1990)',\n",
       " 'back to the future part iii (1990)',\n",
       " 'indiana jones and the temple of doom (1984)',\n",
       " 'who framed roger rabbit? (1988)',\n",
       " 'superman ii (1980)',\n",
       " 'adventures of robin hood, the (1938)',\n",
       " 'untouchables, the (1987)',\n",
       " 'waterworld (1995)',\n",
       " 'birdcage, the (1996)',\n",
       " 'as good as it gets (1997)',\n",
       " 'field of dreams (1989)',\n",
       " 'x-men (2000)',\n",
       " 'mission: impossible (1996)',\n",
       " 'superman (1978)',\n",
       " 'mystery men (1999)',\n",
       " 'stand by me (1986)',\n",
       " 'dead poets society (1989)',\n",
       " 'three musketeers, the (1993)']"
      ]
     },
     "execution_count": 37,
     "metadata": {},
     "output_type": "execute_result"
    }
   ],
   "source": [
    "# 인덱스를 영화 제목으로 변환\n",
    "[idx_to_movie[i[0]] for i in movie_recommended]"
   ]
  },
  {
   "cell_type": "code",
   "execution_count": 38,
   "id": "abf0b2ba",
   "metadata": {},
   "outputs": [
    {
     "data": {
      "text/plain": [
       "[('batman: mask of the phantasm (1993)', 0.061368284321995224),\n",
       " ('batman & robin (1997)', 0.04857899070330439),\n",
       " ('batman (1989)', 0.0351042920034846),\n",
       " ('batman returns (1992)', 0.007366472713301641),\n",
       " ('batman forever (1995)', 0.006527238407721786)]"
      ]
     },
     "execution_count": 38,
     "metadata": {},
     "output_type": "execute_result"
    }
   ],
   "source": [
    "# 사용자가 기록을 남긴 데이터가 특정 영화 추천에 기여한 정도를 확인\n",
    "recommended = movie_to_idx['x-men (2000)']\n",
    "explain = als_model.explain(user, csr_data, itemid=recommended)\n",
    "\n",
    "[(idx_to_movie[i[0]], i[1]) for i in explain[1]]"
   ]
  },
  {
   "cell_type": "markdown",
   "id": "2a6a7aa2",
   "metadata": {},
   "source": [
    "## 정리\n",
    "\n",
    "* 간단한 영화추천 기능을 구현해봤다. 약식으로 진행했지만 꽤 그럴싸하게 추천해주는 것 같다.\n",
    "* 배트맨 시리즈를 취향으로 입력했고, 추천해준 결과들은 헐리웃 대작들이다.\n",
    "* 이전에 회사에서 진행했던 추천서비스는 대학 연구소에서 전달해준 모델을 활용했는데, 직접 작업해보니 흥미로웠다. 앞으로 서비스를 만들 때 참고해야겠다."
   ]
  }
 ],
 "metadata": {
  "kernelspec": {
   "display_name": "Python 3 (ipykernel)",
   "language": "python",
   "name": "python3"
  },
  "language_info": {
   "codemirror_mode": {
    "name": "ipython",
    "version": 3
   },
   "file_extension": ".py",
   "mimetype": "text/x-python",
   "name": "python",
   "nbconvert_exporter": "python",
   "pygments_lexer": "ipython3",
   "version": "3.9.7"
  }
 },
 "nbformat": 4,
 "nbformat_minor": 5
}
