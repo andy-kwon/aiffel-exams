{
 "cells": [
  {
   "cell_type": "markdown",
   "id": "4f2ee27d",
   "metadata": {},
   "source": [
    "# 네이버 영화리뷰 분석"
   ]
  },
  {
   "cell_type": "markdown",
   "id": "ee5b52b3",
   "metadata": {},
   "source": [
    "### 1) 라이브러리 임포트"
   ]
  },
  {
   "cell_type": "code",
   "execution_count": 1,
   "id": "94605e19",
   "metadata": {},
   "outputs": [
    {
     "name": "stdout",
     "output_type": "stream",
     "text": [
      "Requirement already satisfied: gensim==3.8.3 in /opt/conda/lib/python3.9/site-packages (3.8.3)\n",
      "Requirement already satisfied: numpy>=1.11.3 in /opt/conda/lib/python3.9/site-packages (from gensim==3.8.3) (1.21.4)\n",
      "Requirement already satisfied: scipy>=0.18.1 in /opt/conda/lib/python3.9/site-packages (from gensim==3.8.3) (1.7.1)\n",
      "Requirement already satisfied: six>=1.5.0 in /opt/conda/lib/python3.9/site-packages (from gensim==3.8.3) (1.16.0)\n",
      "Requirement already satisfied: smart-open>=1.8.1 in /opt/conda/lib/python3.9/site-packages (from gensim==3.8.3) (5.2.1)\n",
      "\u001b[33mWARNING: Running pip as the 'root' user can result in broken permissions and conflicting behaviour with the system package manager. It is recommended to use a virtual environment instead: https://pip.pypa.io/warnings/venv\u001b[0m\n"
     ]
    }
   ],
   "source": [
    "!pip install gensim==3.8.3"
   ]
  },
  {
   "cell_type": "code",
   "execution_count": 2,
   "id": "d43dc9c9",
   "metadata": {},
   "outputs": [],
   "source": [
    "import os\n",
    "import re\n",
    "\n",
    "import numpy as np\n",
    "import pandas as pd\n",
    "import tensorflow as tf\n",
    "from tensorflow.keras.initializers import Constant\n",
    "\n",
    "from konlpy.tag import Mecab\n",
    "\n",
    "from collections import Counter\n",
    "\n",
    "import matplotlib.pyplot as plt\n",
    "\n",
    "from gensim.models.keyedvectors import Word2VecKeyedVectors\n",
    "from gensim.models import KeyedVectors"
   ]
  },
  {
   "cell_type": "code",
   "execution_count": 3,
   "id": "a7a63f6c",
   "metadata": {},
   "outputs": [],
   "source": [
    "# 랜덤 시드 설정\n",
    "tf.random.set_seed(36)\n",
    "np.random.seed(36)"
   ]
  },
  {
   "cell_type": "markdown",
   "id": "8efda3b1",
   "metadata": {},
   "source": [
    "### 2) 필수 함수 정의"
   ]
  },
  {
   "cell_type": "code",
   "execution_count": 4,
   "id": "780b6871",
   "metadata": {},
   "outputs": [],
   "source": [
    "def history_plot(history):\n",
    "    history_dict = history.history\n",
    "    \n",
    "    acc = history_dict['accuracy']\n",
    "    val_acc = history_dict['val_accuracy']\n",
    "    loss = history_dict['loss']\n",
    "    val_loss = history_dict['val_loss']\n",
    "\n",
    "    epochs = range(1, len(acc) + 1)\n",
    "\n",
    "    # \"bo\"는 \"파란색 점\"입니다\n",
    "    plt.plot(epochs, loss, 'bo', label='Training loss')\n",
    "    # b는 \"파란 실선\"입니다\n",
    "    plt.plot(epochs, val_loss, 'b', label='Validation loss')\n",
    "    plt.title('Training and validation loss')\n",
    "    plt.xlabel('Epochs')\n",
    "    plt.ylabel('Loss')\n",
    "    plt.legend()\n",
    "    plt.show()\n",
    "    \n",
    "    plt.clf()   # 그림을 초기화합니다\n",
    "    plt.plot(epochs, acc, 'bo', label='Training acc')\n",
    "    plt.plot(epochs, val_acc, 'b', label='Validation acc')\n",
    "    plt.title('Training and validation accuracy')\n",
    "    plt.xlabel('Epochs')\n",
    "    plt.ylabel('Accuracy')\n",
    "    plt.legend()\n",
    "    plt.show()\n",
    "\n",
    "# 문장 1개를 활용할 딕셔너리와 함께 주면, 단어 인덱스 리스트 벡터로 변환해 주는 함수입니다. \n",
    "# 단, 모든 문장은 <BOS>로 시작하는 것으로 합니다. \n",
    "def get_encoded_sentence(sentence, word_to_index):\n",
    "    return [word_to_index['<BOS>']]+[word_to_index[word] if word in word_to_index else word_to_index['<UNK>'] for word in sentence.split()]\n",
    "\n",
    "# 여러 개의 문장 리스트를 한꺼번에 단어 인덱스 리스트 벡터로 encode해 주는 함수입니다. \n",
    "def get_encoded_sentences(sentences, word_to_index):\n",
    "    return [get_encoded_sentence(sentence, word_to_index) for sentence in sentences]\n",
    "\n",
    "# 숫자 벡터로 encode된 문장을 원래대로 decode하는 함수입니다. \n",
    "def get_decoded_sentence(encoded_sentence, index_to_word):\n",
    "    return ' '.join(index_to_word[index] if index in index_to_word else '<UNK>' for index in encoded_sentence[1:])  #[1:]를 통해 <BOS>를 제외\n",
    "\n",
    "# 여러 개의 숫자 벡터로 encode된 문장을 한꺼번에 원래대로 decode하는 함수입니다. \n",
    "def get_decoded_sentences(encoded_sentences, index_to_word):\n",
    "    return [get_decoded_sentence(encoded_sentence, index_to_word) for encoded_sentence in encoded_sentences]"
   ]
  },
  {
   "cell_type": "markdown",
   "id": "dd46464c",
   "metadata": {},
   "source": [
    "### 3) 네이버 리뷰 데이터 로드"
   ]
  },
  {
   "cell_type": "code",
   "execution_count": 5,
   "id": "6de53cd0",
   "metadata": {
    "scrolled": true
   },
   "outputs": [
    {
     "data": {
      "text/html": [
       "<div>\n",
       "<style scoped>\n",
       "    .dataframe tbody tr th:only-of-type {\n",
       "        vertical-align: middle;\n",
       "    }\n",
       "\n",
       "    .dataframe tbody tr th {\n",
       "        vertical-align: top;\n",
       "    }\n",
       "\n",
       "    .dataframe thead th {\n",
       "        text-align: right;\n",
       "    }\n",
       "</style>\n",
       "<table border=\"1\" class=\"dataframe\">\n",
       "  <thead>\n",
       "    <tr style=\"text-align: right;\">\n",
       "      <th></th>\n",
       "      <th>id</th>\n",
       "      <th>document</th>\n",
       "      <th>label</th>\n",
       "    </tr>\n",
       "  </thead>\n",
       "  <tbody>\n",
       "    <tr>\n",
       "      <th>0</th>\n",
       "      <td>9976970</td>\n",
       "      <td>아 더빙   진짜 짜증나네요 목소리</td>\n",
       "      <td>0</td>\n",
       "    </tr>\n",
       "    <tr>\n",
       "      <th>1</th>\n",
       "      <td>3819312</td>\n",
       "      <td>흠   포스터보고 초딩영화줄    오버연기조차 가볍지 않구나</td>\n",
       "      <td>1</td>\n",
       "    </tr>\n",
       "    <tr>\n",
       "      <th>2</th>\n",
       "      <td>10265843</td>\n",
       "      <td>너무재밓었다그래서보는것을추천한다</td>\n",
       "      <td>0</td>\n",
       "    </tr>\n",
       "    <tr>\n",
       "      <th>3</th>\n",
       "      <td>9045019</td>\n",
       "      <td>교도소 이야기구먼   솔직히 재미는 없다  평점 조정</td>\n",
       "      <td>0</td>\n",
       "    </tr>\n",
       "    <tr>\n",
       "      <th>4</th>\n",
       "      <td>6483659</td>\n",
       "      <td>사이몬페그의 익살스런 연기가 돋보였던 영화 스파이더맨에서 늙어보이기만 했던 커스틴 ...</td>\n",
       "      <td>1</td>\n",
       "    </tr>\n",
       "    <tr>\n",
       "      <th>5</th>\n",
       "      <td>5403919</td>\n",
       "      <td>막 걸음마 뗀  세부터 초등학교  학년생인  살용영화       별반개도 아까움</td>\n",
       "      <td>0</td>\n",
       "    </tr>\n",
       "    <tr>\n",
       "      <th>6</th>\n",
       "      <td>7797314</td>\n",
       "      <td>원작의 긴장감을 제대로 살려내지못했다</td>\n",
       "      <td>0</td>\n",
       "    </tr>\n",
       "    <tr>\n",
       "      <th>7</th>\n",
       "      <td>9443947</td>\n",
       "      <td>별 반개도 아깝다 욕나온다 이응경 길용우 연기생활이몇년인지  정말 발로해도 그것보단...</td>\n",
       "      <td>0</td>\n",
       "    </tr>\n",
       "    <tr>\n",
       "      <th>8</th>\n",
       "      <td>7156791</td>\n",
       "      <td>액션이 없는데도 재미 있는 몇안되는 영화</td>\n",
       "      <td>1</td>\n",
       "    </tr>\n",
       "    <tr>\n",
       "      <th>9</th>\n",
       "      <td>5912145</td>\n",
       "      <td>왜케 평점이 낮은건데  꽤 볼만한데   헐리우드식 화려함에만 너무 길들여져 있나</td>\n",
       "      <td>1</td>\n",
       "    </tr>\n",
       "  </tbody>\n",
       "</table>\n",
       "</div>"
      ],
      "text/plain": [
       "         id                                           document  label\n",
       "0   9976970                                아 더빙   진짜 짜증나네요 목소리      0\n",
       "1   3819312                  흠   포스터보고 초딩영화줄    오버연기조차 가볍지 않구나      1\n",
       "2  10265843                                  너무재밓었다그래서보는것을추천한다      0\n",
       "3   9045019                      교도소 이야기구먼   솔직히 재미는 없다  평점 조정      0\n",
       "4   6483659  사이몬페그의 익살스런 연기가 돋보였던 영화 스파이더맨에서 늙어보이기만 했던 커스틴 ...      1\n",
       "5   5403919      막 걸음마 뗀  세부터 초등학교  학년생인  살용영화       별반개도 아까움       0\n",
       "6   7797314                              원작의 긴장감을 제대로 살려내지못했다       0\n",
       "7   9443947  별 반개도 아깝다 욕나온다 이응경 길용우 연기생활이몇년인지  정말 발로해도 그것보단...      0\n",
       "8   7156791                             액션이 없는데도 재미 있는 몇안되는 영화      1\n",
       "9   5912145      왜케 평점이 낮은건데  꽤 볼만한데   헐리우드식 화려함에만 너무 길들여져 있나       1"
      ]
     },
     "execution_count": 5,
     "metadata": {},
     "output_type": "execute_result"
    }
   ],
   "source": [
    "root_path = '~/aiffel/sentiment_classification/data'\n",
    "train_data = pd.read_table(root_path + '/ratings_train.txt')\n",
    "test_data = pd.read_table(root_path + '/ratings_test.txt')\n",
    "\n",
    "# 의미없는 자-모 형태, 기타기호 모두 제거\n",
    "train_data['document'] = train_data['document'].str.replace(r'[^가-힣\\s]', ' ', regex=True)\n",
    "test_data['document'] = test_data['document'].str.replace(r'[^가-힣\\s]', ' ', regex=True)\n",
    "\n",
    "train_data.head(10)"
   ]
  },
  {
   "cell_type": "markdown",
   "id": "024b6616",
   "metadata": {},
   "source": [
    "### 4) 문자 토큰화, train/test 데이터 분리"
   ]
  },
  {
   "cell_type": "code",
   "execution_count": 28,
   "id": "a9c88b57",
   "metadata": {},
   "outputs": [
    {
     "name": "stdout",
     "output_type": "stream",
     "text": [
      "elapsed time: 57.7958\n",
      "X_train size: 144809\n",
      "y_train size: 144809\n",
      "X_test size: 48719\n",
      "y_test size: 48719\n",
      "words: 10000\n"
     ]
    }
   ],
   "source": [
    "tokenizer = Mecab()\n",
    "stopwords = ['의','가','이','은','들','는','좀','잘','걍','과','도','를',\n",
    "             '으로','자','에','와','한','하다']\n",
    "\n",
    "def load_data(train_data, test_data, num_words=10000):\n",
    "    train_data.drop_duplicates(subset=['document'], inplace=True)\n",
    "    train_data = train_data.dropna(how = 'any')\n",
    "    test_data.drop_duplicates(subset=['document'], inplace=True)\n",
    "    test_data = test_data.dropna(how = 'any')\n",
    "\n",
    "    X_train = []\n",
    "    for idx, sentence in enumerate(train_data['document']):\n",
    "        temp_X = tokenizer.morphs(sentence)\n",
    "        temp_X = [word for word in temp_X if word not in stopwords] # 불용어 제거\n",
    "        X_train.append(temp_X)\n",
    "\n",
    "    X_test = []\n",
    "    for idx, sentence in enumerate(test_data['document']):\n",
    "        temp_X = tokenizer.morphs(sentence)\n",
    "        temp_X = [word for word in temp_X if word not in stopwords] # 불용어 제거\n",
    "        X_test.append(temp_X)\n",
    "\n",
    "    words = np.concatenate(X_train).tolist()\n",
    "    counter = Counter(words)\n",
    "    counter = counter.most_common(num_words - 4)\n",
    "    vocab = ['<PAD>', '<BOS>', '<UNK>', '<UNUSED>'] + [key for key, _ in counter]\n",
    "    word_to_index = {word:index for index, word in enumerate(vocab)}\n",
    " \n",
    "    def wordlist_to_indexlist(wordlist):\n",
    "        return [word_to_index[word] if word in word_to_index else word_to_index['<UNK>'] for word in wordlist]\n",
    "\n",
    "    X_train = list(map(wordlist_to_indexlist, X_train))\n",
    "    X_test = list(map(wordlist_to_indexlist, X_test))\n",
    "\n",
    "    return (\n",
    "        X_train,\n",
    "        np.array(list(train_data['label'])),\n",
    "        X_test,\n",
    "        np.array(list(test_data['label'])),\n",
    "        word_to_index\n",
    "    )\n",
    "\n",
    "# 각 사전크기별로 모델 돌릴때마다 전처리가 너무 느려서 딕셔너리에 저장해둠\n",
    "import time\n",
    "start_time = time.time()\n",
    "train_set = {}\n",
    "for num in [10000, 20000, 30000]:\n",
    "    train_set[num] = load_data(\n",
    "        train_data, test_data, num_words=num\n",
    "    )\n",
    "print(f'elapsed time: {(time.time() - start_time):.4f}')\n",
    "\n",
    "X_train, y_train, X_test, y_test, word_to_index = train_set[10000]\n",
    "print(\"X_train size:\", len(X_train))\n",
    "print(\"y_train size:\", len(y_train))\n",
    "print(\"X_test size:\", len(X_test))\n",
    "print(\"y_test size:\", len(y_test))\n",
    "\n",
    "index_to_word = {index: word for word, index in word_to_index.items()}\n",
    "print(\"words:\", len(index_to_word))"
   ]
  },
  {
   "cell_type": "markdown",
   "id": "7ad8d38a",
   "metadata": {},
   "source": [
    "### 5) 전처리 데이터 index to word 확인"
   ]
  },
  {
   "cell_type": "code",
   "execution_count": 7,
   "id": "83156c6d",
   "metadata": {},
   "outputs": [
    {
     "name": "stdout",
     "output_type": "stream",
     "text": [
      "[27, 65, 868, 33, 208, 15, 28, 688]\n",
      "더 빙 진짜 짜증 나 네요 목소리\n",
      "라벨:  0\n",
      "[958, 472, 482, 630, 4, 108, 1537, 47, 858, 935, 11, 39, 354]\n",
      "포스터 보고 초딩 영화 줄 오버 연기 조차 가볍 지 않 구나\n",
      "라벨:  1\n",
      "[19, 187, 2]\n",
      "재 <UNK>\n",
      "라벨:  0\n",
      "[8007, 140, 4035, 270, 83, 13, 5, 51, 3306]\n",
      "이야기 구먼 솔직히 재미 없 다 평점 조정\n",
      "라벨:  0\n",
      "[2, 8462, 1035, 47, 2682, 53, 4, 2610, 34, 1106, 29, 317, 36, 17, 35, 53, 2, 2, 385, 2903, 1657, 5]\n",
      "익살 스런 연기 돋보였 던 영화 스파이더맨 에서 늙 어 보이 기 만 했 던 <UNK> <UNK> 너무나 이뻐 보였 다\n",
      "라벨:  1\n"
     ]
    }
   ],
   "source": [
    "for i in range(5):\n",
    "    print(X_train[i])\n",
    "    print(get_decoded_sentence(X_train[i], index_to_word))\n",
    "    print('라벨: ', y_train[i])"
   ]
  },
  {
   "cell_type": "code",
   "execution_count": 8,
   "id": "15da5bc2",
   "metadata": {},
   "outputs": [
    {
     "name": "stdout",
     "output_type": "stream",
     "text": [
      "문장길이 평균 : 13.671396387086107\n",
      "문장길이 최대 : 83\n",
      "문장길이 표준편차 : 11.423903184065953\n",
      "pad_sequences maxlen : 36\n",
      "전체 문장의 93.43092472407093%가 maxlen 설정값 이내에 포함됩니다.\n"
     ]
    }
   ],
   "source": [
    "# 텍스트 데이터 문장 길이의 리스트 생성\n",
    "total_data_text = X_train + X_test\n",
    "num_tokens = np.array([len(tokens) for tokens in total_data_text])\n",
    "\n",
    "# 문장 길이의 평균, 최대값, 표준편차 계산\n",
    "print('문장길이 평균 :', np.mean(num_tokens))\n",
    "print('문장길이 최대 :', np.max(num_tokens))\n",
    "print('문장길이 표준편차 :', np.std(num_tokens))\n",
    "\n",
    "# 최대 길이를 (평균 + 2 * 표준편차)로 계산\n",
    "max_tokens = np.mean(num_tokens) + 2 * np.std(num_tokens)\n",
    "maxlen = int(max_tokens)\n",
    "print('pad_sequences maxlen :', maxlen)\n",
    "print(f'전체 문장의 {np.sum(num_tokens < max_tokens) / len(num_tokens) *100}%가 maxlen 설정값 이내에 포함됩니다.')\n"
   ]
  },
  {
   "cell_type": "code",
   "execution_count": 9,
   "id": "97906b23",
   "metadata": {},
   "outputs": [
    {
     "name": "stdout",
     "output_type": "stream",
     "text": [
      "(144809, 36)\n"
     ]
    }
   ],
   "source": [
    "X_train = tf.keras.preprocessing.sequence.pad_sequences(X_train,\n",
    "                                       value=word_to_index['<PAD>'],\n",
    "                                       padding='pre',\n",
    "                                       maxlen=maxlen)\n",
    "\n",
    "X_test = tf.keras.preprocessing.sequence.pad_sequences(X_test,\n",
    "                                       value=word_to_index['<PAD>'],\n",
    "                                       padding='pre',\n",
    "                                       maxlen=maxlen)\n",
    "\n",
    "print(X_train.shape)"
   ]
  },
  {
   "cell_type": "code",
   "execution_count": 10,
   "id": "a15f4166",
   "metadata": {},
   "outputs": [
    {
     "name": "stdout",
     "output_type": "stream",
     "text": [
      "x_val: (40000, 36)\n",
      "y_val: (40000,)\n",
      "partial_x_train: (104809, 36)\n",
      "partial_y_train: (104809,)\n"
     ]
    }
   ],
   "source": [
    "# 훈련용 데이터셋 146,182건 중 40,000건을 분리하여 validation set으로 사용\n",
    "x_val = X_train[:40000]\n",
    "y_val = y_train[:40000]\n",
    "\n",
    "# validation set을 제외한 나머지는 train set으로 사용\n",
    "partial_x_train = X_train[40000:]\n",
    "partial_y_train = y_train[40000:]\n",
    "\n",
    "print(\"x_val:\", x_val.shape)\n",
    "print(\"y_val:\", y_val.shape)\n",
    "print(\"partial_x_train:\", partial_x_train.shape)\n",
    "print(\"partial_y_train:\", partial_y_train.shape)"
   ]
  },
  {
   "cell_type": "markdown",
   "id": "fc5f72b4",
   "metadata": {},
   "source": [
    "## 모델 트레이닝"
   ]
  },
  {
   "cell_type": "markdown",
   "id": "77c61325",
   "metadata": {},
   "source": [
    "### 1. LSTM"
   ]
  },
  {
   "cell_type": "code",
   "execution_count": 13,
   "id": "b8dce4fe",
   "metadata": {
    "scrolled": false
   },
   "outputs": [
    {
     "name": "stdout",
     "output_type": "stream",
     "text": [
      "Model: \"sequential_2\"\n",
      "_________________________________________________________________\n",
      "Layer (type)                 Output Shape              Param #   \n",
      "=================================================================\n",
      "embedding_2 (Embedding)      (None, None, 36)          360000    \n",
      "_________________________________________________________________\n",
      "lstm_2 (LSTM)                (None, 256)               300032    \n",
      "_________________________________________________________________\n",
      "dense_4 (Dense)              (None, 8)                 2056      \n",
      "_________________________________________________________________\n",
      "dense_5 (Dense)              (None, 1)                 9         \n",
      "=================================================================\n",
      "Total params: 662,097\n",
      "Trainable params: 662,097\n",
      "Non-trainable params: 0\n",
      "_________________________________________________________________\n",
      "None\n",
      "Epoch 1/3\n",
      "6551/6551 [==============================] - 39s 6ms/step - loss: 0.3885 - accuracy: 0.8234 - val_loss: 0.3461 - val_accuracy: 0.8470\n",
      "Epoch 2/3\n",
      "6551/6551 [==============================] - 37s 6ms/step - loss: 0.3070 - accuracy: 0.8674 - val_loss: 0.3321 - val_accuracy: 0.8550\n",
      "Epoch 3/3\n",
      "6551/6551 [==============================] - 37s 6ms/step - loss: 0.2686 - accuracy: 0.8864 - val_loss: 0.3358 - val_accuracy: 0.8550\n"
     ]
    },
    {
     "data": {
      "image/png": "[encoded data removed]",
      "text/plain": [
       "<Figure size 432x288 with 1 Axes>"
      ]
     },
     "metadata": {
      "needs_background": "light"
     },
     "output_type": "display_data"
    },
    {
     "data": {
      "image/png": "[encoded data removed]",
      "text/plain": [
       "<Figure size 432x288 with 1 Axes>"
      ]
     },
     "metadata": {
      "needs_background": "light"
     },
     "output_type": "display_data"
    },
    {
     "name": "stdout",
     "output_type": "stream",
     "text": [
      "1523/1523 - 4s - loss: 0.3389 - accuracy: 0.8517\n",
      "LSTM: 85.1742%, loss: 33.8910%\n"
     ]
    }
   ],
   "source": [
    "vocab_size = 10000\n",
    "word_vector_dim = 36\n",
    "\n",
    "# LSTM 레이어로 모델 설계\n",
    "model = tf.keras.Sequential()\n",
    "model.add(tf.keras.layers.Embedding(vocab_size, word_vector_dim, input_shape=(None,)))\n",
    "model.add(tf.keras.layers.LSTM(256))\n",
    "model.add(tf.keras.layers.Dense(8, activation='relu'))\n",
    "model.add(tf.keras.layers.Dense(1, activation='sigmoid'))\n",
    "\n",
    "print(model.summary())\n",
    "\n",
    "# model 학습\n",
    "model.compile(optimizer='adam',\n",
    "             loss='binary_crossentropy',\n",
    "             metrics=['accuracy'])\n",
    "\n",
    "epochs = 3  # epochs 3회 이후부터 정확도 하락\n",
    "\n",
    "history = model.fit(partial_x_train,\n",
    "                   partial_y_train,\n",
    "                   epochs=epochs,\n",
    "                   batch_size=16,\n",
    "                   validation_data=(x_val, y_val),\n",
    "                   verbose=1)\n",
    "\n",
    "history_plot(history)\n",
    "\n",
    "results = model.evaluate(X_test, y_test, verbose=2)\n",
    "print(f'LSTM: {results[1]*100:.4f}%, loss: {results[0]*100:.4f}%')"
   ]
  },
  {
   "cell_type": "markdown",
   "id": "95c0edc4",
   "metadata": {},
   "source": [
    "> Epoch 3회 이후부터 정확도가 하락한다.\n",
    ">\n",
    "> LSTM 정확도 85.17%"
   ]
  },
  {
   "cell_type": "markdown",
   "id": "25bac99f",
   "metadata": {},
   "source": [
    "### 2. 1-D CNN"
   ]
  },
  {
   "cell_type": "code",
   "execution_count": 16,
   "id": "22e55237",
   "metadata": {
    "scrolled": false
   },
   "outputs": [
    {
     "name": "stdout",
     "output_type": "stream",
     "text": [
      "Model: \"sequential_5\"\n",
      "_________________________________________________________________\n",
      "Layer (type)                 Output Shape              Param #   \n",
      "=================================================================\n",
      "embedding_5 (Embedding)      (None, None, 36)          360000    \n",
      "_________________________________________________________________\n",
      "conv1d_4 (Conv1D)            (None, None, 16)          1744      \n",
      "_________________________________________________________________\n",
      "max_pooling1d_2 (MaxPooling1 (None, None, 16)          0         \n",
      "_________________________________________________________________\n",
      "conv1d_5 (Conv1D)            (None, None, 16)          784       \n",
      "_________________________________________________________________\n",
      "global_max_pooling1d_2 (Glob (None, 16)                0         \n",
      "_________________________________________________________________\n",
      "dense_10 (Dense)             (None, 8)                 136       \n",
      "_________________________________________________________________\n",
      "dense_11 (Dense)             (None, 1)                 9         \n",
      "=================================================================\n",
      "Total params: 362,673\n",
      "Trainable params: 362,673\n",
      "Non-trainable params: 0\n",
      "_________________________________________________________________\n",
      "None\n",
      "Epoch 1/5\n",
      "410/410 [==============================] - 3s 5ms/step - loss: 0.5646 - accuracy: 0.6792 - val_loss: 0.4941 - val_accuracy: 0.7346\n",
      "Epoch 2/5\n",
      "410/410 [==============================] - 2s 5ms/step - loss: 0.4551 - accuracy: 0.7667 - val_loss: 0.4865 - val_accuracy: 0.7416\n",
      "Epoch 3/5\n",
      "410/410 [==============================] - 2s 5ms/step - loss: 0.4025 - accuracy: 0.7961 - val_loss: 0.5004 - val_accuracy: 0.7407\n",
      "Epoch 4/5\n",
      "410/410 [==============================] - 2s 5ms/step - loss: 0.3481 - accuracy: 0.8251 - val_loss: 0.5398 - val_accuracy: 0.7345\n",
      "Epoch 5/5\n",
      "410/410 [==============================] - 2s 5ms/step - loss: 0.2975 - accuracy: 0.8486 - val_loss: 0.5948 - val_accuracy: 0.7293\n"
     ]
    },
    {
     "data": {
      "image/png": "[encoded data removed]",
      "text/plain": [
       "<Figure size 432x288 with 1 Axes>"
      ]
     },
     "metadata": {
      "needs_background": "light"
     },
     "output_type": "display_data"
    },
    {
     "data": {
      "image/png": "[encoded data removed]",
      "text/plain": [
       "<Figure size 432x288 with 1 Axes>"
      ]
     },
     "metadata": {
      "needs_background": "light"
     },
     "output_type": "display_data"
    },
    {
     "name": "stdout",
     "output_type": "stream",
     "text": [
      "1523/1523 - 2s - loss: 0.6023 - accuracy: 0.7231\n",
      "1-D CNN: 72.3085%, loss: 60.2326%\n"
     ]
    }
   ],
   "source": [
    "vocab_size = 10000    # 어휘 사전의 크기(10,000개의 단어)\n",
    "word_vector_dim = 36  # 단어 하나를 표현하는 임베딩 벡터의 차원수 (변경가능)\n",
    "\n",
    "model = tf.keras.Sequential()\n",
    "model.add(tf.keras.layers.Embedding(vocab_size, word_vector_dim, input_shape=(None,)))\n",
    "model.add(tf.keras.layers.Conv1D(16, 3, activation='relu'))\n",
    "model.add(tf.keras.layers.MaxPooling1D(5))\n",
    "model.add(tf.keras.layers.Conv1D(16, 3, activation='relu'))\n",
    "model.add(tf.keras.layers.GlobalMaxPooling1D())\n",
    "model.add(tf.keras.layers.Dense(8, activation='relu'))\n",
    "model.add(tf.keras.layers.Dense(1, activation='sigmoid'))\n",
    "\n",
    "print(model.summary())\n",
    "\n",
    "# model 학습\n",
    "model.compile(optimizer='adam',\n",
    "             loss='binary_crossentropy',\n",
    "             metrics=['accuracy'])\n",
    "\n",
    "epochs = 5\n",
    "\n",
    "history = model.fit(partial_x_train,\n",
    "                   partial_y_train,\n",
    "                   epochs=epochs,\n",
    "                   batch_size=256,\n",
    "                   validation_data=(x_val, y_val),\n",
    "                   verbose=1)\n",
    "\n",
    "history_plot(history)\n",
    "\n",
    "results = model.evaluate(X_test,  y_test, verbose=2)\n",
    "print(f'1-D CNN: {results[1]*100:.4f}%, loss: {results[0]*100:.4f}%')"
   ]
  },
  {
   "cell_type": "markdown",
   "id": "4fca7756",
   "metadata": {},
   "source": [
    "> Epoch 10회로 늘려도 정확도가 올라갈 기미가 없다..\n",
    ">\n",
    "> 1-D CNN 정확도 72.3%"
   ]
  },
  {
   "cell_type": "markdown",
   "id": "6c144b18",
   "metadata": {},
   "source": [
    "### 3. GlobalMaxPooling1D"
   ]
  },
  {
   "cell_type": "code",
   "execution_count": 17,
   "id": "b95f5bf2",
   "metadata": {
    "scrolled": false
   },
   "outputs": [
    {
     "name": "stdout",
     "output_type": "stream",
     "text": [
      "Model: \"sequential_6\"\n",
      "_________________________________________________________________\n",
      "Layer (type)                 Output Shape              Param #   \n",
      "=================================================================\n",
      "embedding_6 (Embedding)      (None, None, 16)          160000    \n",
      "_________________________________________________________________\n",
      "global_max_pooling1d_3 (Glob (None, 16)                0         \n",
      "_________________________________________________________________\n",
      "dense_12 (Dense)             (None, 8)                 136       \n",
      "_________________________________________________________________\n",
      "dense_13 (Dense)             (None, 1)                 9         \n",
      "=================================================================\n",
      "Total params: 160,145\n",
      "Trainable params: 160,145\n",
      "Non-trainable params: 0\n",
      "_________________________________________________________________\n",
      "None\n",
      "Epoch 1/5\n",
      "410/410 [==============================] - 2s 4ms/step - loss: 0.5464 - accuracy: 0.7438 - val_loss: 0.4019 - val_accuracy: 0.8205\n",
      "Epoch 2/5\n",
      "410/410 [==============================] - 1s 4ms/step - loss: 0.3715 - accuracy: 0.8387 - val_loss: 0.3705 - val_accuracy: 0.8340\n",
      "Epoch 3/5\n",
      "410/410 [==============================] - 1s 4ms/step - loss: 0.3312 - accuracy: 0.8594 - val_loss: 0.3657 - val_accuracy: 0.8372\n",
      "Epoch 4/5\n",
      "410/410 [==============================] - 1s 4ms/step - loss: 0.3053 - accuracy: 0.8720 - val_loss: 0.3686 - val_accuracy: 0.8385\n",
      "Epoch 5/5\n",
      "410/410 [==============================] - 1s 4ms/step - loss: 0.2851 - accuracy: 0.8822 - val_loss: 0.3757 - val_accuracy: 0.8378\n"
     ]
    },
    {
     "data": {
      "image/png": "[encoded data removed]",
      "text/plain": [
       "<Figure size 432x288 with 1 Axes>"
      ]
     },
     "metadata": {
      "needs_background": "light"
     },
     "output_type": "display_data"
    },
    {
     "data": {
      "image/png": "[encoded data removed]",
      "text/plain": [
       "<Figure size 432x288 with 1 Axes>"
      ]
     },
     "metadata": {
      "needs_background": "light"
     },
     "output_type": "display_data"
    },
    {
     "name": "stdout",
     "output_type": "stream",
     "text": [
      "1523/1523 - 2s - loss: 0.3847 - accuracy: 0.8343\n",
      "GlobalMaxPooling1D: 83.4274%, loss: 38.4688%\n"
     ]
    }
   ],
   "source": [
    "vocab_size = 10000    # 어휘 사전의 크기(10,000개의 단어)\n",
    "word_vector_dim = 16  # 단어 하나를 표현하는 임베딩 벡터의 차원수 (변경가능)\n",
    "\n",
    "model = tf.keras.Sequential()\n",
    "model.add(tf.keras.layers.Embedding(vocab_size, word_vector_dim, input_shape=(None,)))\n",
    "model.add(tf.keras.layers.GlobalMaxPooling1D())\n",
    "model.add(tf.keras.layers.Dense(8, activation='relu'))\n",
    "model.add(tf.keras.layers.Dense(1, activation='sigmoid'))  # 최종 출력은 긍정/부정을 나타내는 1dim\n",
    "\n",
    "print(model.summary())\n",
    "\n",
    "# model 학습\n",
    "model.compile(optimizer='adam',\n",
    "             loss='binary_crossentropy',\n",
    "             metrics=['accuracy'])\n",
    "\n",
    "epochs = 5\n",
    "\n",
    "history = model.fit(partial_x_train,\n",
    "                   partial_y_train,\n",
    "                   epochs=epochs,\n",
    "                   batch_size=256,\n",
    "                   validation_data=(x_val, y_val),\n",
    "                   verbose=1)\n",
    "\n",
    "history_plot(history)\n",
    "\n",
    "results = model.evaluate(X_test,  y_test, verbose=2)\n",
    "print(f'GlobalMaxPooling1D: {results[1]*100:.4f}%, loss: {results[0]*100:.4f}%')"
   ]
  },
  {
   "cell_type": "markdown",
   "id": "fdea20af",
   "metadata": {},
   "source": [
    "> 1-D CNN 방식보단 효과적이다\n",
    ">\n",
    "> GlobalMaxPooling1D 정확도 83.42%"
   ]
  },
  {
   "cell_type": "markdown",
   "id": "6c59894e",
   "metadata": {},
   "source": [
    "### 4. word2vec & LSTM"
   ]
  },
  {
   "cell_type": "code",
   "execution_count": 18,
   "id": "f0da95df",
   "metadata": {},
   "outputs": [
    {
     "name": "stdout",
     "output_type": "stream",
     "text": [
      "Word2Vec(vocab=30185, size=200, alpha=0.025)\n"
     ]
    },
    {
     "data": {
      "text/plain": [
       "[('슬픔', 0.7216662764549255),\n",
       " ('행복', 0.6759077310562134),\n",
       " ('절망', 0.6468985080718994),\n",
       " ('기쁨', 0.6458414196968079),\n",
       " ('이별', 0.6334798336029053),\n",
       " ('추억', 0.6320937275886536),\n",
       " ('인생', 0.6216273307800293),\n",
       " ('애정', 0.6206069588661194),\n",
       " ('연인', 0.6186063289642334),\n",
       " ('유혹', 0.5965287685394287)]"
      ]
     },
     "execution_count": 18,
     "metadata": {},
     "output_type": "execute_result"
    }
   ],
   "source": [
    "import gensim\n",
    "word2vec_path = os.getenv('HOME')+'/aiffel/sentiment_classification/data/ko.bin'\n",
    "word2vec = gensim.models.Word2Vec.load(word2vec_path)\n",
    "print(word2vec)\n",
    "word2vec.wv.most_similar(\"사랑\")"
   ]
  },
  {
   "cell_type": "code",
   "execution_count": 31,
   "id": "bd270bb6",
   "metadata": {
    "scrolled": false
   },
   "outputs": [],
   "source": [
    "# 반복 테스트를 위한 word2vec 트레이닝 함수화\n",
    "def word2vec_test(vocab_size=10000, epochs=3):\n",
    "    word_vector_dim = 200\n",
    "\n",
    "    X_train, y_train, X_test, y_test, word_to_index = train_set[vocab_size]\n",
    "    index_to_word = {index:word for word, index in word_to_index.items()}\n",
    "\n",
    "    total_data_text = X_train + X_test\n",
    "    num_tokens = np.array([len(tokens) for tokens in total_data_text])\n",
    "    max_tokens = np.mean(num_tokens) + 2 * np.std(num_tokens)\n",
    "    maxlen = int(max_tokens)\n",
    "\n",
    "    X_train = tf.keras.preprocessing.sequence.pad_sequences(X_train,\n",
    "                                           value=word_to_index['<PAD>'],\n",
    "                                           padding='pre',\n",
    "                                           maxlen=maxlen)\n",
    "\n",
    "    X_test = tf.keras.preprocessing.sequence.pad_sequences(X_test,\n",
    "                                           value=word_to_index['<PAD>'],\n",
    "                                           padding='pre',\n",
    "                                           maxlen=maxlen)\n",
    "\n",
    "    x_val2 = X_train[:40000]\n",
    "    y_val2 = y_train[:40000]\n",
    "\n",
    "    partial_x_train = X_train[40000:]\n",
    "    partial_y_train = y_train[40000:]\n",
    "\n",
    "    embedding_matrix = np.random.rand(vocab_size, word_vector_dim)\n",
    "\n",
    "    for i in range(4, vocab_size):\n",
    "        if index_to_word[i] in word2vec:\n",
    "            embedding_matrix[i] = word2vec[index_to_word[i]]\n",
    "\n",
    "    model = tf.keras.Sequential()\n",
    "    model.add(tf.keras.layers.Embedding(vocab_size, \n",
    "                                     word_vector_dim, \n",
    "                                     embeddings_initializer=Constant(embedding_matrix),  # 카피한 임베딩을 여기서 활용\n",
    "                                     input_length=maxlen, \n",
    "                                     trainable=True))\n",
    "\n",
    "    model.add(tf.keras.layers.LSTM(256))\n",
    "    model.add(tf.keras.layers.Dense(8, activation='relu'))\n",
    "    model.add(tf.keras.layers.Dense(1, activation='sigmoid'))\n",
    "    model.summary()\n",
    "\n",
    "    model.compile(optimizer='adam',\n",
    "                  loss='binary_crossentropy',\n",
    "                  metrics=['accuracy'])\n",
    "\n",
    "    history = model.fit(partial_x_train,\n",
    "                        partial_y_train,\n",
    "                        epochs=epochs,\n",
    "                        batch_size=64,\n",
    "                        validation_data=(x_val, y_val),\n",
    "                        verbose=1)\n",
    "\n",
    "    history_plot(history)\n",
    "\n",
    "    results = model.evaluate(X_test,  y_test, verbose=2)\n",
    "    print(f'Word2vec LSTM(사전크기 {vocab_size}): {results[1]*100:.4f}%, loss: {results[0]*100:.4f}%')"
   ]
  },
  {
   "cell_type": "markdown",
   "id": "6aff29fb",
   "metadata": {},
   "source": [
    "### 4-1. word2vec 사전크기: 10,000"
   ]
  },
  {
   "cell_type": "code",
   "execution_count": 24,
   "id": "eaa5222a",
   "metadata": {
    "scrolled": false
   },
   "outputs": [
    {
     "name": "stderr",
     "output_type": "stream",
     "text": [
      "/tmp/ipykernel_5234/2300581034.py:31: DeprecationWarning: Call to deprecated `__contains__` (Method will be removed in 4.0.0, use self.wv.__contains__() instead).\n",
      "  if index_to_word[i] in word2vec:\n",
      "/tmp/ipykernel_5234/2300581034.py:32: DeprecationWarning: Call to deprecated `__getitem__` (Method will be removed in 4.0.0, use self.wv.__getitem__() instead).\n",
      "  embedding_matrix[i] = word2vec[index_to_word[i]]\n"
     ]
    },
    {
     "name": "stdout",
     "output_type": "stream",
     "text": [
      "Model: \"sequential_9\"\n",
      "_________________________________________________________________\n",
      "Layer (type)                 Output Shape              Param #   \n",
      "=================================================================\n",
      "embedding_9 (Embedding)      (None, 36, 200)           2000000   \n",
      "_________________________________________________________________\n",
      "lstm_5 (LSTM)                (None, 256)               467968    \n",
      "_________________________________________________________________\n",
      "dense_18 (Dense)             (None, 8)                 2056      \n",
      "_________________________________________________________________\n",
      "dense_19 (Dense)             (None, 1)                 9         \n",
      "=================================================================\n",
      "Total params: 2,470,033\n",
      "Trainable params: 2,470,033\n",
      "Non-trainable params: 0\n",
      "_________________________________________________________________\n",
      "Epoch 1/2\n",
      "1638/1638 [==============================] - 13s 7ms/step - loss: 0.4051 - accuracy: 0.8119 - val_loss: 0.3332 - val_accuracy: 0.8544\n",
      "Epoch 2/2\n",
      "1638/1638 [==============================] - 11s 7ms/step - loss: 0.2982 - accuracy: 0.8723 - val_loss: 0.3260 - val_accuracy: 0.8588\n"
     ]
    },
    {
     "data": {
      "image/png": "[encoded data removed]",
      "text/plain": [
       "<Figure size 432x288 with 1 Axes>"
      ]
     },
     "metadata": {
      "needs_background": "light"
     },
     "output_type": "display_data"
    },
    {
     "data": {
      "image/png": "[encoded data removed]",
      "text/plain": [
       "<Figure size 432x288 with 1 Axes>"
      ]
     },
     "metadata": {
      "needs_background": "light"
     },
     "output_type": "display_data"
    },
    {
     "name": "stdout",
     "output_type": "stream",
     "text": [
      "1523/1523 - 4s - loss: 0.3312 - accuracy: 0.8557\n",
      "Word2vec LSTM(사전크기 10000): 85.5683%, loss: 33.1233%\n"
     ]
    }
   ],
   "source": [
    "word2vec_test(vocab_size=10000, epochs=2)"
   ]
  },
  {
   "cell_type": "markdown",
   "id": "33a21b23",
   "metadata": {},
   "source": [
    "> 일반 LSTM보단 소폭 상승했다.\n",
    ">\n",
    "> Word2vec LSTM(사전크기 10000): 85.56%"
   ]
  },
  {
   "cell_type": "markdown",
   "id": "8548a9e7",
   "metadata": {},
   "source": [
    "### 4-2. word2vec 사전크기: 20,000"
   ]
  },
  {
   "cell_type": "code",
   "execution_count": 27,
   "id": "7dd489e9",
   "metadata": {
    "scrolled": false
   },
   "outputs": [
    {
     "name": "stderr",
     "output_type": "stream",
     "text": [
      "/tmp/ipykernel_5234/2300581034.py:31: DeprecationWarning: Call to deprecated `__contains__` (Method will be removed in 4.0.0, use self.wv.__contains__() instead).\n",
      "  if index_to_word[i] in word2vec:\n",
      "/tmp/ipykernel_5234/2300581034.py:32: DeprecationWarning: Call to deprecated `__getitem__` (Method will be removed in 4.0.0, use self.wv.__getitem__() instead).\n",
      "  embedding_matrix[i] = word2vec[index_to_word[i]]\n"
     ]
    },
    {
     "name": "stdout",
     "output_type": "stream",
     "text": [
      "Model: \"sequential_12\"\n",
      "_________________________________________________________________\n",
      "Layer (type)                 Output Shape              Param #   \n",
      "=================================================================\n",
      "embedding_12 (Embedding)     (None, 36, 200)           4000000   \n",
      "_________________________________________________________________\n",
      "lstm_8 (LSTM)                (None, 256)               467968    \n",
      "_________________________________________________________________\n",
      "dense_24 (Dense)             (None, 8)                 2056      \n",
      "_________________________________________________________________\n",
      "dense_25 (Dense)             (None, 1)                 9         \n",
      "=================================================================\n",
      "Total params: 4,470,033\n",
      "Trainable params: 4,470,033\n",
      "Non-trainable params: 0\n",
      "_________________________________________________________________\n",
      "Epoch 1/3\n",
      "1638/1638 [==============================] - 15s 9ms/step - loss: 0.4052 - accuracy: 0.8128 - val_loss: 0.3332 - val_accuracy: 0.8540\n",
      "Epoch 2/3\n",
      "1638/1638 [==============================] - 13s 8ms/step - loss: 0.2911 - accuracy: 0.8760 - val_loss: 0.3217 - val_accuracy: 0.8597\n",
      "Epoch 3/3\n",
      "1638/1638 [==============================] - 13s 8ms/step - loss: 0.2323 - accuracy: 0.9053 - val_loss: 0.3329 - val_accuracy: 0.8590\n"
     ]
    },
    {
     "data": {
      "image/png": "[encoded data removed]",
      "text/plain": [
       "<Figure size 432x288 with 1 Axes>"
      ]
     },
     "metadata": {
      "needs_background": "light"
     },
     "output_type": "display_data"
    },
    {
     "data": {
      "image/png": "[encoded data removed]",
      "text/plain": [
       "<Figure size 432x288 with 1 Axes>"
      ]
     },
     "metadata": {
      "needs_background": "light"
     },
     "output_type": "display_data"
    },
    {
     "name": "stdout",
     "output_type": "stream",
     "text": [
      "1523/1523 - 4s - loss: 0.3388 - accuracy: 0.8577\n",
      "Word2vec LSTM(사전크기 20000): 85.7735%, loss: 33.8816%\n"
     ]
    }
   ],
   "source": [
    "word2vec_test(vocab_size=20000, epochs=3)"
   ]
  },
  {
   "cell_type": "markdown",
   "id": "ec72c258",
   "metadata": {},
   "source": [
    "> 사전수를 두배로 늘리니 소폭 상승했다.\n",
    ">\n",
    "> Word2vec LSTM(사전크기 20,000): 85.77%"
   ]
  },
  {
   "cell_type": "markdown",
   "id": "6a9e002a",
   "metadata": {},
   "source": [
    "### 4-1. word2vec 사전크기: 30,000"
   ]
  },
  {
   "cell_type": "code",
   "execution_count": 30,
   "id": "0b0eef23",
   "metadata": {},
   "outputs": [
    {
     "name": "stderr",
     "output_type": "stream",
     "text": [
      "/tmp/ipykernel_5234/2300581034.py:31: DeprecationWarning: Call to deprecated `__contains__` (Method will be removed in 4.0.0, use self.wv.__contains__() instead).\n",
      "  if index_to_word[i] in word2vec:\n",
      "/tmp/ipykernel_5234/2300581034.py:32: DeprecationWarning: Call to deprecated `__getitem__` (Method will be removed in 4.0.0, use self.wv.__getitem__() instead).\n",
      "  embedding_matrix[i] = word2vec[index_to_word[i]]\n"
     ]
    },
    {
     "name": "stdout",
     "output_type": "stream",
     "text": [
      "Model: \"sequential_14\"\n",
      "_________________________________________________________________\n",
      "Layer (type)                 Output Shape              Param #   \n",
      "=================================================================\n",
      "embedding_14 (Embedding)     (None, 36, 200)           6000000   \n",
      "_________________________________________________________________\n",
      "lstm_10 (LSTM)               (None, 256)               467968    \n",
      "_________________________________________________________________\n",
      "dense_28 (Dense)             (None, 8)                 2056      \n",
      "_________________________________________________________________\n",
      "dense_29 (Dense)             (None, 1)                 9         \n",
      "=================================================================\n",
      "Total params: 6,470,033\n",
      "Trainable params: 6,470,033\n",
      "Non-trainable params: 0\n",
      "_________________________________________________________________\n",
      "Epoch 1/2\n",
      "1638/1638 [==============================] - 16s 9ms/step - loss: 0.4058 - accuracy: 0.8118 - val_loss: 0.3321 - val_accuracy: 0.8561\n",
      "Epoch 2/2\n",
      "1638/1638 [==============================] - 14s 9ms/step - loss: 0.2858 - accuracy: 0.8799 - val_loss: 0.3229 - val_accuracy: 0.8592\n"
     ]
    },
    {
     "data": {
      "image/png": "[encoded data removed]",
      "text/plain": [
       "<Figure size 432x288 with 1 Axes>"
      ]
     },
     "metadata": {
      "needs_background": "light"
     },
     "output_type": "display_data"
    },
    {
     "data": {
      "image/png": "[encoded data removed]",
      "text/plain": [
       "<Figure size 432x288 with 1 Axes>"
      ]
     },
     "metadata": {
      "needs_background": "light"
     },
     "output_type": "display_data"
    },
    {
     "name": "stdout",
     "output_type": "stream",
     "text": [
      "1523/1523 - 4s - loss: 0.3277 - accuracy: 0.8585\n",
      "Word2vec LSTM(사전크기 30000): 85.8515%, loss: 32.7717%\n"
     ]
    }
   ],
   "source": [
    "word2vec_test(vocab_size=30000, epochs=2)"
   ]
  },
  {
   "cell_type": "markdown",
   "id": "51a9746d",
   "metadata": {},
   "source": [
    "> 사전수를 두배로 늘리니 소폭 상승했다.\n",
    ">\n",
    "> Word2vec LSTM(사전크기 30,000): 85.85%"
   ]
  },
  {
   "cell_type": "markdown",
   "id": "2c69acff",
   "metadata": {},
   "source": [
    "## 회고\n",
    "\n",
    "* LSTM 방식이 훈련결과가 가장 좋았다.\n",
    "    1. word2vec LSTM(사전크기 30,000): 85.85%\n",
    "    2. word2vec LSTM(사전크기 20,000): 85.77%\n",
    "    3. word2vec LSTM(사전크기 10,000): 85.56%\n",
    "    4. LSTM(사전크기 10,000): 85.17%\n",
    "* word2vec 을 적용하고 사전크기를 늘릴수록 정확도가 소폭 상승했다.\n",
    "* Mecab으로 명사+동사만 추출해 시도했을 땐 50% 언저리를 벗어나지 못했다.\n",
    "* 형태소 정리를 잘 하고, 적절한 사전크기와 그에 맞는 하이퍼파라미터 튜닝으로 85% 이상을 달성해보고 싶다."
   ]
  }
 ],
 "metadata": {
  "kernelspec": {
   "display_name": "Python 3 (ipykernel)",
   "language": "python",
   "name": "python3"
  },
  "language_info": {
   "codemirror_mode": {
    "name": "ipython",
    "version": 3
   },
   "file_extension": ".py",
   "mimetype": "text/x-python",
   "name": "python",
   "nbconvert_exporter": "python",
   "pygments_lexer": "ipython3",
   "version": "3.9.7"
  }
 },
 "nbformat": 4,
 "nbformat_minor": 5
}
