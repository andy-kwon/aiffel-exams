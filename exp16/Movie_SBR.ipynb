{
 "cells": [
  {
   "cell_type": "markdown",
   "metadata": {
    "id": "MY9fNuUVxYqY"
   },
   "source": [
    "# Movielens 영화 SBR"
   ]
  },
  {
   "cell_type": "markdown",
   "metadata": {},
   "source": [
    "## 라이브러리 임포트"
   ]
  },
  {
   "cell_type": "code",
   "execution_count": 1,
   "metadata": {
    "executionInfo": {
     "elapsed": 275,
     "status": "ok",
     "timestamp": 1630251196731,
     "user": {
      "displayName": "‍유상민[학생](이과대학 생물학과)",
      "photoUrl": "",
      "userId": "15014503589518623359"
     },
     "user_tz": -540
    },
    "id": "W74o4h9LiWeW"
   },
   "outputs": [],
   "source": [
    "import datetime as dt\n",
    "from pathlib import Path\n",
    "import os\n",
    "\n",
    "import numpy as np\n",
    "import pandas as pd\n",
    "import matplotlib.pyplot as plt\n",
    "import seaborn as sns\n",
    "\n",
    "import tensorflow as tf\n",
    "from tensorflow.keras.layers import Input, Dense, Dropout, GRU\n",
    "from tensorflow.keras.losses import categorical_crossentropy\n",
    "from tensorflow.keras.models import Model\n",
    "from tensorflow.keras.optimizers import Adam\n",
    "from tensorflow.keras.utils import to_categorical\n",
    "from tqdm import tqdm\n",
    "\n",
    "import warnings\n",
    "warnings.filterwarnings('ignore')"
   ]
  },
  {
   "cell_type": "markdown",
   "metadata": {},
   "source": [
    "## 1. 데이터 로드\n",
    "### 1-1. 데이터셋 파악\n",
    "* 항목별 기본 분석, session length, session time, cleaning 등의 작업을 진행합니다.\n",
    "* 특히, 이 데이터셋에서는 Session이 아닌 UserID 단위로 데이터가 생성되어 있으므로, 이를 Session 단위로 어떻게 해석할지에 주의합니다."
   ]
  },
  {
   "cell_type": "code",
   "execution_count": 2,
   "metadata": {
    "colab": {
     "base_uri": "https://localhost:8080/",
     "height": 417
    },
    "executionInfo": {
     "elapsed": 6037,
     "status": "ok",
     "timestamp": 1630251203938,
     "user": {
      "displayName": "‍유상민[학생](이과대학 생물학과)",
      "photoUrl": "",
      "userId": "15014503589518623359"
     },
     "user_tz": -540
    },
    "id": "7l2WlcPKhCvr",
    "outputId": "955ebb9b-4877-4ba6-e9b2-81da8dd99553"
   },
   "outputs": [
    {
     "data": {
      "text/plain": [
       "PosixPath('/aiffel/aiffel/yoochoose/data/ratings.dat')"
      ]
     },
     "execution_count": 2,
     "metadata": {},
     "output_type": "execute_result"
    }
   ],
   "source": [
    "data_path = Path(os.getenv('HOME')+'/aiffel/yoochoose/data/') \n",
    "train_path = data_path / 'ratings.dat'\n",
    "train_path"
   ]
  },
  {
   "cell_type": "code",
   "execution_count": 3,
   "metadata": {},
   "outputs": [],
   "source": [
    "def load_data(data_path: Path, nrows=None):\n",
    "    data = pd.read_csv(data_path, sep='::', header=None, usecols=[0, 1, 2, 3],\n",
    "                       dtype={0: np.int32, 1: np.int32, 2: np.int32}, nrows=nrows)\n",
    "    data.columns = ['UserId', 'ItemId', 'Rating', 'Time']\n",
    "    return data"
   ]
  },
  {
   "cell_type": "code",
   "execution_count": 4,
   "metadata": {},
   "outputs": [
    {
     "data": {
      "text/html": [
       "<div>\n",
       "<style scoped>\n",
       "    .dataframe tbody tr th:only-of-type {\n",
       "        vertical-align: middle;\n",
       "    }\n",
       "\n",
       "    .dataframe tbody tr th {\n",
       "        vertical-align: top;\n",
       "    }\n",
       "\n",
       "    .dataframe thead th {\n",
       "        text-align: right;\n",
       "    }\n",
       "</style>\n",
       "<table border=\"1\" class=\"dataframe\">\n",
       "  <thead>\n",
       "    <tr style=\"text-align: right;\">\n",
       "      <th></th>\n",
       "      <th>UserId</th>\n",
       "      <th>ItemId</th>\n",
       "      <th>Rating</th>\n",
       "      <th>Time</th>\n",
       "    </tr>\n",
       "  </thead>\n",
       "  <tbody>\n",
       "    <tr>\n",
       "      <th>31</th>\n",
       "      <td>1</td>\n",
       "      <td>3186</td>\n",
       "      <td>4</td>\n",
       "      <td>978300019</td>\n",
       "    </tr>\n",
       "    <tr>\n",
       "      <th>22</th>\n",
       "      <td>1</td>\n",
       "      <td>1270</td>\n",
       "      <td>5</td>\n",
       "      <td>978300055</td>\n",
       "    </tr>\n",
       "    <tr>\n",
       "      <th>27</th>\n",
       "      <td>1</td>\n",
       "      <td>1721</td>\n",
       "      <td>4</td>\n",
       "      <td>978300055</td>\n",
       "    </tr>\n",
       "    <tr>\n",
       "      <th>37</th>\n",
       "      <td>1</td>\n",
       "      <td>1022</td>\n",
       "      <td>5</td>\n",
       "      <td>978300055</td>\n",
       "    </tr>\n",
       "    <tr>\n",
       "      <th>24</th>\n",
       "      <td>1</td>\n",
       "      <td>2340</td>\n",
       "      <td>3</td>\n",
       "      <td>978300103</td>\n",
       "    </tr>\n",
       "    <tr>\n",
       "      <th>...</th>\n",
       "      <td>...</td>\n",
       "      <td>...</td>\n",
       "      <td>...</td>\n",
       "      <td>...</td>\n",
       "    </tr>\n",
       "    <tr>\n",
       "      <th>1000019</th>\n",
       "      <td>6040</td>\n",
       "      <td>2917</td>\n",
       "      <td>4</td>\n",
       "      <td>997454429</td>\n",
       "    </tr>\n",
       "    <tr>\n",
       "      <th>999988</th>\n",
       "      <td>6040</td>\n",
       "      <td>1921</td>\n",
       "      <td>4</td>\n",
       "      <td>997454464</td>\n",
       "    </tr>\n",
       "    <tr>\n",
       "      <th>1000172</th>\n",
       "      <td>6040</td>\n",
       "      <td>1784</td>\n",
       "      <td>3</td>\n",
       "      <td>997454464</td>\n",
       "    </tr>\n",
       "    <tr>\n",
       "      <th>1000167</th>\n",
       "      <td>6040</td>\n",
       "      <td>161</td>\n",
       "      <td>3</td>\n",
       "      <td>997454486</td>\n",
       "    </tr>\n",
       "    <tr>\n",
       "      <th>1000042</th>\n",
       "      <td>6040</td>\n",
       "      <td>1221</td>\n",
       "      <td>4</td>\n",
       "      <td>998315055</td>\n",
       "    </tr>\n",
       "  </tbody>\n",
       "</table>\n",
       "<p>1000209 rows × 4 columns</p>\n",
       "</div>"
      ],
      "text/plain": [
       "         UserId  ItemId  Rating       Time\n",
       "31            1    3186       4  978300019\n",
       "22            1    1270       5  978300055\n",
       "27            1    1721       4  978300055\n",
       "37            1    1022       5  978300055\n",
       "24            1    2340       3  978300103\n",
       "...         ...     ...     ...        ...\n",
       "1000019    6040    2917       4  997454429\n",
       "999988     6040    1921       4  997454464\n",
       "1000172    6040    1784       3  997454464\n",
       "1000167    6040     161       3  997454486\n",
       "1000042    6040    1221       4  998315055\n",
       "\n",
       "[1000209 rows x 4 columns]"
      ]
     },
     "execution_count": 4,
     "metadata": {},
     "output_type": "execute_result"
    }
   ],
   "source": [
    "data = load_data(train_path, None)\n",
    "data.sort_values(['UserId', 'Time'], inplace=True)  # data를 id와 시간 순서로 정렬해줍니다.\n",
    "data"
   ]
  },
  {
   "cell_type": "markdown",
   "metadata": {},
   "source": [
    "### 1-2. Session ID 생성 및 컬럼정리\n",
    "* ~~UserId - Date(당일 활동기준)를 기준으로 고유 세션처리 했을 때,~~ 세션 갯수가 2만여개로 축소된다.(취소)\n",
    "* UserId - Time(제출 기준) 을 기준으로 고유 세션처리 하자.\n",
    "* Time 컬럼을 DateTime 값으로 변형하자(눈으로 확인하는 데에도, 날짜 계산에도 용이)"
   ]
  },
  {
   "cell_type": "code",
   "execution_count": 5,
   "metadata": {
    "colab": {
     "base_uri": "https://localhost:8080/",
     "height": 203
    },
    "executionInfo": {
     "elapsed": 1687,
     "status": "ok",
     "timestamp": 1630251205609,
     "user": {
      "displayName": "‍유상민[학생](이과대학 생물학과)",
      "photoUrl": "",
      "userId": "15014503589518623359"
     },
     "user_tz": -540
    },
    "id": "_Rbfijv2EOe0",
    "outputId": "97fbf512-a8f1-4394-9951-231107fe8b5a",
    "scrolled": false
   },
   "outputs": [
    {
     "data": {
      "text/html": [
       "<div>\n",
       "<style scoped>\n",
       "    .dataframe tbody tr th:only-of-type {\n",
       "        vertical-align: middle;\n",
       "    }\n",
       "\n",
       "    .dataframe tbody tr th {\n",
       "        vertical-align: top;\n",
       "    }\n",
       "\n",
       "    .dataframe thead th {\n",
       "        text-align: right;\n",
       "    }\n",
       "</style>\n",
       "<table border=\"1\" class=\"dataframe\">\n",
       "  <thead>\n",
       "    <tr style=\"text-align: right;\">\n",
       "      <th></th>\n",
       "      <th>index</th>\n",
       "      <th>UserId</th>\n",
       "      <th>Time</th>\n",
       "      <th>ItemId</th>\n",
       "    </tr>\n",
       "  </thead>\n",
       "  <tbody>\n",
       "    <tr>\n",
       "      <th>0</th>\n",
       "      <td>0</td>\n",
       "      <td>1</td>\n",
       "      <td>978300019</td>\n",
       "      <td>1</td>\n",
       "    </tr>\n",
       "    <tr>\n",
       "      <th>1</th>\n",
       "      <td>1</td>\n",
       "      <td>1</td>\n",
       "      <td>978300055</td>\n",
       "      <td>3</td>\n",
       "    </tr>\n",
       "    <tr>\n",
       "      <th>2</th>\n",
       "      <td>2</td>\n",
       "      <td>1</td>\n",
       "      <td>978300103</td>\n",
       "      <td>1</td>\n",
       "    </tr>\n",
       "    <tr>\n",
       "      <th>3</th>\n",
       "      <td>3</td>\n",
       "      <td>1</td>\n",
       "      <td>978300172</td>\n",
       "      <td>1</td>\n",
       "    </tr>\n",
       "    <tr>\n",
       "      <th>4</th>\n",
       "      <td>4</td>\n",
       "      <td>1</td>\n",
       "      <td>978300275</td>\n",
       "      <td>1</td>\n",
       "    </tr>\n",
       "    <tr>\n",
       "      <th>...</th>\n",
       "      <td>...</td>\n",
       "      <td>...</td>\n",
       "      <td>...</td>\n",
       "      <td>...</td>\n",
       "    </tr>\n",
       "    <tr>\n",
       "      <th>471158</th>\n",
       "      <td>471158</td>\n",
       "      <td>6040</td>\n",
       "      <td>997454398</td>\n",
       "      <td>1</td>\n",
       "    </tr>\n",
       "    <tr>\n",
       "      <th>471159</th>\n",
       "      <td>471159</td>\n",
       "      <td>6040</td>\n",
       "      <td>997454429</td>\n",
       "      <td>1</td>\n",
       "    </tr>\n",
       "    <tr>\n",
       "      <th>471160</th>\n",
       "      <td>471160</td>\n",
       "      <td>6040</td>\n",
       "      <td>997454464</td>\n",
       "      <td>2</td>\n",
       "    </tr>\n",
       "    <tr>\n",
       "      <th>471161</th>\n",
       "      <td>471161</td>\n",
       "      <td>6040</td>\n",
       "      <td>997454486</td>\n",
       "      <td>1</td>\n",
       "    </tr>\n",
       "    <tr>\n",
       "      <th>471162</th>\n",
       "      <td>471162</td>\n",
       "      <td>6040</td>\n",
       "      <td>998315055</td>\n",
       "      <td>1</td>\n",
       "    </tr>\n",
       "  </tbody>\n",
       "</table>\n",
       "<p>471163 rows × 4 columns</p>\n",
       "</div>"
      ],
      "text/plain": [
       "         index  UserId       Time  ItemId\n",
       "0            0       1  978300019       1\n",
       "1            1       1  978300055       3\n",
       "2            2       1  978300103       1\n",
       "3            3       1  978300172       1\n",
       "4            4       1  978300275       1\n",
       "...        ...     ...        ...     ...\n",
       "471158  471158    6040  997454398       1\n",
       "471159  471159    6040  997454429       1\n",
       "471160  471160    6040  997454464       2\n",
       "471161  471161    6040  997454486       1\n",
       "471162  471162    6040  998315055       1\n",
       "\n",
       "[471163 rows x 4 columns]"
      ]
     },
     "execution_count": 5,
     "metadata": {},
     "output_type": "execute_result"
    }
   ],
   "source": [
    "session_df = data.groupby(['UserId', 'Time'])['ItemId'].count().reset_index()\n",
    "session_df.reset_index(inplace=True)\n",
    "session_df"
   ]
  },
  {
   "cell_type": "code",
   "execution_count": null,
   "metadata": {},
   "outputs": [],
   "source": []
  },
  {
   "cell_type": "code",
   "execution_count": 6,
   "metadata": {},
   "outputs": [
    {
     "data": {
      "text/html": [
       "<div>\n",
       "<style scoped>\n",
       "    .dataframe tbody tr th:only-of-type {\n",
       "        vertical-align: middle;\n",
       "    }\n",
       "\n",
       "    .dataframe tbody tr th {\n",
       "        vertical-align: top;\n",
       "    }\n",
       "\n",
       "    .dataframe thead th {\n",
       "        text-align: right;\n",
       "    }\n",
       "</style>\n",
       "<table border=\"1\" class=\"dataframe\">\n",
       "  <thead>\n",
       "    <tr style=\"text-align: right;\">\n",
       "      <th></th>\n",
       "      <th>UserId</th>\n",
       "      <th>ItemId_x</th>\n",
       "      <th>Rating</th>\n",
       "      <th>Time</th>\n",
       "      <th>index</th>\n",
       "      <th>ItemId_y</th>\n",
       "    </tr>\n",
       "  </thead>\n",
       "  <tbody>\n",
       "    <tr>\n",
       "      <th>0</th>\n",
       "      <td>1</td>\n",
       "      <td>3186</td>\n",
       "      <td>4</td>\n",
       "      <td>978300019</td>\n",
       "      <td>0</td>\n",
       "      <td>1</td>\n",
       "    </tr>\n",
       "    <tr>\n",
       "      <th>1</th>\n",
       "      <td>1</td>\n",
       "      <td>1270</td>\n",
       "      <td>5</td>\n",
       "      <td>978300055</td>\n",
       "      <td>1</td>\n",
       "      <td>3</td>\n",
       "    </tr>\n",
       "    <tr>\n",
       "      <th>2</th>\n",
       "      <td>1</td>\n",
       "      <td>1721</td>\n",
       "      <td>4</td>\n",
       "      <td>978300055</td>\n",
       "      <td>1</td>\n",
       "      <td>3</td>\n",
       "    </tr>\n",
       "    <tr>\n",
       "      <th>3</th>\n",
       "      <td>1</td>\n",
       "      <td>1022</td>\n",
       "      <td>5</td>\n",
       "      <td>978300055</td>\n",
       "      <td>1</td>\n",
       "      <td>3</td>\n",
       "    </tr>\n",
       "    <tr>\n",
       "      <th>4</th>\n",
       "      <td>1</td>\n",
       "      <td>2340</td>\n",
       "      <td>3</td>\n",
       "      <td>978300103</td>\n",
       "      <td>2</td>\n",
       "      <td>1</td>\n",
       "    </tr>\n",
       "  </tbody>\n",
       "</table>\n",
       "</div>"
      ],
      "text/plain": [
       "   UserId  ItemId_x  Rating       Time  index  ItemId_y\n",
       "0       1      3186       4  978300019      0         1\n",
       "1       1      1270       5  978300055      1         3\n",
       "2       1      1721       4  978300055      1         3\n",
       "3       1      1022       5  978300055      1         3\n",
       "4       1      2340       3  978300103      2         1"
      ]
     },
     "execution_count": 6,
     "metadata": {},
     "output_type": "execute_result"
    }
   ],
   "source": [
    "# 기존 DataFrame과 세션테이블 결합\n",
    "data = pd.merge(data, session_df, on=['UserId', 'Time'])\n",
    "data.head()"
   ]
  },
  {
   "cell_type": "code",
   "execution_count": 7,
   "metadata": {},
   "outputs": [
    {
     "data": {
      "text/html": [
       "<div>\n",
       "<style scoped>\n",
       "    .dataframe tbody tr th:only-of-type {\n",
       "        vertical-align: middle;\n",
       "    }\n",
       "\n",
       "    .dataframe tbody tr th {\n",
       "        vertical-align: top;\n",
       "    }\n",
       "\n",
       "    .dataframe thead th {\n",
       "        text-align: right;\n",
       "    }\n",
       "</style>\n",
       "<table border=\"1\" class=\"dataframe\">\n",
       "  <thead>\n",
       "    <tr style=\"text-align: right;\">\n",
       "      <th></th>\n",
       "      <th>UserId</th>\n",
       "      <th>ItemId</th>\n",
       "      <th>Rating</th>\n",
       "      <th>Time</th>\n",
       "      <th>SessionId</th>\n",
       "    </tr>\n",
       "  </thead>\n",
       "  <tbody>\n",
       "    <tr>\n",
       "      <th>0</th>\n",
       "      <td>1</td>\n",
       "      <td>3186</td>\n",
       "      <td>4</td>\n",
       "      <td>978300019</td>\n",
       "      <td>0</td>\n",
       "    </tr>\n",
       "    <tr>\n",
       "      <th>1</th>\n",
       "      <td>1</td>\n",
       "      <td>1270</td>\n",
       "      <td>5</td>\n",
       "      <td>978300055</td>\n",
       "      <td>1</td>\n",
       "    </tr>\n",
       "    <tr>\n",
       "      <th>2</th>\n",
       "      <td>1</td>\n",
       "      <td>1721</td>\n",
       "      <td>4</td>\n",
       "      <td>978300055</td>\n",
       "      <td>1</td>\n",
       "    </tr>\n",
       "    <tr>\n",
       "      <th>3</th>\n",
       "      <td>1</td>\n",
       "      <td>1022</td>\n",
       "      <td>5</td>\n",
       "      <td>978300055</td>\n",
       "      <td>1</td>\n",
       "    </tr>\n",
       "    <tr>\n",
       "      <th>4</th>\n",
       "      <td>1</td>\n",
       "      <td>2340</td>\n",
       "      <td>3</td>\n",
       "      <td>978300103</td>\n",
       "      <td>2</td>\n",
       "    </tr>\n",
       "  </tbody>\n",
       "</table>\n",
       "</div>"
      ],
      "text/plain": [
       "   UserId  ItemId  Rating       Time  SessionId\n",
       "0       1    3186       4  978300019          0\n",
       "1       1    1270       5  978300055          1\n",
       "2       1    1721       4  978300055          1\n",
       "3       1    1022       5  978300055          1\n",
       "4       1    2340       3  978300103          2"
      ]
     },
     "execution_count": 7,
     "metadata": {},
     "output_type": "execute_result"
    }
   ],
   "source": [
    "data.drop(columns='ItemId_y', inplace=True)\n",
    "data.columns = ['UserId', 'ItemId', 'Rating', 'Time', 'SessionId']\n",
    "data.head()"
   ]
  },
  {
   "cell_type": "markdown",
   "metadata": {},
   "source": [
    "* Timestamp to DateTime\n",
    "    * 978300019 -> 2000-12-31 22:00:19"
   ]
  },
  {
   "cell_type": "code",
   "execution_count": 8,
   "metadata": {},
   "outputs": [
    {
     "data": {
      "text/html": [
       "<div>\n",
       "<style scoped>\n",
       "    .dataframe tbody tr th:only-of-type {\n",
       "        vertical-align: middle;\n",
       "    }\n",
       "\n",
       "    .dataframe tbody tr th {\n",
       "        vertical-align: top;\n",
       "    }\n",
       "\n",
       "    .dataframe thead th {\n",
       "        text-align: right;\n",
       "    }\n",
       "</style>\n",
       "<table border=\"1\" class=\"dataframe\">\n",
       "  <thead>\n",
       "    <tr style=\"text-align: right;\">\n",
       "      <th></th>\n",
       "      <th>UserId</th>\n",
       "      <th>ItemId</th>\n",
       "      <th>Rating</th>\n",
       "      <th>SessionId</th>\n",
       "      <th>Time</th>\n",
       "    </tr>\n",
       "  </thead>\n",
       "  <tbody>\n",
       "    <tr>\n",
       "      <th>0</th>\n",
       "      <td>1</td>\n",
       "      <td>3186</td>\n",
       "      <td>4</td>\n",
       "      <td>0</td>\n",
       "      <td>2000-12-31 22:00:19</td>\n",
       "    </tr>\n",
       "    <tr>\n",
       "      <th>1</th>\n",
       "      <td>1</td>\n",
       "      <td>1270</td>\n",
       "      <td>5</td>\n",
       "      <td>1</td>\n",
       "      <td>2000-12-31 22:00:55</td>\n",
       "    </tr>\n",
       "    <tr>\n",
       "      <th>2</th>\n",
       "      <td>1</td>\n",
       "      <td>1721</td>\n",
       "      <td>4</td>\n",
       "      <td>1</td>\n",
       "      <td>2000-12-31 22:00:55</td>\n",
       "    </tr>\n",
       "    <tr>\n",
       "      <th>3</th>\n",
       "      <td>1</td>\n",
       "      <td>1022</td>\n",
       "      <td>5</td>\n",
       "      <td>1</td>\n",
       "      <td>2000-12-31 22:00:55</td>\n",
       "    </tr>\n",
       "    <tr>\n",
       "      <th>4</th>\n",
       "      <td>1</td>\n",
       "      <td>2340</td>\n",
       "      <td>3</td>\n",
       "      <td>2</td>\n",
       "      <td>2000-12-31 22:01:43</td>\n",
       "    </tr>\n",
       "  </tbody>\n",
       "</table>\n",
       "</div>"
      ],
      "text/plain": [
       "   UserId  ItemId  Rating  SessionId                Time\n",
       "0       1    3186       4          0 2000-12-31 22:00:19\n",
       "1       1    1270       5          1 2000-12-31 22:00:55\n",
       "2       1    1721       4          1 2000-12-31 22:00:55\n",
       "3       1    1022       5          1 2000-12-31 22:00:55\n",
       "4       1    2340       3          2 2000-12-31 22:01:43"
      ]
     },
     "execution_count": 8,
     "metadata": {},
     "output_type": "execute_result"
    }
   ],
   "source": [
    "data['dt'] = data['Time'].apply(lambda x: dt.datetime.fromtimestamp(x))\n",
    "del data['Time']\n",
    "data.rename(columns=dict(dt='Time'), inplace=True)\n",
    "data.head()"
   ]
  },
  {
   "cell_type": "code",
   "execution_count": 9,
   "metadata": {
    "colab": {
     "base_uri": "https://localhost:8080/",
     "height": 203
    },
    "executionInfo": {
     "elapsed": 18378,
     "status": "ok",
     "timestamp": 1630251223972,
     "user": {
      "displayName": "‍유상민[학생](이과대학 생물학과)",
      "photoUrl": "",
      "userId": "15014503589518623359"
     },
     "user_tz": -540
    },
    "id": "8mq8zpJbLlGH",
    "outputId": "d5b044a4-9c60-4ee1-b93c-7e2e7f32125e"
   },
   "outputs": [
    {
     "name": "stdout",
     "output_type": "stream",
     "text": [
      "oldest: 2000-04-25 23:05:32\n",
      "latest: 2003-02-28 17:49:50\n",
      "total range: 1038 days 18:44:18\n"
     ]
    }
   ],
   "source": [
    "oldest, latest = data['Time'].min(), data['Time'].max()\n",
    "print(\"oldest:\", oldest)\n",
    "print(\"latest:\", latest)\n",
    "type(latest)\n",
    "print(\"total range:\", latest - oldest)"
   ]
  },
  {
   "cell_type": "code",
   "execution_count": 10,
   "metadata": {
    "colab": {
     "base_uri": "https://localhost:8080/"
    },
    "executionInfo": {
     "elapsed": 24,
     "status": "ok",
     "timestamp": 1630251224945,
     "user": {
      "displayName": "‍유상민[학생](이과대학 생물학과)",
      "photoUrl": "",
      "userId": "15014503589518623359"
     },
     "user_tz": -540
    },
    "id": "eCGMLtqsLk1h",
    "outputId": "4d13f887-4a17-4328-97db-62cde716aee1"
   },
   "outputs": [
    {
     "name": "stdout",
     "output_type": "stream",
     "text": [
      "UserId: 6,040개, ItemId:3,706개, SessionId: 471,163개\n"
     ]
    }
   ],
   "source": [
    "# 주요 컬럼 Unique 갯수 파악\n",
    "print(f\"UserId: {data['UserId'].nunique():,}개, ItemId:{data['ItemId'].nunique():,}개, SessionId: {data['SessionId'].nunique():,}개\")"
   ]
  },
  {
   "cell_type": "markdown",
   "metadata": {},
   "source": [
    "### 1-3. Session Length\n",
    "* 세션별 데이터 파악\n",
    "* ~~무의미한 데이터 1차 제거(평점 3점 미만)~~(3점 미만 데이터를 제거하니 정확도가 너무 떨어진다)"
   ]
  },
  {
   "cell_type": "code",
   "execution_count": 11,
   "metadata": {
    "colab": {
     "base_uri": "https://localhost:8080/"
    },
    "executionInfo": {
     "elapsed": 897,
     "status": "ok",
     "timestamp": 1630251225826,
     "user": {
      "displayName": "‍유상민[학생](이과대학 생물학과)",
      "photoUrl": "",
      "userId": "15014503589518623359"
     },
     "user_tz": -540
    },
    "id": "g2YQTMPWmZj6",
    "outputId": "c5603ef6-59cd-4ac0-c0ac-f857a3a828e7"
   },
   "outputs": [
    {
     "data": {
      "text/plain": [
       "SessionId\n",
       "0         1\n",
       "1         3\n",
       "2         1\n",
       "3         1\n",
       "4         1\n",
       "         ..\n",
       "471158    1\n",
       "471159    1\n",
       "471160    2\n",
       "471161    1\n",
       "471162    1\n",
       "Length: 471163, dtype: int64"
      ]
     },
     "execution_count": 11,
     "metadata": {},
     "output_type": "execute_result"
    }
   ],
   "source": [
    "session_length = data.groupby('SessionId').size()\n",
    "session_length"
   ]
  },
  {
   "cell_type": "code",
   "execution_count": 12,
   "metadata": {
    "colab": {
     "base_uri": "https://localhost:8080/",
     "height": 297
    },
    "executionInfo": {
     "elapsed": 103,
     "status": "ok",
     "timestamp": 1630251225828,
     "user": {
      "displayName": "‍유상민[학생](이과대학 생물학과)",
      "photoUrl": "",
      "userId": "15014503589518623359"
     },
     "user_tz": -540
    },
    "id": "nyPkRtbinDZo",
    "outputId": "28e87640-0d7f-42d7-fbe9-8429908d8754"
   },
   "outputs": [
    {
     "data": {
      "text/plain": [
       "(2.0, 2.1228513274599234)"
      ]
     },
     "execution_count": 12,
     "metadata": {},
     "output_type": "execute_result"
    }
   ],
   "source": [
    "session_length.median(), session_length.mean()"
   ]
  },
  {
   "cell_type": "code",
   "execution_count": 13,
   "metadata": {},
   "outputs": [
    {
     "data": {
      "text/plain": [
       "(1, 30)"
      ]
     },
     "execution_count": 13,
     "metadata": {},
     "output_type": "execute_result"
    }
   ],
   "source": [
    "session_length.min(), session_length.max()"
   ]
  },
  {
   "cell_type": "code",
   "execution_count": 14,
   "metadata": {},
   "outputs": [
    {
     "data": {
      "text/plain": [
       "10.0"
      ]
     },
     "execution_count": 14,
     "metadata": {},
     "output_type": "execute_result"
    }
   ],
   "source": [
    "session_length.quantile(0.999)"
   ]
  },
  {
   "cell_type": "code",
   "execution_count": 15,
   "metadata": {},
   "outputs": [
    {
     "data": {
      "image/png": "[encoded data removed]",
      "text/plain": [
       "<Figure size 864x432 with 2 Axes>"
      ]
     },
     "metadata": {
      "needs_background": "light"
     },
     "output_type": "display_data"
    }
   ],
   "source": [
    "# 박스플롯과 히스토그램으로 분포도를 확인해본다\n",
    "plt.figure(figsize=(12, 6))\n",
    "\n",
    "plt.subplot(211)\n",
    "sns.boxplot(session_length)\n",
    "\n",
    "plt.subplot(212)\n",
    "sns.histplot(session_length)\n",
    "\n",
    "plt.tight_layout()"
   ]
  },
  {
   "cell_type": "markdown",
   "metadata": {},
   "source": [
    "> 약 7회 이상부턴 이상치로 판단된다. 다만 이것들이 어떤 의미인지 확실하지 않은 상태에서, 함부로 날릴 수가 없다."
   ]
  },
  {
   "cell_type": "code",
   "execution_count": 16,
   "metadata": {
    "scrolled": false
   },
   "outputs": [
    {
     "data": {
      "text/html": [
       "<div>\n",
       "<style scoped>\n",
       "    .dataframe tbody tr th:only-of-type {\n",
       "        vertical-align: middle;\n",
       "    }\n",
       "\n",
       "    .dataframe tbody tr th {\n",
       "        vertical-align: top;\n",
       "    }\n",
       "\n",
       "    .dataframe thead th {\n",
       "        text-align: right;\n",
       "    }\n",
       "</style>\n",
       "<table border=\"1\" class=\"dataframe\">\n",
       "  <thead>\n",
       "    <tr style=\"text-align: right;\">\n",
       "      <th></th>\n",
       "      <th>UserId</th>\n",
       "      <th>ItemId</th>\n",
       "      <th>Rating</th>\n",
       "      <th>SessionId</th>\n",
       "      <th>Time</th>\n",
       "    </tr>\n",
       "  </thead>\n",
       "  <tbody>\n",
       "    <tr>\n",
       "      <th>112347</th>\n",
       "      <td>731</td>\n",
       "      <td>3044</td>\n",
       "      <td>4</td>\n",
       "      <td>55117</td>\n",
       "      <td>2000-11-29 20:06:42</td>\n",
       "    </tr>\n",
       "    <tr>\n",
       "      <th>112348</th>\n",
       "      <td>731</td>\n",
       "      <td>1455</td>\n",
       "      <td>3</td>\n",
       "      <td>55117</td>\n",
       "      <td>2000-11-29 20:06:42</td>\n",
       "    </tr>\n",
       "    <tr>\n",
       "      <th>112349</th>\n",
       "      <td>731</td>\n",
       "      <td>1639</td>\n",
       "      <td>5</td>\n",
       "      <td>55117</td>\n",
       "      <td>2000-11-29 20:06:42</td>\n",
       "    </tr>\n",
       "    <tr>\n",
       "      <th>112350</th>\n",
       "      <td>731</td>\n",
       "      <td>3244</td>\n",
       "      <td>4</td>\n",
       "      <td>55117</td>\n",
       "      <td>2000-11-29 20:06:42</td>\n",
       "    </tr>\n",
       "    <tr>\n",
       "      <th>112351</th>\n",
       "      <td>731</td>\n",
       "      <td>1656</td>\n",
       "      <td>2</td>\n",
       "      <td>55117</td>\n",
       "      <td>2000-11-29 20:06:42</td>\n",
       "    </tr>\n",
       "    <tr>\n",
       "      <th>112352</th>\n",
       "      <td>731</td>\n",
       "      <td>3426</td>\n",
       "      <td>4</td>\n",
       "      <td>55117</td>\n",
       "      <td>2000-11-29 20:06:42</td>\n",
       "    </tr>\n",
       "    <tr>\n",
       "      <th>112353</th>\n",
       "      <td>731</td>\n",
       "      <td>1829</td>\n",
       "      <td>2</td>\n",
       "      <td>55117</td>\n",
       "      <td>2000-11-29 20:06:42</td>\n",
       "    </tr>\n",
       "    <tr>\n",
       "      <th>112354</th>\n",
       "      <td>731</td>\n",
       "      <td>2675</td>\n",
       "      <td>4</td>\n",
       "      <td>55117</td>\n",
       "      <td>2000-11-29 20:06:42</td>\n",
       "    </tr>\n",
       "    <tr>\n",
       "      <th>112355</th>\n",
       "      <td>731</td>\n",
       "      <td>802</td>\n",
       "      <td>3</td>\n",
       "      <td>55117</td>\n",
       "      <td>2000-11-29 20:06:42</td>\n",
       "    </tr>\n",
       "    <tr>\n",
       "      <th>112356</th>\n",
       "      <td>731</td>\n",
       "      <td>803</td>\n",
       "      <td>5</td>\n",
       "      <td>55117</td>\n",
       "      <td>2000-11-29 20:06:42</td>\n",
       "    </tr>\n",
       "    <tr>\n",
       "      <th>112357</th>\n",
       "      <td>731</td>\n",
       "      <td>1357</td>\n",
       "      <td>4</td>\n",
       "      <td>55117</td>\n",
       "      <td>2000-11-29 20:06:42</td>\n",
       "    </tr>\n",
       "    <tr>\n",
       "      <th>112358</th>\n",
       "      <td>731</td>\n",
       "      <td>838</td>\n",
       "      <td>5</td>\n",
       "      <td>55117</td>\n",
       "      <td>2000-11-29 20:06:42</td>\n",
       "    </tr>\n",
       "    <tr>\n",
       "      <th>112359</th>\n",
       "      <td>731</td>\n",
       "      <td>2171</td>\n",
       "      <td>4</td>\n",
       "      <td>55117</td>\n",
       "      <td>2000-11-29 20:06:42</td>\n",
       "    </tr>\n",
       "    <tr>\n",
       "      <th>112360</th>\n",
       "      <td>731</td>\n",
       "      <td>852</td>\n",
       "      <td>2</td>\n",
       "      <td>55117</td>\n",
       "      <td>2000-11-29 20:06:42</td>\n",
       "    </tr>\n",
       "    <tr>\n",
       "      <th>112361</th>\n",
       "      <td>731</td>\n",
       "      <td>2331</td>\n",
       "      <td>4</td>\n",
       "      <td>55117</td>\n",
       "      <td>2000-11-29 20:06:42</td>\n",
       "    </tr>\n",
       "    <tr>\n",
       "      <th>112362</th>\n",
       "      <td>731</td>\n",
       "      <td>1535</td>\n",
       "      <td>3</td>\n",
       "      <td>55117</td>\n",
       "      <td>2000-11-29 20:06:42</td>\n",
       "    </tr>\n",
       "    <tr>\n",
       "      <th>112363</th>\n",
       "      <td>731</td>\n",
       "      <td>1393</td>\n",
       "      <td>2</td>\n",
       "      <td>55117</td>\n",
       "      <td>2000-11-29 20:06:42</td>\n",
       "    </tr>\n",
       "    <tr>\n",
       "      <th>112364</th>\n",
       "      <td>731</td>\n",
       "      <td>1564</td>\n",
       "      <td>4</td>\n",
       "      <td>55117</td>\n",
       "      <td>2000-11-29 20:06:42</td>\n",
       "    </tr>\n",
       "    <tr>\n",
       "      <th>112365</th>\n",
       "      <td>731</td>\n",
       "      <td>892</td>\n",
       "      <td>5</td>\n",
       "      <td>55117</td>\n",
       "      <td>2000-11-29 20:06:42</td>\n",
       "    </tr>\n",
       "    <tr>\n",
       "      <th>112366</th>\n",
       "      <td>731</td>\n",
       "      <td>151</td>\n",
       "      <td>3</td>\n",
       "      <td>55117</td>\n",
       "      <td>2000-11-29 20:06:42</td>\n",
       "    </tr>\n",
       "    <tr>\n",
       "      <th>112367</th>\n",
       "      <td>731</td>\n",
       "      <td>2715</td>\n",
       "      <td>2</td>\n",
       "      <td>55117</td>\n",
       "      <td>2000-11-29 20:06:42</td>\n",
       "    </tr>\n",
       "    <tr>\n",
       "      <th>112368</th>\n",
       "      <td>731</td>\n",
       "      <td>2570</td>\n",
       "      <td>2</td>\n",
       "      <td>55117</td>\n",
       "      <td>2000-11-29 20:06:42</td>\n",
       "    </tr>\n",
       "    <tr>\n",
       "      <th>112369</th>\n",
       "      <td>731</td>\n",
       "      <td>39</td>\n",
       "      <td>5</td>\n",
       "      <td>55117</td>\n",
       "      <td>2000-11-29 20:06:42</td>\n",
       "    </tr>\n",
       "    <tr>\n",
       "      <th>112370</th>\n",
       "      <td>731</td>\n",
       "      <td>2919</td>\n",
       "      <td>4</td>\n",
       "      <td>55117</td>\n",
       "      <td>2000-11-29 20:06:42</td>\n",
       "    </tr>\n",
       "    <tr>\n",
       "      <th>112371</th>\n",
       "      <td>731</td>\n",
       "      <td>49</td>\n",
       "      <td>4</td>\n",
       "      <td>55117</td>\n",
       "      <td>2000-11-29 20:06:42</td>\n",
       "    </tr>\n",
       "    <tr>\n",
       "      <th>112372</th>\n",
       "      <td>731</td>\n",
       "      <td>58</td>\n",
       "      <td>4</td>\n",
       "      <td>55117</td>\n",
       "      <td>2000-11-29 20:06:42</td>\n",
       "    </tr>\n",
       "    <tr>\n",
       "      <th>112373</th>\n",
       "      <td>731</td>\n",
       "      <td>1210</td>\n",
       "      <td>3</td>\n",
       "      <td>55117</td>\n",
       "      <td>2000-11-29 20:06:42</td>\n",
       "    </tr>\n",
       "    <tr>\n",
       "      <th>112374</th>\n",
       "      <td>731</td>\n",
       "      <td>85</td>\n",
       "      <td>4</td>\n",
       "      <td>55117</td>\n",
       "      <td>2000-11-29 20:06:42</td>\n",
       "    </tr>\n",
       "    <tr>\n",
       "      <th>112375</th>\n",
       "      <td>731</td>\n",
       "      <td>2969</td>\n",
       "      <td>4</td>\n",
       "      <td>55117</td>\n",
       "      <td>2000-11-29 20:06:42</td>\n",
       "    </tr>\n",
       "    <tr>\n",
       "      <th>112376</th>\n",
       "      <td>731</td>\n",
       "      <td>1244</td>\n",
       "      <td>5</td>\n",
       "      <td>55117</td>\n",
       "      <td>2000-11-29 20:06:42</td>\n",
       "    </tr>\n",
       "  </tbody>\n",
       "</table>\n",
       "</div>"
      ],
      "text/plain": [
       "        UserId  ItemId  Rating  SessionId                Time\n",
       "112347     731    3044       4      55117 2000-11-29 20:06:42\n",
       "112348     731    1455       3      55117 2000-11-29 20:06:42\n",
       "112349     731    1639       5      55117 2000-11-29 20:06:42\n",
       "112350     731    3244       4      55117 2000-11-29 20:06:42\n",
       "112351     731    1656       2      55117 2000-11-29 20:06:42\n",
       "112352     731    3426       4      55117 2000-11-29 20:06:42\n",
       "112353     731    1829       2      55117 2000-11-29 20:06:42\n",
       "112354     731    2675       4      55117 2000-11-29 20:06:42\n",
       "112355     731     802       3      55117 2000-11-29 20:06:42\n",
       "112356     731     803       5      55117 2000-11-29 20:06:42\n",
       "112357     731    1357       4      55117 2000-11-29 20:06:42\n",
       "112358     731     838       5      55117 2000-11-29 20:06:42\n",
       "112359     731    2171       4      55117 2000-11-29 20:06:42\n",
       "112360     731     852       2      55117 2000-11-29 20:06:42\n",
       "112361     731    2331       4      55117 2000-11-29 20:06:42\n",
       "112362     731    1535       3      55117 2000-11-29 20:06:42\n",
       "112363     731    1393       2      55117 2000-11-29 20:06:42\n",
       "112364     731    1564       4      55117 2000-11-29 20:06:42\n",
       "112365     731     892       5      55117 2000-11-29 20:06:42\n",
       "112366     731     151       3      55117 2000-11-29 20:06:42\n",
       "112367     731    2715       2      55117 2000-11-29 20:06:42\n",
       "112368     731    2570       2      55117 2000-11-29 20:06:42\n",
       "112369     731      39       5      55117 2000-11-29 20:06:42\n",
       "112370     731    2919       4      55117 2000-11-29 20:06:42\n",
       "112371     731      49       4      55117 2000-11-29 20:06:42\n",
       "112372     731      58       4      55117 2000-11-29 20:06:42\n",
       "112373     731    1210       3      55117 2000-11-29 20:06:42\n",
       "112374     731      85       4      55117 2000-11-29 20:06:42\n",
       "112375     731    2969       4      55117 2000-11-29 20:06:42\n",
       "112376     731    1244       5      55117 2000-11-29 20:06:42"
      ]
     },
     "execution_count": 16,
     "metadata": {},
     "output_type": "execute_result"
    }
   ],
   "source": [
    "# 30회 클릭한 세션 까보기\n",
    "long_session = session_length[session_length==30].index[0]\n",
    "chk_long = data[data['SessionId']==long_session]\n",
    "chk_long"
   ]
  },
  {
   "cell_type": "code",
   "execution_count": 17,
   "metadata": {},
   "outputs": [
    {
     "name": "stdout",
     "output_type": "stream",
     "text": [
      "2000-11-29 20:06:42\n",
      "2000-11-29 20:06:42\n",
      "유저 731는 0 days 00:00:00 동안 30개 아이템을 봤음\n"
     ]
    }
   ],
   "source": [
    "min_dt, max_dt = chk_long['Time'].min(), chk_long['Time'].max()\n",
    "print(min_dt)\n",
    "print(max_dt)\n",
    "print(f\"유저 {chk_long['UserId'].iloc[0]}는 {max_dt - min_dt} 동안 {chk_long['ItemId'].nunique():,}개 아이템을 봤음\")"
   ]
  },
  {
   "cell_type": "markdown",
   "metadata": {},
   "source": [
    "> 물리적으로 1초도 안되는 시간에 30개의 점수를 매기거나, 클릭할 수 없다.\n",
    ">\n",
    "> 아마 하나씩 점수를 메기지 않고, 리스트에서 여러개의 점수를 일괄적으로 메긴 후 `제출하기` 같은 장치로 데이터를 전송받은 기록 같다."
   ]
  },
  {
   "cell_type": "code",
   "execution_count": 18,
   "metadata": {},
   "outputs": [
    {
     "data": {
      "text/plain": [
       "1    0.480048\n",
       "2    0.713936\n",
       "3    0.847350\n",
       "4    0.919684\n",
       "5    0.958639\n",
       "6    0.979132\n",
       "7    0.989772\n",
       "8    0.994989\n",
       "9    0.997604\n",
       "dtype: float64"
      ]
     },
     "execution_count": 18,
     "metadata": {},
     "output_type": "execute_result"
    }
   ],
   "source": [
    "length_count = session_length.groupby(session_length).size()\n",
    "length_percent_cumsum = length_count.cumsum() / length_count.sum()\n",
    "length_percent_cumsum_999 = length_percent_cumsum[length_percent_cumsum < 0.999]\n",
    "\n",
    "length_percent_cumsum_999"
   ]
  },
  {
   "cell_type": "code",
   "execution_count": 19,
   "metadata": {},
   "outputs": [
    {
     "data": {
      "image/png": "[encoded data removed]",
      "text/plain": [
       "<Figure size 864x720 with 1 Axes>"
      ]
     },
     "metadata": {
      "needs_background": "light"
     },
     "output_type": "display_data"
    }
   ],
   "source": [
    "plt.figure(figsize=(12, 10))\n",
    "plt.bar(x=length_percent_cumsum_999.index,\n",
    "        height=length_percent_cumsum_999, color='red')\n",
    "plt.xticks(length_percent_cumsum_999.index)\n",
    "plt.yticks(np.arange(0, 1.01, 0.05))\n",
    "plt.title('Cumsum Percentage Until 0.999', size=20)\n",
    "plt.show()"
   ]
  },
  {
   "cell_type": "markdown",
   "metadata": {},
   "source": [
    "#### - 기간으로 자르기 적당한지 확인"
   ]
  },
  {
   "cell_type": "code",
   "execution_count": 20,
   "metadata": {},
   "outputs": [
    {
     "name": "stdout",
     "output_type": "stream",
     "text": [
      "year: 1+, len: 21,704개 데이터\n",
      "year: 2+, len: 69,349개 데이터\n",
      "year: 3+, len: 1,000,209개 데이터\n"
     ]
    }
   ],
   "source": [
    "for year in range(1, 4):\n",
    "    month_ago = latest - dt.timedelta(days=365 * year) # 마지막 날짜로부터 n년 전 날짜를 구한다.\n",
    "    print(f\"year: {year}+, len: {len(data[data['Time'] > month_ago]):,}개 데이터\") # 방금 구한 날짜 이후의 데이터만 모은다."
   ]
  },
  {
   "cell_type": "markdown",
   "metadata": {},
   "source": [
    "* 3년까지 범위를 넓혀야만 데이터가 충분하다.\n",
    "* 과거의 평점 데이터도 현재 추천하는 데 충분히 활용될 수 있으므로, 전 기간 사용해도 될 것 같다."
   ]
  },
  {
   "cell_type": "markdown",
   "metadata": {},
   "source": [
    "#### - 점수로 자르기 적당한지 확인"
   ]
  },
  {
   "cell_type": "code",
   "execution_count": 21,
   "metadata": {},
   "outputs": [
    {
     "name": "stdout",
     "output_type": "stream",
     "text": [
      "Rating Mean: 3.581564453029317 , Rating Median: 4.0\n"
     ]
    },
    {
     "data": {
      "image/png": "[encoded data removed]",
      "text/plain": [
       "<Figure size 432x288 with 2 Axes>"
      ]
     },
     "metadata": {
      "needs_background": "light"
     },
     "output_type": "display_data"
    }
   ],
   "source": [
    "plt.subplot(121)\n",
    "sns.histplot(data['Rating'], bins=np.arange(0, 7))\n",
    "plt.subplot(122)\n",
    "sns.boxplot(data['Rating'])\n",
    "plt.tight_layout()\n",
    "print('Rating Mean:', data['Rating'].mean(), ', Rating Median:', data['Rating'].median())"
   ]
  },
  {
   "cell_type": "code",
   "execution_count": 22,
   "metadata": {
    "scrolled": true
   },
   "outputs": [
    {
     "name": "stdout",
     "output_type": "stream",
     "text": [
      "year: 1+, len: 17,567개 데이터\n",
      "year: 2+, len: 56,922개 데이터\n",
      "year: 3+, len: 836,478개 데이터\n"
     ]
    }
   ],
   "source": [
    "for year in range(1, 4):\n",
    "    month_ago = latest - dt.timedelta(days=365 * year) # 마지막 날짜로부터 n년 전 날짜를 구한다.\n",
    "    print(f\"year: {year}+, len: {len(data[(data['Time'] > month_ago) & (data['Rating'] >= 3)]):,}개 데이터\") # 방금 구한 날짜 이후의 데이터만 모은다."
   ]
  },
  {
   "cell_type": "code",
   "execution_count": 23,
   "metadata": {},
   "outputs": [
    {
     "name": "stdout",
     "output_type": "stream",
     "text": [
      "Rating Mean: 3.958292985589579 , Rating Median: 4.0\n"
     ]
    },
    {
     "data": {
      "image/png": "[encoded data removed]",
      "text/plain": [
       "<Figure size 432x288 with 2 Axes>"
      ]
     },
     "metadata": {
      "needs_background": "light"
     },
     "output_type": "display_data"
    }
   ],
   "source": [
    "plt.subplot(121)\n",
    "sns.histplot(data[data['Rating'] >= 3]['Rating'], bins=np.arange(0, 7))\n",
    "plt.subplot(122)\n",
    "sns.boxplot(data[data['Rating'] >= 3]['Rating'])\n",
    "plt.tight_layout()\n",
    "print('Rating Mean:', data[data['Rating'] >= 3]['Rating'].mean(), ', Rating Median:', data[data['Rating'] >= 3]['Rating'].median())"
   ]
  },
  {
   "cell_type": "code",
   "execution_count": 24,
   "metadata": {},
   "outputs": [],
   "source": [
    "# data = data[data['Rating'] >= 3]\n",
    "# data"
   ]
  },
  {
   "cell_type": "markdown",
   "metadata": {},
   "source": [
    "> Rating 3 미만 데이터는 제거해도 무방할 것 같았는데, 그렇게 진행하면 정확도가 많이 떨어진다."
   ]
  },
  {
   "cell_type": "markdown",
   "metadata": {},
   "source": [
    "### 1-4. Data Cleansing"
   ]
  },
  {
   "cell_type": "code",
   "execution_count": 25,
   "metadata": {},
   "outputs": [],
   "source": [
    "# short_session을 제거한 다음 unpopular item을 제거하면 다시 길이가 1인 session이 생길 수 있습니다.\n",
    "# 이를 위해 반복문을 통해 지속적으로 제거 합니다.\n",
    "def cleanse_recursive(data: pd.DataFrame, shortest, least_click) -> pd.DataFrame:\n",
    "    while True:\n",
    "        before_len = len(data)\n",
    "        data = cleanse_short_session(data, shortest)\n",
    "        data = cleanse_unpopular_item(data, least_click)\n",
    "        after_len = len(data)\n",
    "        if before_len == after_len:\n",
    "            break\n",
    "    return data\n",
    "\n",
    "def cleanse_short_session(data: pd.DataFrame, shortest):\n",
    "    session_len = data.groupby('SessionId').size()\n",
    "    session_use = session_len[session_len >= shortest].index\n",
    "    data = data[data['SessionId'].isin(session_use)]\n",
    "    return data\n",
    "\n",
    "def cleanse_unpopular_item(data: pd.DataFrame, least_click):\n",
    "    item_popular = data.groupby('ItemId').size()\n",
    "    item_use = item_popular[item_popular >= least_click].index\n",
    "    data = data[data['ItemId'].isin(item_use)]\n",
    "    return data"
   ]
  },
  {
   "cell_type": "code",
   "execution_count": 26,
   "metadata": {},
   "outputs": [
    {
     "name": "stdout",
     "output_type": "stream",
     "text": [
      "ItemId:3,706개, SessionId: 471,163개\n"
     ]
    }
   ],
   "source": [
    "# Cleansing 전 데이터 파악\n",
    "print(f\"ItemId:{data['ItemId'].nunique():,}개, SessionId: {data['SessionId'].nunique():,}개\")"
   ]
  },
  {
   "cell_type": "code",
   "execution_count": 27,
   "metadata": {
    "scrolled": false
   },
   "outputs": [
    {
     "name": "stdout",
     "output_type": "stream",
     "text": [
      "ItemId: 3,333개, SessionId: 244,816개\n"
     ]
    },
    {
     "data": {
      "text/html": [
       "<div>\n",
       "<style scoped>\n",
       "    .dataframe tbody tr th:only-of-type {\n",
       "        vertical-align: middle;\n",
       "    }\n",
       "\n",
       "    .dataframe tbody tr th {\n",
       "        vertical-align: top;\n",
       "    }\n",
       "\n",
       "    .dataframe thead th {\n",
       "        text-align: right;\n",
       "    }\n",
       "</style>\n",
       "<table border=\"1\" class=\"dataframe\">\n",
       "  <thead>\n",
       "    <tr style=\"text-align: right;\">\n",
       "      <th></th>\n",
       "      <th>UserId</th>\n",
       "      <th>ItemId</th>\n",
       "      <th>Rating</th>\n",
       "      <th>SessionId</th>\n",
       "      <th>Time</th>\n",
       "    </tr>\n",
       "  </thead>\n",
       "  <tbody>\n",
       "    <tr>\n",
       "      <th>0</th>\n",
       "      <td>1</td>\n",
       "      <td>1270</td>\n",
       "      <td>5</td>\n",
       "      <td>1</td>\n",
       "      <td>2000-12-31 22:00:55</td>\n",
       "    </tr>\n",
       "    <tr>\n",
       "      <th>1</th>\n",
       "      <td>1</td>\n",
       "      <td>1721</td>\n",
       "      <td>4</td>\n",
       "      <td>1</td>\n",
       "      <td>2000-12-31 22:00:55</td>\n",
       "    </tr>\n",
       "    <tr>\n",
       "      <th>2</th>\n",
       "      <td>1</td>\n",
       "      <td>1022</td>\n",
       "      <td>5</td>\n",
       "      <td>1</td>\n",
       "      <td>2000-12-31 22:00:55</td>\n",
       "    </tr>\n",
       "    <tr>\n",
       "      <th>3</th>\n",
       "      <td>1</td>\n",
       "      <td>2804</td>\n",
       "      <td>5</td>\n",
       "      <td>5</td>\n",
       "      <td>2000-12-31 22:11:59</td>\n",
       "    </tr>\n",
       "    <tr>\n",
       "      <th>4</th>\n",
       "      <td>1</td>\n",
       "      <td>1207</td>\n",
       "      <td>4</td>\n",
       "      <td>5</td>\n",
       "      <td>2000-12-31 22:11:59</td>\n",
       "    </tr>\n",
       "    <tr>\n",
       "      <th>...</th>\n",
       "      <td>...</td>\n",
       "      <td>...</td>\n",
       "      <td>...</td>\n",
       "      <td>...</td>\n",
       "      <td>...</td>\n",
       "    </tr>\n",
       "    <tr>\n",
       "      <th>773230</th>\n",
       "      <td>6040</td>\n",
       "      <td>3362</td>\n",
       "      <td>4</td>\n",
       "      <td>471145</td>\n",
       "      <td>2001-08-10 14:29:56</td>\n",
       "    </tr>\n",
       "    <tr>\n",
       "      <th>773231</th>\n",
       "      <td>6040</td>\n",
       "      <td>3421</td>\n",
       "      <td>3</td>\n",
       "      <td>471146</td>\n",
       "      <td>2001-08-10 14:31:49</td>\n",
       "    </tr>\n",
       "    <tr>\n",
       "      <th>773232</th>\n",
       "      <td>6040</td>\n",
       "      <td>1258</td>\n",
       "      <td>4</td>\n",
       "      <td>471146</td>\n",
       "      <td>2001-08-10 14:31:49</td>\n",
       "    </tr>\n",
       "    <tr>\n",
       "      <th>773233</th>\n",
       "      <td>6040</td>\n",
       "      <td>1921</td>\n",
       "      <td>4</td>\n",
       "      <td>471160</td>\n",
       "      <td>2001-08-10 14:41:04</td>\n",
       "    </tr>\n",
       "    <tr>\n",
       "      <th>773234</th>\n",
       "      <td>6040</td>\n",
       "      <td>1784</td>\n",
       "      <td>3</td>\n",
       "      <td>471160</td>\n",
       "      <td>2001-08-10 14:41:04</td>\n",
       "    </tr>\n",
       "  </tbody>\n",
       "</table>\n",
       "<p>773235 rows × 5 columns</p>\n",
       "</div>"
      ],
      "text/plain": [
       "        UserId  ItemId  Rating  SessionId                Time\n",
       "0            1    1270       5          1 2000-12-31 22:00:55\n",
       "1            1    1721       4          1 2000-12-31 22:00:55\n",
       "2            1    1022       5          1 2000-12-31 22:00:55\n",
       "3            1    2804       5          5 2000-12-31 22:11:59\n",
       "4            1    1207       4          5 2000-12-31 22:11:59\n",
       "...        ...     ...     ...        ...                 ...\n",
       "773230    6040    3362       4     471145 2001-08-10 14:29:56\n",
       "773231    6040    3421       3     471146 2001-08-10 14:31:49\n",
       "773232    6040    1258       4     471146 2001-08-10 14:31:49\n",
       "773233    6040    1921       4     471160 2001-08-10 14:41:04\n",
       "773234    6040    1784       3     471160 2001-08-10 14:41:04\n",
       "\n",
       "[773235 rows x 5 columns]"
      ]
     },
     "execution_count": 27,
     "metadata": {},
     "output_type": "execute_result"
    }
   ],
   "source": [
    "data = cleanse_recursive(data, shortest=2, least_click=5)\n",
    "# Cleansing 후 데이터 파악\n",
    "print(f\"ItemId: {data['ItemId'].nunique():,}개, SessionId: {data['SessionId'].nunique():,}개\")\n",
    "data.reset_index(inplace=True, drop=True)\n",
    "data"
   ]
  },
  {
   "cell_type": "markdown",
   "metadata": {},
   "source": [
    "Cleanse 이후\n",
    "* ItemId: 3,706개 => 3,333개\n",
    "* SessionId: 471,163개 => 244,816개 로 감소"
   ]
  },
  {
   "cell_type": "code",
   "execution_count": 28,
   "metadata": {
    "colab": {
     "base_uri": "https://localhost:8080/",
     "height": 203
    },
    "executionInfo": {
     "elapsed": 92,
     "status": "ok",
     "timestamp": 1630251225834,
     "user": {
      "displayName": "‍유상민[학생](이과대학 생물학과)",
      "photoUrl": "",
      "userId": "15014503589518623359"
     },
     "user_tz": -540
    },
    "id": "0Ageyu-sIyDo",
    "outputId": "6a2d0013-8639-4218-a6e4-d2683e0e0d5b"
   },
   "outputs": [
    {
     "data": {
      "text/html": [
       "<div>\n",
       "<style scoped>\n",
       "    .dataframe tbody tr th:only-of-type {\n",
       "        vertical-align: middle;\n",
       "    }\n",
       "\n",
       "    .dataframe tbody tr th {\n",
       "        vertical-align: top;\n",
       "    }\n",
       "\n",
       "    .dataframe thead th {\n",
       "        text-align: right;\n",
       "    }\n",
       "</style>\n",
       "<table border=\"1\" class=\"dataframe\">\n",
       "  <thead>\n",
       "    <tr style=\"text-align: right;\">\n",
       "      <th></th>\n",
       "      <th>SessionId</th>\n",
       "      <th>ItemId</th>\n",
       "      <th>Time</th>\n",
       "    </tr>\n",
       "  </thead>\n",
       "  <tbody>\n",
       "    <tr>\n",
       "      <th>0</th>\n",
       "      <td>1</td>\n",
       "      <td>1270</td>\n",
       "      <td>2000-12-31 22:00:55</td>\n",
       "    </tr>\n",
       "    <tr>\n",
       "      <th>1</th>\n",
       "      <td>1</td>\n",
       "      <td>1721</td>\n",
       "      <td>2000-12-31 22:00:55</td>\n",
       "    </tr>\n",
       "    <tr>\n",
       "      <th>2</th>\n",
       "      <td>1</td>\n",
       "      <td>1022</td>\n",
       "      <td>2000-12-31 22:00:55</td>\n",
       "    </tr>\n",
       "    <tr>\n",
       "      <th>3</th>\n",
       "      <td>5</td>\n",
       "      <td>2804</td>\n",
       "      <td>2000-12-31 22:11:59</td>\n",
       "    </tr>\n",
       "    <tr>\n",
       "      <th>4</th>\n",
       "      <td>5</td>\n",
       "      <td>1207</td>\n",
       "      <td>2000-12-31 22:11:59</td>\n",
       "    </tr>\n",
       "  </tbody>\n",
       "</table>\n",
       "</div>"
      ],
      "text/plain": [
       "   SessionId  ItemId                Time\n",
       "0          1    1270 2000-12-31 22:00:55\n",
       "1          1    1721 2000-12-31 22:00:55\n",
       "2          1    1022 2000-12-31 22:00:55\n",
       "3          5    2804 2000-12-31 22:11:59\n",
       "4          5    1207 2000-12-31 22:11:59"
      ]
     },
     "execution_count": 28,
     "metadata": {},
     "output_type": "execute_result"
    }
   ],
   "source": [
    "# 쓰지 않을 컬럼 삭제하고 순서 변경\n",
    "data = data[['SessionId', 'ItemId', 'Time']]\n",
    "data.head()"
   ]
  },
  {
   "cell_type": "markdown",
   "metadata": {},
   "source": [
    "### 1-5. Train / Valid / Test split\n",
    "* Train / Test / Valid 데이터를 60일 간격으로 쪼개자"
   ]
  },
  {
   "cell_type": "code",
   "execution_count": 29,
   "metadata": {},
   "outputs": [],
   "source": [
    "def split_by_date(data: pd.DataFrame, n_days: int):\n",
    "    final_time = data['Time'].max()\n",
    "    session_last_time = data.groupby('SessionId')['Time'].max()\n",
    "    session_in_train = session_last_time[session_last_time < final_time - dt.timedelta(days=n_days)].index\n",
    "    session_in_test = session_last_time[session_last_time >= final_time - dt.timedelta(days=n_days)].index\n",
    "\n",
    "    before_date = data[data['SessionId'].isin(session_in_train)]\n",
    "    after_date = data[data['SessionId'].isin(session_in_test)]\n",
    "    after_date = after_date[after_date['ItemId'].isin(before_date['ItemId'])]\n",
    "    return before_date, after_date"
   ]
  },
  {
   "cell_type": "code",
   "execution_count": 30,
   "metadata": {},
   "outputs": [],
   "source": [
    "def stats_info(data: pd.DataFrame, status: str):\n",
    "    print(f'* {status.title()} Set Stats Info\\n'\n",
    "          f'\\t Events: {len(data):,}\\n'\n",
    "          f'\\t Sessions: {data[\"SessionId\"].nunique():,}\\n'\n",
    "          f'\\t Items: {data[\"ItemId\"].nunique():,}\\n'\n",
    "          f'\\t First Time : {data[\"Time\"].min()}\\n'\n",
    "          f'\\t Last Time : {data[\"Time\"].max()}\\n')"
   ]
  },
  {
   "cell_type": "code",
   "execution_count": 31,
   "metadata": {},
   "outputs": [
    {
     "name": "stdout",
     "output_type": "stream",
     "text": [
      "* Origin_Data Set Stats Info\n",
      "\t Events: 773,235\n",
      "\t Sessions: 244,816\n",
      "\t Items: 3,333\n",
      "\t First Time : 2000-04-25 23:05:54\n",
      "\t Last Time : 2003-02-28 17:49:08\n",
      "\n",
      "* Train_Set Set Stats Info\n",
      "\t Events: 770,095\n",
      "\t Sessions: 243,624\n",
      "\t Items: 3,333\n",
      "\t First Time : 2000-04-25 23:05:54\n",
      "\t Last Time : 2002-10-31 16:33:08\n",
      "\n",
      "* Validation_Set Set Stats Info\n",
      "\t Events: 1,459\n",
      "\t Sessions: 570\n",
      "\t Items: 956\n",
      "\t First Time : 2002-11-01 02:56:19\n",
      "\t Last Time : 2002-12-30 16:43:35\n",
      "\n",
      "* Test_Set Set Stats Info\n",
      "\t Events: 1,681\n",
      "\t Sessions: 622\n",
      "\t Items: 1,061\n",
      "\t First Time : 2002-12-30 19:40:25\n",
      "\t Last Time : 2003-02-28 17:49:08\n",
      "\n"
     ]
    }
   ],
   "source": [
    "tr, test = split_by_date(data, n_days=60)  # [전기간 | 최근60일]\n",
    "tr, val = split_by_date(tr, n_days=60)  # [전기간(테스트 데이터 제거 후) | 최근60일]\n",
    "\n",
    "stats_info(data, 'origin_data')\n",
    "stats_info(tr, 'train_set')\n",
    "stats_info(val, 'validation_set')\n",
    "stats_info(test, 'test_set')"
   ]
  },
  {
   "cell_type": "markdown",
   "metadata": {},
   "source": [
    "### 1-6. Item Indexing"
   ]
  },
  {
   "cell_type": "code",
   "execution_count": 32,
   "metadata": {},
   "outputs": [
    {
     "name": "stdout",
     "output_type": "stream",
     "text": [
      "validation_set item_idx==-1 인 갯수: 0\n",
      "test_set의 item_idx==-1 인 갯수: 0\n"
     ]
    }
   ],
   "source": [
    "# train set에 없는 아이템이 val, test기간에 생길 수 있으므로 train data를 기준으로 인덱싱합니다.\n",
    "id2idx = {item_id : index for index, item_id in enumerate(tr['ItemId'].unique())}\n",
    "\n",
    "def indexing(df, id2idx):\n",
    "    # id2idx에 없는 아이템은 모르는 값(-1) 처리 해줍니다.\n",
    "    df['item_idx'] = df['ItemId'].map(lambda x: id2idx.get(x, -1))\n",
    "    return df\n",
    "\n",
    "tr = indexing(tr, id2idx)\n",
    "val = indexing(val, id2idx)\n",
    "test = indexing(test, id2idx)\n",
    "\n",
    "print(\"validation_set item_idx==-1 인 갯수:\", len(val[val['item_idx'] == -1]))\n",
    "print(\"test_set의 item_idx==-1 인 갯수:\", len(test[test['item_idx'] == -1]))"
   ]
  },
  {
   "cell_type": "code",
   "execution_count": 33,
   "metadata": {},
   "outputs": [],
   "source": [
    "save_path = data_path / 'processed'\n",
    "save_path.mkdir(parents=True, exist_ok=True)\n",
    "\n",
    "tr.to_pickle(save_path / 'train.pkl')\n",
    "val.to_pickle(save_path / 'valid.pkl')\n",
    "test.to_pickle(save_path / 'test.pkl')"
   ]
  },
  {
   "cell_type": "markdown",
   "metadata": {},
   "source": [
    "## 2. Data Pipeline\n",
    "### 2-1. SessionDataset"
   ]
  },
  {
   "cell_type": "code",
   "execution_count": 34,
   "metadata": {
    "executionInfo": {
     "elapsed": 56,
     "status": "ok",
     "timestamp": 1630251229436,
     "user": {
      "displayName": "‍유상민[학생](이과대학 생물학과)",
      "photoUrl": "",
      "userId": "15014503589518623359"
     },
     "user_tz": -540
    },
    "id": "TZqRkIZsIXIp"
   },
   "outputs": [],
   "source": [
    "class SessionDataset:\n",
    "    \"\"\"Credit to yhs-968/pyGRU4REC.\"\"\"\n",
    "\n",
    "    def __init__(self, data):\n",
    "        self.df = data\n",
    "        self.click_offsets = self.get_click_offsets()\n",
    "        self.session_idx = np.arange(self.df['SessionId'].nunique())  # indexing to SessionId\n",
    "\n",
    "    def get_click_offsets(self):\n",
    "        \"\"\"\n",
    "        Return the indexes of the first click of each session IDs,\n",
    "        \"\"\"\n",
    "        offsets = np.zeros(self.df['SessionId'].nunique() + 1, dtype=np.int32)\n",
    "        offsets[1:] = self.df.groupby('SessionId').size().cumsum()\n",
    "        return offsets"
   ]
  },
  {
   "cell_type": "code",
   "execution_count": 35,
   "metadata": {
    "colab": {
     "base_uri": "https://localhost:8080/",
     "height": 357
    },
    "executionInfo": {
     "elapsed": 54,
     "status": "ok",
     "timestamp": 1630251229439,
     "user": {
      "displayName": "‍유상민[학생](이과대학 생물학과)",
      "photoUrl": "",
      "userId": "15014503589518623359"
     },
     "user_tz": -540
    },
    "id": "_rSeooZrIewM",
    "outputId": "b7d104c3-c170-41ad-80ab-dfe55dfc92f0"
   },
   "outputs": [
    {
     "data": {
      "text/html": [
       "<div>\n",
       "<style scoped>\n",
       "    .dataframe tbody tr th:only-of-type {\n",
       "        vertical-align: middle;\n",
       "    }\n",
       "\n",
       "    .dataframe tbody tr th {\n",
       "        vertical-align: top;\n",
       "    }\n",
       "\n",
       "    .dataframe thead th {\n",
       "        text-align: right;\n",
       "    }\n",
       "</style>\n",
       "<table border=\"1\" class=\"dataframe\">\n",
       "  <thead>\n",
       "    <tr style=\"text-align: right;\">\n",
       "      <th></th>\n",
       "      <th>SessionId</th>\n",
       "      <th>ItemId</th>\n",
       "      <th>Time</th>\n",
       "      <th>item_idx</th>\n",
       "    </tr>\n",
       "  </thead>\n",
       "  <tbody>\n",
       "    <tr>\n",
       "      <th>0</th>\n",
       "      <td>1</td>\n",
       "      <td>1270</td>\n",
       "      <td>2000-12-31 22:00:55</td>\n",
       "      <td>0</td>\n",
       "    </tr>\n",
       "    <tr>\n",
       "      <th>1</th>\n",
       "      <td>1</td>\n",
       "      <td>1721</td>\n",
       "      <td>2000-12-31 22:00:55</td>\n",
       "      <td>1</td>\n",
       "    </tr>\n",
       "    <tr>\n",
       "      <th>2</th>\n",
       "      <td>1</td>\n",
       "      <td>1022</td>\n",
       "      <td>2000-12-31 22:00:55</td>\n",
       "      <td>2</td>\n",
       "    </tr>\n",
       "    <tr>\n",
       "      <th>3</th>\n",
       "      <td>5</td>\n",
       "      <td>2804</td>\n",
       "      <td>2000-12-31 22:11:59</td>\n",
       "      <td>3</td>\n",
       "    </tr>\n",
       "    <tr>\n",
       "      <th>4</th>\n",
       "      <td>5</td>\n",
       "      <td>1207</td>\n",
       "      <td>2000-12-31 22:11:59</td>\n",
       "      <td>4</td>\n",
       "    </tr>\n",
       "    <tr>\n",
       "      <th>5</th>\n",
       "      <td>6</td>\n",
       "      <td>1193</td>\n",
       "      <td>2000-12-31 22:12:40</td>\n",
       "      <td>5</td>\n",
       "    </tr>\n",
       "    <tr>\n",
       "      <th>6</th>\n",
       "      <td>6</td>\n",
       "      <td>720</td>\n",
       "      <td>2000-12-31 22:12:40</td>\n",
       "      <td>6</td>\n",
       "    </tr>\n",
       "    <tr>\n",
       "      <th>7</th>\n",
       "      <td>6</td>\n",
       "      <td>260</td>\n",
       "      <td>2000-12-31 22:12:40</td>\n",
       "      <td>7</td>\n",
       "    </tr>\n",
       "    <tr>\n",
       "      <th>8</th>\n",
       "      <td>14</td>\n",
       "      <td>1035</td>\n",
       "      <td>2000-12-31 22:29:13</td>\n",
       "      <td>8</td>\n",
       "    </tr>\n",
       "    <tr>\n",
       "      <th>9</th>\n",
       "      <td>14</td>\n",
       "      <td>1962</td>\n",
       "      <td>2000-12-31 22:29:13</td>\n",
       "      <td>9</td>\n",
       "    </tr>\n",
       "  </tbody>\n",
       "</table>\n",
       "</div>"
      ],
      "text/plain": [
       "   SessionId  ItemId                Time  item_idx\n",
       "0          1    1270 2000-12-31 22:00:55         0\n",
       "1          1    1721 2000-12-31 22:00:55         1\n",
       "2          1    1022 2000-12-31 22:00:55         2\n",
       "3          5    2804 2000-12-31 22:11:59         3\n",
       "4          5    1207 2000-12-31 22:11:59         4\n",
       "5          6    1193 2000-12-31 22:12:40         5\n",
       "6          6     720 2000-12-31 22:12:40         6\n",
       "7          6     260 2000-12-31 22:12:40         7\n",
       "8         14    1035 2000-12-31 22:29:13         8\n",
       "9         14    1962 2000-12-31 22:29:13         9"
      ]
     },
     "execution_count": 35,
     "metadata": {},
     "output_type": "execute_result"
    }
   ],
   "source": [
    "# SessionDataset 객체 만들기\n",
    "\n",
    "tr_dataset = SessionDataset(tr)\n",
    "tr_dataset.df.head(10)"
   ]
  },
  {
   "cell_type": "code",
   "execution_count": 36,
   "metadata": {},
   "outputs": [
    {
     "data": {
      "text/plain": [
       "array([     0,      3,      5, ..., 770091, 770093, 770095], dtype=int32)"
      ]
     },
     "execution_count": 36,
     "metadata": {},
     "output_type": "execute_result"
    }
   ],
   "source": [
    "tr_dataset.click_offsets"
   ]
  },
  {
   "cell_type": "code",
   "execution_count": 37,
   "metadata": {},
   "outputs": [
    {
     "data": {
      "text/plain": [
       "array([     0,      1,      2, ..., 243621, 243622, 243623])"
      ]
     },
     "execution_count": 37,
     "metadata": {},
     "output_type": "execute_result"
    }
   ],
   "source": [
    "tr_dataset.session_idx"
   ]
  },
  {
   "cell_type": "markdown",
   "metadata": {},
   "source": [
    "### 2-2. SessionDataLoader"
   ]
  },
  {
   "cell_type": "code",
   "execution_count": 38,
   "metadata": {
    "executionInfo": {
     "elapsed": 52,
     "status": "ok",
     "timestamp": 1630251229443,
     "user": {
      "displayName": "‍유상민[학생](이과대학 생물학과)",
      "photoUrl": "",
      "userId": "15014503589518623359"
     },
     "user_tz": -540
    },
    "id": "eCe7f6IBI2Iw"
   },
   "outputs": [],
   "source": [
    "class SessionDataLoader:\n",
    "    \"\"\"Credit to yhs-968/pyGRU4REC.\"\"\"\n",
    "\n",
    "    def __init__(self, dataset: SessionDataset, batch_size=50):\n",
    "        self.dataset = dataset\n",
    "        self.batch_size = batch_size\n",
    "\n",
    "    def __iter__(self):\n",
    "        \"\"\" Returns the iterator for producing session-parallel training mini-batches.\n",
    "        Yields:\n",
    "            input (B,):  Item indices that will be encoded as one-hot vectors later.\n",
    "            target (B,): a Variable that stores the target item indices\n",
    "            masks: Numpy array indicating the positions of the sessions to be terminated\n",
    "        \"\"\"\n",
    "\n",
    "        start, end, mask, last_session, finished = self.initialize()  # initialize 메소드에서 확인해주세요.\n",
    "        \"\"\"\n",
    "        start : Index Where Session Start\n",
    "        end : Index Where Session End\n",
    "        mask : indicator for the sessions to be terminated\n",
    "        \"\"\"\n",
    "\n",
    "        while not finished:\n",
    "            min_len = (end - start).min() - 1  # Shortest Length Among Sessions\n",
    "            for i in range(min_len):\n",
    "                # Build inputs & targets\n",
    "                inp = self.dataset.df['item_idx'].values[start + i]\n",
    "                target = self.dataset.df['item_idx'].values[start + i + 1]\n",
    "                yield inp, target, mask\n",
    "\n",
    "            start, end, mask, last_session, finished = self.update_status(start, end, min_len, last_session, finished)\n",
    "\n",
    "    def initialize(self):\n",
    "        first_iters = np.arange(self.batch_size)    # 첫 배치에 사용할 세션 Index를 가져옵니다.\n",
    "        last_session = self.batch_size - 1    # 마지막으로 다루고 있는 세션 Index를 저장해둡니다.\n",
    "        start = self.dataset.click_offsets[self.dataset.session_idx[first_iters]]       # data 상에서 session이 시작된 위치를 가져옵니다.\n",
    "        end = self.dataset.click_offsets[self.dataset.session_idx[first_iters] + 1]  # session이 끝난 위치 바로 다음 위치를 가져옵니다.\n",
    "        mask = np.array([])   # session의 모든 아이템을 다 돌은 경우 mask에 추가해줄 것입니다.\n",
    "        finished = False         # data를 전부 돌았는지 기록하기 위한 변수입니다.\n",
    "        return start, end, mask, last_session, finished\n",
    "\n",
    "    def update_status(self, start: np.ndarray, end: np.ndarray, min_len: int, last_session: int, finished: bool):  \n",
    "        # 다음 배치 데이터를 생성하기 위해 상태를 update합니다.\n",
    "        \n",
    "        start += min_len   # __iter__에서 min_len 만큼 for문을 돌았으므로 start를 min_len 만큼 더해줍니다.\n",
    "        mask = np.arange(self.batch_size)[(end - start) == 1]  \n",
    "        # end는 다음 세션이 시작되는 위치인데 start와 한 칸 차이난다는 것은 session이 끝났다는 뜻입니다. mask에 기록해줍니다.\n",
    "\n",
    "        for i, idx in enumerate(mask, start=1):  # mask에 추가된 세션 개수만큼 새로운 세션을 돌것입니다.\n",
    "            new_session = last_session + i  \n",
    "            if new_session > self.dataset.session_idx[-1]:  # 만약 새로운 세션이 마지막 세션 index보다 크다면 모든 학습데이터를 돈 것입니다.\n",
    "                finished = True\n",
    "                break\n",
    "            # update the next starting/ending point\n",
    "            start[idx] = self.dataset.click_offsets[self.dataset.session_idx[new_session]]     # 종료된 세션 대신 새로운 세션의 시작점을 기록합니다.\n",
    "            end[idx] = self.dataset.click_offsets[self.dataset.session_idx[new_session] + 1]\n",
    "\n",
    "        last_session += len(mask)  # 마지막 세션의 위치를 기록해둡니다.\n",
    "        return start, end, mask, last_session, finished"
   ]
  },
  {
   "cell_type": "code",
   "execution_count": 39,
   "metadata": {},
   "outputs": [
    {
     "data": {
      "text/html": [
       "<div>\n",
       "<style scoped>\n",
       "    .dataframe tbody tr th:only-of-type {\n",
       "        vertical-align: middle;\n",
       "    }\n",
       "\n",
       "    .dataframe tbody tr th {\n",
       "        vertical-align: top;\n",
       "    }\n",
       "\n",
       "    .dataframe thead th {\n",
       "        text-align: right;\n",
       "    }\n",
       "</style>\n",
       "<table border=\"1\" class=\"dataframe\">\n",
       "  <thead>\n",
       "    <tr style=\"text-align: right;\">\n",
       "      <th></th>\n",
       "      <th>SessionId</th>\n",
       "      <th>ItemId</th>\n",
       "      <th>Time</th>\n",
       "      <th>item_idx</th>\n",
       "    </tr>\n",
       "  </thead>\n",
       "  <tbody>\n",
       "    <tr>\n",
       "      <th>0</th>\n",
       "      <td>1</td>\n",
       "      <td>1270</td>\n",
       "      <td>2000-12-31 22:00:55</td>\n",
       "      <td>0</td>\n",
       "    </tr>\n",
       "    <tr>\n",
       "      <th>1</th>\n",
       "      <td>1</td>\n",
       "      <td>1721</td>\n",
       "      <td>2000-12-31 22:00:55</td>\n",
       "      <td>1</td>\n",
       "    </tr>\n",
       "    <tr>\n",
       "      <th>2</th>\n",
       "      <td>1</td>\n",
       "      <td>1022</td>\n",
       "      <td>2000-12-31 22:00:55</td>\n",
       "      <td>2</td>\n",
       "    </tr>\n",
       "    <tr>\n",
       "      <th>3</th>\n",
       "      <td>5</td>\n",
       "      <td>2804</td>\n",
       "      <td>2000-12-31 22:11:59</td>\n",
       "      <td>3</td>\n",
       "    </tr>\n",
       "    <tr>\n",
       "      <th>4</th>\n",
       "      <td>5</td>\n",
       "      <td>1207</td>\n",
       "      <td>2000-12-31 22:11:59</td>\n",
       "      <td>4</td>\n",
       "    </tr>\n",
       "  </tbody>\n",
       "</table>\n",
       "</div>"
      ],
      "text/plain": [
       "   SessionId  ItemId                Time  item_idx\n",
       "0          1    1270 2000-12-31 22:00:55         0\n",
       "1          1    1721 2000-12-31 22:00:55         1\n",
       "2          1    1022 2000-12-31 22:00:55         2\n",
       "3          5    2804 2000-12-31 22:11:59         3\n",
       "4          5    1207 2000-12-31 22:11:59         4"
      ]
     },
     "execution_count": 39,
     "metadata": {},
     "output_type": "execute_result"
    }
   ],
   "source": [
    "tr_data_loader = SessionDataLoader(tr_dataset, batch_size=100)\n",
    "tr_dataset.df.head(5)"
   ]
  },
  {
   "cell_type": "markdown",
   "metadata": {},
   "source": [
    "## 3. Modeling\n",
    "### 3-1. Evaluation Metric"
   ]
  },
  {
   "cell_type": "code",
   "execution_count": 40,
   "metadata": {
    "executionInfo": {
     "elapsed": 56,
     "status": "ok",
     "timestamp": 1630251229449,
     "user": {
      "displayName": "‍유상민[학생](이과대학 생물학과)",
      "photoUrl": "",
      "userId": "15014503589518623359"
     },
     "user_tz": -540
    },
    "id": "oD6DmWD5RWnV"
   },
   "outputs": [],
   "source": [
    "def mrr_k(pred, truth: int, k: int):\n",
    "    indexing = np.where(pred[:k] == truth)[0]\n",
    "    if len(indexing) > 0:\n",
    "        return 1 / (indexing[0] + 1)\n",
    "    else:\n",
    "        return 0\n",
    "\n",
    "def recall_k(pred, truth: int, k: int) -> int:\n",
    "    answer = truth in pred[:k]\n",
    "    return int(answer)"
   ]
  },
  {
   "cell_type": "markdown",
   "metadata": {
    "id": "FEXW7NXCRZgL"
   },
   "source": [
    "### 3-2. Model Architecture"
   ]
  },
  {
   "cell_type": "code",
   "execution_count": 41,
   "metadata": {
    "executionInfo": {
     "elapsed": 59,
     "status": "ok",
     "timestamp": 1630251229458,
     "user": {
      "displayName": "‍유상민[학생](이과대학 생물학과)",
      "photoUrl": "",
      "userId": "15014503589518623359"
     },
     "user_tz": -540
    },
    "id": "pJChm6BpRgIt"
   },
   "outputs": [],
   "source": [
    "def create_model(args):\n",
    "    inputs = Input(batch_shape=(args.batch_size, 1, args.num_items))\n",
    "    gru, _ = GRU(args.hsz, stateful=True, return_state=True, name='GRU')(inputs)\n",
    "    dropout = Dropout(args.drop_rate)(gru)\n",
    "    predictions = Dense(args.num_items, activation='softmax')(dropout)\n",
    "    model = Model(inputs=inputs, outputs=[predictions])\n",
    "    model.compile(loss=categorical_crossentropy, optimizer=Adam(args.lr), metrics=['accuracy'])\n",
    "    model.summary()\n",
    "    return model"
   ]
  },
  {
   "cell_type": "code",
   "execution_count": 42,
   "metadata": {
    "executionInfo": {
     "elapsed": 62,
     "status": "ok",
     "timestamp": 1630251229462,
     "user": {
      "displayName": "‍유상민[학생](이과대학 생물학과)",
      "photoUrl": "",
      "userId": "15014503589518623359"
     },
     "user_tz": -540
    },
    "id": "9VZ_lSnGRi24"
   },
   "outputs": [],
   "source": [
    "# 하이퍼파라미터를 클래스로 관리\n",
    "\n",
    "class Args:\n",
    "    def __init__(self, tr, val, test, batch_size, hsz, drop_rate, lr, epochs, k):\n",
    "        self.tr = tr\n",
    "        self.val = val\n",
    "        self.test = test\n",
    "        self.num_items = tr['ItemId'].nunique()\n",
    "        self.num_sessions = tr['SessionId'].nunique()\n",
    "        self.batch_size = batch_size\n",
    "        self.hsz = hsz\n",
    "        self.drop_rate = drop_rate\n",
    "        self.lr = lr\n",
    "        self.epochs = epochs\n",
    "        self.k = k"
   ]
  },
  {
   "cell_type": "code",
   "execution_count": 43,
   "metadata": {
    "executionInfo": {
     "elapsed": 11,
     "status": "ok",
     "timestamp": 1630251229818,
     "user": {
      "displayName": "‍유상민[학생](이과대학 생물학과)",
      "photoUrl": "",
      "userId": "15014503589518623359"
     },
     "user_tz": -540
    },
    "id": "rgApMnlUidEy"
   },
   "outputs": [],
   "source": [
    "# train 셋으로 학습하면서 valid 셋으로 검증합니다.\n",
    "def train_model(model, args, adjust):\n",
    "    train_dataset = SessionDataset(args.tr)\n",
    "    train_loader = SessionDataLoader(train_dataset, batch_size=args.batch_size)\n",
    "\n",
    "    results = dict(\n",
    "        **{key:[] for key in adjust.keys()},\n",
    "        epoch = [],\n",
    "        recall = [],\n",
    "        mrr = [],\n",
    "    )\n",
    "\n",
    "    for epoch in range(1, args.epochs + 1):\n",
    "        total_step = len(args.tr) - args.tr['SessionId'].nunique()\n",
    "        tr_loader = tqdm(train_loader, total=total_step // args.batch_size, desc='Train', mininterval=1)\n",
    "        for feat, target, mask in tr_loader:\n",
    "            reset_hidden_states(model, mask)  # 종료된 session은 hidden_state를 초기화합니다. 아래 메서드에서 확인해주세요.\n",
    "\n",
    "            input_ohe = to_categorical(feat, num_classes=args.num_items)\n",
    "            input_ohe = np.expand_dims(input_ohe, axis=1)\n",
    "            target_ohe = to_categorical(target, num_classes=args.num_items)\n",
    "\n",
    "            result = model.train_on_batch(input_ohe, target_ohe)\n",
    "            tr_loader.set_postfix(train_loss=result[0], accuracy = result[1])\n",
    "\n",
    "        val_recall, val_mrr = get_metrics(args.val, model, args, args.k)  # valid set에 대해 검증합니다.\n",
    "\n",
    "        print(f\"\\t - Recall@{args.k} epoch {epoch}/{args.epochs}: {val_recall:3f}\")\n",
    "        print(f\"\\t - MRR@{args.k}    epoch {epoch}/{args.epochs}: {val_mrr:3f}\\n\")\n",
    "\n",
    "        for k, v in adjust.items():\n",
    "            results[k] = v\n",
    "\n",
    "        results['epoch'].append(epoch)\n",
    "        results['recall'].append(val_recall)\n",
    "        results['mrr'].append(val_mrr)\n",
    "\n",
    "    return results\n",
    "\n",
    "def reset_hidden_states(model, mask):\n",
    "    gru_layer = model.get_layer(name='GRU')  # model에서 gru layer를 가져옵니다.\n",
    "    hidden_states = gru_layer.states[0].numpy()  # gru_layer의 parameter를 가져옵니다.\n",
    "    for elt in mask:  # mask된 인덱스 즉, 종료된 세션의 인덱스를 돌면서\n",
    "        hidden_states[elt, :] = 0  # parameter를 초기화 합니다.\n",
    "    gru_layer.reset_states(states=hidden_states)\n",
    "\n",
    "def get_metrics(data, model, args, k: int):  # valid셋과 test셋을 평가하는 코드입니다. \n",
    "                                             # train과 거의 같지만 mrr, recall을 구하는 라인이 있습니다.\n",
    "    dataset = SessionDataset(data)\n",
    "    loader = SessionDataLoader(dataset, batch_size=args.batch_size)\n",
    "    recall_list, mrr_list = [], []\n",
    "\n",
    "    total_step = len(data) - data['SessionId'].nunique()\n",
    "    for inputs, label, mask in tqdm(loader, total=total_step // args.batch_size, desc='Evaluation', mininterval=1):\n",
    "        reset_hidden_states(model, mask)\n",
    "        input_ohe = to_categorical(inputs, num_classes=args.num_items)\n",
    "        input_ohe = np.expand_dims(input_ohe, axis=1)\n",
    "\n",
    "        pred = model.predict(input_ohe, batch_size=args.batch_size)\n",
    "        pred_arg = tf.argsort(pred, direction='DESCENDING')  # softmax 값이 큰 순서대로 sorting 합니다.\n",
    "\n",
    "        length = len(inputs)\n",
    "        recall_list.extend([recall_k(pred_arg[i], label[i], k) for i in range(length)])\n",
    "        mrr_list.extend([mrr_k(pred_arg[i], label[i], k) for i in range(length)])\n",
    "\n",
    "    recall, mrr = np.mean(recall_list), np.mean(mrr_list)\n",
    "    return recall, mrr\n",
    "\n",
    "def test_model(model, args, test):\n",
    "    test_recall, test_mrr = get_metrics(test, model, args, 20)\n",
    "    print()\n",
    "    print(f\"\\t - Recall@{args.k}: {test_recall:3f}\")\n",
    "    print(f\"\\t - MRR@{args.k}: {test_mrr:3f}\\n\")"
   ]
  },
  {
   "cell_type": "markdown",
   "metadata": {},
   "source": [
    "### 3-3. Model Training\n",
    "* 하이퍼파라미터 변경 실험\n",
    "    * batch_size, learning_reate, epochs"
   ]
  },
  {
   "cell_type": "code",
   "execution_count": 44,
   "metadata": {
    "colab": {
     "base_uri": "https://localhost:8080/"
    },
    "executionInfo": {
     "elapsed": 414,
     "status": "ok",
     "timestamp": 1630251229817,
     "user": {
      "displayName": "‍유상민[학생](이과대학 생물학과)",
      "photoUrl": "",
      "userId": "15014503589518623359"
     },
     "user_tz": -540
    },
    "id": "18DVxJeuiRAL",
    "outputId": "001ad083-a25e-4dbe-cc62-9c08ced9b61f",
    "scrolled": false
   },
   "outputs": [
    {
     "name": "stdout",
     "output_type": "stream",
     "text": [
      "Model: \"model\"\n",
      "_________________________________________________________________\n",
      "Layer (type)                 Output Shape              Param #   \n",
      "=================================================================\n",
      "input_1 (InputLayer)         [(512, 1, 3333)]          0         \n",
      "_________________________________________________________________\n",
      "GRU (GRU)                    [(512, 50), (512, 50)]    507750    \n",
      "_________________________________________________________________\n",
      "dropout (Dropout)            (512, 50)                 0         \n",
      "_________________________________________________________________\n",
      "dense (Dense)                (512, 3333)               169983    \n",
      "=================================================================\n",
      "Total params: 677,733\n",
      "Trainable params: 677,733\n",
      "Non-trainable params: 0\n",
      "_________________________________________________________________\n"
     ]
    },
    {
     "name": "stderr",
     "output_type": "stream",
     "text": [
      "Train: 100%|█████████▉| 1026/1028 [00:35<00:00, 28.65it/s, accuracy=0.00586, train_loss=7.24]\n",
      "Evaluation: 100%|██████████| 1/1 [00:02<00:00,  2.45s/it]\n"
     ]
    },
    {
     "name": "stdout",
     "output_type": "stream",
     "text": [
      "\t - Recall@20 epoch 1/3: 0.025391\n",
      "\t - MRR@20    epoch 1/3: 0.005076\n",
      "\n"
     ]
    },
    {
     "name": "stderr",
     "output_type": "stream",
     "text": [
      "Train: 100%|█████████▉| 1026/1028 [00:33<00:00, 30.86it/s, accuracy=0.0312, train_loss=6.68] \n",
      "Evaluation: 100%|██████████| 1/1 [00:02<00:00,  2.16s/it]\n"
     ]
    },
    {
     "name": "stdout",
     "output_type": "stream",
     "text": [
      "\t - Recall@20 epoch 2/3: 0.037109\n",
      "\t - MRR@20    epoch 2/3: 0.007564\n",
      "\n"
     ]
    },
    {
     "name": "stderr",
     "output_type": "stream",
     "text": [
      "Train: 100%|█████████▉| 1026/1028 [00:33<00:00, 31.05it/s, accuracy=0.0391, train_loss=6.29]\n",
      "Evaluation: 100%|██████████| 1/1 [00:02<00:00,  2.23s/it]\n"
     ]
    },
    {
     "name": "stdout",
     "output_type": "stream",
     "text": [
      "\t - Recall@20 epoch 3/3: 0.056641\n",
      "\t - MRR@20    epoch 3/3: 0.011804\n",
      "\n",
      "Model: \"model_1\"\n",
      "_________________________________________________________________\n",
      "Layer (type)                 Output Shape              Param #   \n",
      "=================================================================\n",
      "input_2 (InputLayer)         [(256, 1, 3333)]          0         \n",
      "_________________________________________________________________\n",
      "GRU (GRU)                    [(256, 50), (256, 50)]    507750    \n",
      "_________________________________________________________________\n",
      "dropout_1 (Dropout)          (256, 50)                 0         \n",
      "_________________________________________________________________\n",
      "dense_1 (Dense)              (256, 3333)               169983    \n",
      "=================================================================\n",
      "Total params: 677,733\n",
      "Trainable params: 677,733\n",
      "Non-trainable params: 0\n",
      "_________________________________________________________________\n"
     ]
    },
    {
     "name": "stderr",
     "output_type": "stream",
     "text": [
      "Train: 100%|█████████▉| 2055/2056 [00:42<00:00, 48.91it/s, accuracy=0.0234, train_loss=7.18] \n",
      "Evaluation:  67%|██████▋   | 2/3 [00:02<00:01,  1.25s/it]\n"
     ]
    },
    {
     "name": "stdout",
     "output_type": "stream",
     "text": [
      "\t - Recall@20 epoch 1/3: 0.027344\n",
      "\t - MRR@20    epoch 1/3: 0.004264\n",
      "\n"
     ]
    },
    {
     "name": "stderr",
     "output_type": "stream",
     "text": [
      "Train: 100%|█████████▉| 2055/2056 [00:40<00:00, 51.26it/s, accuracy=0.0352, train_loss=6.47] \n",
      "Evaluation:  67%|██████▋   | 2/3 [00:02<00:01,  1.07s/it]\n"
     ]
    },
    {
     "name": "stdout",
     "output_type": "stream",
     "text": [
      "\t - Recall@20 epoch 2/3: 0.074219\n",
      "\t - MRR@20    epoch 2/3: 0.015082\n",
      "\n"
     ]
    },
    {
     "name": "stderr",
     "output_type": "stream",
     "text": [
      "Train: 100%|█████████▉| 2055/2056 [00:40<00:00, 50.96it/s, accuracy=0.0273, train_loss=6.18] \n",
      "Evaluation:  67%|██████▋   | 2/3 [00:02<00:01,  1.15s/it]\n"
     ]
    },
    {
     "name": "stdout",
     "output_type": "stream",
     "text": [
      "\t - Recall@20 epoch 3/3: 0.105469\n",
      "\t - MRR@20    epoch 3/3: 0.030629\n",
      "\n",
      "Model: \"model_2\"\n",
      "_________________________________________________________________\n",
      "Layer (type)                 Output Shape              Param #   \n",
      "=================================================================\n",
      "input_3 (InputLayer)         [(128, 1, 3333)]          0         \n",
      "_________________________________________________________________\n",
      "GRU (GRU)                    [(128, 50), (128, 50)]    507750    \n",
      "_________________________________________________________________\n",
      "dropout_2 (Dropout)          (128, 50)                 0         \n",
      "_________________________________________________________________\n",
      "dense_2 (Dense)              (128, 3333)               169983    \n",
      "=================================================================\n",
      "Total params: 677,733\n",
      "Trainable params: 677,733\n",
      "Non-trainable params: 0\n",
      "_________________________________________________________________\n"
     ]
    },
    {
     "name": "stderr",
     "output_type": "stream",
     "text": [
      "Train: 100%|█████████▉| 4112/4113 [00:59<00:00, 69.48it/s, accuracy=0.0156, train_loss=7]    \n",
      "Evaluation: 100%|██████████| 6/6 [00:03<00:00,  1.71it/s]\n"
     ]
    },
    {
     "name": "stdout",
     "output_type": "stream",
     "text": [
      "\t - Recall@20 epoch 1/3: 0.085938\n",
      "\t - MRR@20    epoch 1/3: 0.022928\n",
      "\n"
     ]
    },
    {
     "name": "stderr",
     "output_type": "stream",
     "text": [
      "Train: 100%|█████████▉| 4112/4113 [00:57<00:00, 71.44it/s, accuracy=0.0312, train_loss=6.42] \n",
      "Evaluation: 100%|██████████| 6/6 [00:03<00:00,  1.89it/s]\n"
     ]
    },
    {
     "name": "stdout",
     "output_type": "stream",
     "text": [
      "\t - Recall@20 epoch 2/3: 0.165365\n",
      "\t - MRR@20    epoch 2/3: 0.044778\n",
      "\n"
     ]
    },
    {
     "name": "stderr",
     "output_type": "stream",
     "text": [
      "Train: 100%|█████████▉| 4112/4113 [00:57<00:00, 71.59it/s, accuracy=0.0234, train_loss=6.24] \n",
      "Evaluation: 100%|██████████| 6/6 [00:03<00:00,  1.92it/s]"
     ]
    },
    {
     "name": "stdout",
     "output_type": "stream",
     "text": [
      "\t - Recall@20 epoch 3/3: 0.194010\n",
      "\t - MRR@20    epoch 3/3: 0.059402\n",
      "\n"
     ]
    },
    {
     "name": "stderr",
     "output_type": "stream",
     "text": [
      "\n"
     ]
    },
    {
     "data": {
      "text/html": [
       "<div>\n",
       "<style scoped>\n",
       "    .dataframe tbody tr th:only-of-type {\n",
       "        vertical-align: middle;\n",
       "    }\n",
       "\n",
       "    .dataframe tbody tr th {\n",
       "        vertical-align: top;\n",
       "    }\n",
       "\n",
       "    .dataframe thead th {\n",
       "        text-align: right;\n",
       "    }\n",
       "</style>\n",
       "<table border=\"1\" class=\"dataframe\">\n",
       "  <thead>\n",
       "    <tr style=\"text-align: right;\">\n",
       "      <th></th>\n",
       "      <th>batch_size</th>\n",
       "      <th>epoch</th>\n",
       "      <th>recall</th>\n",
       "      <th>mrr</th>\n",
       "    </tr>\n",
       "  </thead>\n",
       "  <tbody>\n",
       "    <tr>\n",
       "      <th>0</th>\n",
       "      <td>512</td>\n",
       "      <td>1</td>\n",
       "      <td>0.025391</td>\n",
       "      <td>0.005076</td>\n",
       "    </tr>\n",
       "    <tr>\n",
       "      <th>1</th>\n",
       "      <td>512</td>\n",
       "      <td>2</td>\n",
       "      <td>0.037109</td>\n",
       "      <td>0.007564</td>\n",
       "    </tr>\n",
       "    <tr>\n",
       "      <th>2</th>\n",
       "      <td>512</td>\n",
       "      <td>3</td>\n",
       "      <td>0.056641</td>\n",
       "      <td>0.011804</td>\n",
       "    </tr>\n",
       "    <tr>\n",
       "      <th>3</th>\n",
       "      <td>256</td>\n",
       "      <td>1</td>\n",
       "      <td>0.027344</td>\n",
       "      <td>0.004264</td>\n",
       "    </tr>\n",
       "    <tr>\n",
       "      <th>4</th>\n",
       "      <td>256</td>\n",
       "      <td>2</td>\n",
       "      <td>0.074219</td>\n",
       "      <td>0.015082</td>\n",
       "    </tr>\n",
       "    <tr>\n",
       "      <th>5</th>\n",
       "      <td>256</td>\n",
       "      <td>3</td>\n",
       "      <td>0.105469</td>\n",
       "      <td>0.030629</td>\n",
       "    </tr>\n",
       "    <tr>\n",
       "      <th>6</th>\n",
       "      <td>128</td>\n",
       "      <td>1</td>\n",
       "      <td>0.085938</td>\n",
       "      <td>0.022928</td>\n",
       "    </tr>\n",
       "    <tr>\n",
       "      <th>7</th>\n",
       "      <td>128</td>\n",
       "      <td>2</td>\n",
       "      <td>0.165365</td>\n",
       "      <td>0.044778</td>\n",
       "    </tr>\n",
       "    <tr>\n",
       "      <th>8</th>\n",
       "      <td>128</td>\n",
       "      <td>3</td>\n",
       "      <td>0.194010</td>\n",
       "      <td>0.059402</td>\n",
       "    </tr>\n",
       "  </tbody>\n",
       "</table>\n",
       "</div>"
      ],
      "text/plain": [
       "   batch_size  epoch    recall       mrr\n",
       "0         512      1  0.025391  0.005076\n",
       "1         512      2  0.037109  0.007564\n",
       "2         512      3  0.056641  0.011804\n",
       "3         256      1  0.027344  0.004264\n",
       "4         256      2  0.074219  0.015082\n",
       "5         256      3  0.105469  0.030629\n",
       "6         128      1  0.085938  0.022928\n",
       "7         128      2  0.165365  0.044778\n",
       "8         128      3  0.194010  0.059402"
      ]
     },
     "execution_count": 44,
     "metadata": {},
     "output_type": "execute_result"
    }
   ],
   "source": [
    "result_df = pd.DataFrame()\n",
    "for b_size in [512, 256, 128]:\n",
    "    args = Args(tr, val, test, batch_size=b_size, hsz=50, drop_rate=0.3, lr=0.001, epochs=3, k=20)\n",
    "    model = create_model(args)\n",
    "\n",
    "    results = train_model(model, args, adjust=dict(batch_size=b_size))\n",
    "    result_df = pd.concat([result_df, pd.DataFrame(results)], ignore_index=True)\n",
    "\n",
    "result_df"
   ]
  },
  {
   "cell_type": "code",
   "execution_count": 45,
   "metadata": {},
   "outputs": [
    {
     "data": {
      "image/png": "[encoded data removed]",
      "text/plain": [
       "<Figure size 1296x432 with 2 Axes>"
      ]
     },
     "metadata": {
      "needs_background": "light"
     },
     "output_type": "display_data"
    }
   ],
   "source": [
    "plt.figure(figsize=(18, 6))\n",
    "plt.subplot(121)\n",
    "sns.lineplot(x='epoch', y='recall', hue='batch_size', data=result_df)\n",
    "\n",
    "plt.subplot(122)\n",
    "sns.lineplot(x='epoch', y='mrr', hue='batch_size', data=result_df)\n",
    "\n",
    "plt.tight_layout()"
   ]
  },
  {
   "cell_type": "markdown",
   "metadata": {},
   "source": [
    "> batch_size는 `[128, 256, 512]`중에서 `128`이 가장 적합하다."
   ]
  },
  {
   "cell_type": "code",
   "execution_count": 51,
   "metadata": {
    "scrolled": false
   },
   "outputs": [
    {
     "name": "stdout",
     "output_type": "stream",
     "text": [
      "Model: \"model_9\"\n",
      "_________________________________________________________________\n",
      "Layer (type)                 Output Shape              Param #   \n",
      "=================================================================\n",
      "input_10 (InputLayer)        [(128, 1, 3333)]          0         \n",
      "_________________________________________________________________\n",
      "GRU (GRU)                    [(128, 50), (128, 50)]    507750    \n",
      "_________________________________________________________________\n",
      "dropout_9 (Dropout)          (128, 50)                 0         \n",
      "_________________________________________________________________\n",
      "dense_9 (Dense)              (128, 3333)               169983    \n",
      "=================================================================\n",
      "Total params: 677,733\n",
      "Trainable params: 677,733\n",
      "Non-trainable params: 0\n",
      "_________________________________________________________________\n"
     ]
    },
    {
     "name": "stderr",
     "output_type": "stream",
     "text": [
      "Train: 100%|█████████▉| 4112/4113 [00:57<00:00, 71.74it/s, accuracy=0.0156, train_loss=6.26] \n",
      "Evaluation: 100%|██████████| 6/6 [00:03<00:00,  1.67it/s]\n"
     ]
    },
    {
     "name": "stdout",
     "output_type": "stream",
     "text": [
      "\t - Recall@20 epoch 1/3: 0.177083\n",
      "\t - MRR@20    epoch 1/3: 0.059357\n",
      "\n"
     ]
    },
    {
     "name": "stderr",
     "output_type": "stream",
     "text": [
      "Train: 100%|█████████▉| 4112/4113 [00:57<00:00, 71.95it/s, accuracy=0.0312, train_loss=5.98] \n",
      "Evaluation: 100%|██████████| 6/6 [00:03<00:00,  1.90it/s]\n"
     ]
    },
    {
     "name": "stdout",
     "output_type": "stream",
     "text": [
      "\t - Recall@20 epoch 2/3: 0.167969\n",
      "\t - MRR@20    epoch 2/3: 0.054061\n",
      "\n"
     ]
    },
    {
     "name": "stderr",
     "output_type": "stream",
     "text": [
      "Train: 100%|█████████▉| 4112/4113 [00:56<00:00, 72.23it/s, accuracy=0.0312, train_loss=6.09] \n",
      "Evaluation: 100%|██████████| 6/6 [00:03<00:00,  1.85it/s]\n"
     ]
    },
    {
     "name": "stdout",
     "output_type": "stream",
     "text": [
      "\t - Recall@20 epoch 3/3: 0.165365\n",
      "\t - MRR@20    epoch 3/3: 0.057436\n",
      "\n",
      "Model: \"model_10\"\n",
      "_________________________________________________________________\n",
      "Layer (type)                 Output Shape              Param #   \n",
      "=================================================================\n",
      "input_11 (InputLayer)        [(128, 1, 3333)]          0         \n",
      "_________________________________________________________________\n",
      "GRU (GRU)                    [(128, 50), (128, 50)]    507750    \n",
      "_________________________________________________________________\n",
      "dropout_10 (Dropout)         (128, 50)                 0         \n",
      "_________________________________________________________________\n",
      "dense_10 (Dense)             (128, 3333)               169983    \n",
      "=================================================================\n",
      "Total params: 677,733\n",
      "Trainable params: 677,733\n",
      "Non-trainable params: 0\n",
      "_________________________________________________________________\n"
     ]
    },
    {
     "name": "stderr",
     "output_type": "stream",
     "text": [
      "Train: 100%|█████████▉| 4112/4113 [00:58<00:00, 69.95it/s, accuracy=0.0312, train_loss=6.26] \n",
      "Evaluation: 100%|██████████| 6/6 [00:03<00:00,  1.70it/s]\n"
     ]
    },
    {
     "name": "stdout",
     "output_type": "stream",
     "text": [
      "\t - Recall@20 epoch 1/3: 0.167969\n",
      "\t - MRR@20    epoch 1/3: 0.049570\n",
      "\n"
     ]
    },
    {
     "name": "stderr",
     "output_type": "stream",
     "text": [
      "Train: 100%|█████████▉| 4112/4113 [00:57<00:00, 71.23it/s, accuracy=0.0234, train_loss=6.22] \n",
      "Evaluation: 100%|██████████| 6/6 [00:03<00:00,  1.88it/s]\n"
     ]
    },
    {
     "name": "stdout",
     "output_type": "stream",
     "text": [
      "\t - Recall@20 epoch 2/3: 0.191406\n",
      "\t - MRR@20    epoch 2/3: 0.056863\n",
      "\n"
     ]
    },
    {
     "name": "stderr",
     "output_type": "stream",
     "text": [
      "Train: 100%|█████████▉| 4112/4113 [00:57<00:00, 71.92it/s, accuracy=0.0312, train_loss=5.95] \n",
      "Evaluation: 100%|██████████| 6/6 [00:03<00:00,  1.88it/s]\n"
     ]
    },
    {
     "name": "stdout",
     "output_type": "stream",
     "text": [
      "\t - Recall@20 epoch 3/3: 0.192708\n",
      "\t - MRR@20    epoch 3/3: 0.058988\n",
      "\n",
      "Model: \"model_11\"\n",
      "_________________________________________________________________\n",
      "Layer (type)                 Output Shape              Param #   \n",
      "=================================================================\n",
      "input_12 (InputLayer)        [(128, 1, 3333)]          0         \n",
      "_________________________________________________________________\n",
      "GRU (GRU)                    [(128, 50), (128, 50)]    507750    \n",
      "_________________________________________________________________\n",
      "dropout_11 (Dropout)         (128, 50)                 0         \n",
      "_________________________________________________________________\n",
      "dense_11 (Dense)             (128, 3333)               169983    \n",
      "=================================================================\n",
      "Total params: 677,733\n",
      "Trainable params: 677,733\n",
      "Non-trainable params: 0\n",
      "_________________________________________________________________\n"
     ]
    },
    {
     "name": "stderr",
     "output_type": "stream",
     "text": [
      "Train: 100%|█████████▉| 4112/4113 [00:57<00:00, 71.19it/s, accuracy=0.0156, train_loss=7.01] \n",
      "Evaluation: 100%|██████████| 6/6 [00:03<00:00,  1.62it/s]\n"
     ]
    },
    {
     "name": "stdout",
     "output_type": "stream",
     "text": [
      "\t - Recall@20 epoch 1/3: 0.088542\n",
      "\t - MRR@20    epoch 1/3: 0.023565\n",
      "\n"
     ]
    },
    {
     "name": "stderr",
     "output_type": "stream",
     "text": [
      "Train: 100%|█████████▉| 4112/4113 [00:57<00:00, 72.12it/s, accuracy=0.0234, train_loss=6.4]  \n",
      "Evaluation: 100%|██████████| 6/6 [00:03<00:00,  1.85it/s]\n"
     ]
    },
    {
     "name": "stdout",
     "output_type": "stream",
     "text": [
      "\t - Recall@20 epoch 2/3: 0.162760\n",
      "\t - MRR@20    epoch 2/3: 0.046124\n",
      "\n"
     ]
    },
    {
     "name": "stderr",
     "output_type": "stream",
     "text": [
      "Train: 100%|█████████▉| 4112/4113 [00:56<00:00, 72.98it/s, accuracy=0.0156, train_loss=6.23] \n",
      "Evaluation: 100%|██████████| 6/6 [00:03<00:00,  1.87it/s]"
     ]
    },
    {
     "name": "stdout",
     "output_type": "stream",
     "text": [
      "\t - Recall@20 epoch 3/3: 0.190104\n",
      "\t - MRR@20    epoch 3/3: 0.057463\n",
      "\n"
     ]
    },
    {
     "name": "stderr",
     "output_type": "stream",
     "text": [
      "\n"
     ]
    },
    {
     "data": {
      "text/html": [
       "<div>\n",
       "<style scoped>\n",
       "    .dataframe tbody tr th:only-of-type {\n",
       "        vertical-align: middle;\n",
       "    }\n",
       "\n",
       "    .dataframe tbody tr th {\n",
       "        vertical-align: top;\n",
       "    }\n",
       "\n",
       "    .dataframe thead th {\n",
       "        text-align: right;\n",
       "    }\n",
       "</style>\n",
       "<table border=\"1\" class=\"dataframe\">\n",
       "  <thead>\n",
       "    <tr style=\"text-align: right;\">\n",
       "      <th></th>\n",
       "      <th>learning_rate</th>\n",
       "      <th>epoch</th>\n",
       "      <th>recall</th>\n",
       "      <th>mrr</th>\n",
       "    </tr>\n",
       "  </thead>\n",
       "  <tbody>\n",
       "    <tr>\n",
       "      <th>0</th>\n",
       "      <td>0.010</td>\n",
       "      <td>1</td>\n",
       "      <td>0.177083</td>\n",
       "      <td>0.059357</td>\n",
       "    </tr>\n",
       "    <tr>\n",
       "      <th>1</th>\n",
       "      <td>0.010</td>\n",
       "      <td>2</td>\n",
       "      <td>0.167969</td>\n",
       "      <td>0.054061</td>\n",
       "    </tr>\n",
       "    <tr>\n",
       "      <th>2</th>\n",
       "      <td>0.010</td>\n",
       "      <td>3</td>\n",
       "      <td>0.165365</td>\n",
       "      <td>0.057436</td>\n",
       "    </tr>\n",
       "    <tr>\n",
       "      <th>3</th>\n",
       "      <td>0.005</td>\n",
       "      <td>1</td>\n",
       "      <td>0.167969</td>\n",
       "      <td>0.049570</td>\n",
       "    </tr>\n",
       "    <tr>\n",
       "      <th>4</th>\n",
       "      <td>0.005</td>\n",
       "      <td>2</td>\n",
       "      <td>0.191406</td>\n",
       "      <td>0.056863</td>\n",
       "    </tr>\n",
       "    <tr>\n",
       "      <th>5</th>\n",
       "      <td>0.005</td>\n",
       "      <td>3</td>\n",
       "      <td>0.192708</td>\n",
       "      <td>0.058988</td>\n",
       "    </tr>\n",
       "    <tr>\n",
       "      <th>6</th>\n",
       "      <td>0.001</td>\n",
       "      <td>1</td>\n",
       "      <td>0.088542</td>\n",
       "      <td>0.023565</td>\n",
       "    </tr>\n",
       "    <tr>\n",
       "      <th>7</th>\n",
       "      <td>0.001</td>\n",
       "      <td>2</td>\n",
       "      <td>0.162760</td>\n",
       "      <td>0.046124</td>\n",
       "    </tr>\n",
       "    <tr>\n",
       "      <th>8</th>\n",
       "      <td>0.001</td>\n",
       "      <td>3</td>\n",
       "      <td>0.190104</td>\n",
       "      <td>0.057463</td>\n",
       "    </tr>\n",
       "  </tbody>\n",
       "</table>\n",
       "</div>"
      ],
      "text/plain": [
       "   learning_rate  epoch    recall       mrr\n",
       "0          0.010      1  0.177083  0.059357\n",
       "1          0.010      2  0.167969  0.054061\n",
       "2          0.010      3  0.165365  0.057436\n",
       "3          0.005      1  0.167969  0.049570\n",
       "4          0.005      2  0.191406  0.056863\n",
       "5          0.005      3  0.192708  0.058988\n",
       "6          0.001      1  0.088542  0.023565\n",
       "7          0.001      2  0.162760  0.046124\n",
       "8          0.001      3  0.190104  0.057463"
      ]
     },
     "execution_count": 51,
     "metadata": {},
     "output_type": "execute_result"
    }
   ],
   "source": [
    "lr_result_df = pd.DataFrame()\n",
    "for l_r in [0.01, 0.005, 0.001]:\n",
    "    args = Args(tr, val, test, batch_size=128, hsz=50, drop_rate=0.3, lr=l_r, epochs=3, k=20)\n",
    "    model = create_model(args)\n",
    "\n",
    "    results = train_model(model, args, adjust=dict(learning_rate=l_r))\n",
    "    lr_result_df = pd.concat([lr_result_df, pd.DataFrame(results)], ignore_index=True)\n",
    "\n",
    "lr_result_df"
   ]
  },
  {
   "cell_type": "code",
   "execution_count": 52,
   "metadata": {},
   "outputs": [
    {
     "data": {
      "image/png": "[encoded data removed]",
      "text/plain": [
       "<Figure size 1296x432 with 2 Axes>"
      ]
     },
     "metadata": {
      "needs_background": "light"
     },
     "output_type": "display_data"
    }
   ],
   "source": [
    "plt.figure(figsize=(18, 6))\n",
    "plt.subplot(121)\n",
    "sns.lineplot(x='epoch', y='recall', hue='learning_rate', data=lr_result_df)\n",
    "\n",
    "plt.subplot(122)\n",
    "sns.lineplot(x='epoch', y='mrr', hue='learning_rate', data=lr_result_df)\n",
    "\n",
    "plt.tight_layout()"
   ]
  },
  {
   "cell_type": "markdown",
   "metadata": {},
   "source": [
    "> learning_rate는 `[0.01, 0.005, 0.001]`중에서 `0.001`이 가장 적합하다."
   ]
  },
  {
   "cell_type": "code",
   "execution_count": 53,
   "metadata": {
    "scrolled": false
   },
   "outputs": [
    {
     "name": "stdout",
     "output_type": "stream",
     "text": [
      "Model: \"model_12\"\n",
      "_________________________________________________________________\n",
      "Layer (type)                 Output Shape              Param #   \n",
      "=================================================================\n",
      "input_13 (InputLayer)        [(128, 1, 3333)]          0         \n",
      "_________________________________________________________________\n",
      "GRU (GRU)                    [(128, 50), (128, 50)]    507750    \n",
      "_________________________________________________________________\n",
      "dropout_12 (Dropout)         (128, 50)                 0         \n",
      "_________________________________________________________________\n",
      "dense_12 (Dense)             (128, 3333)               169983    \n",
      "=================================================================\n",
      "Total params: 677,733\n",
      "Trainable params: 677,733\n",
      "Non-trainable params: 0\n",
      "_________________________________________________________________\n"
     ]
    },
    {
     "name": "stderr",
     "output_type": "stream",
     "text": [
      "Train: 100%|█████████▉| 4112/4113 [00:57<00:00, 71.46it/s, accuracy=0.0234, train_loss=6.95] \n",
      "Evaluation: 100%|██████████| 6/6 [00:03<00:00,  1.52it/s]\n"
     ]
    },
    {
     "name": "stdout",
     "output_type": "stream",
     "text": [
      "\t - Recall@20 epoch 1/7: 0.085938\n",
      "\t - MRR@20    epoch 1/7: 0.022237\n",
      "\n"
     ]
    },
    {
     "name": "stderr",
     "output_type": "stream",
     "text": [
      "Train: 100%|█████████▉| 4112/4113 [00:56<00:00, 72.52it/s, accuracy=0.0234, train_loss=6.41] \n",
      "Evaluation: 100%|██████████| 6/6 [00:03<00:00,  1.83it/s]\n"
     ]
    },
    {
     "name": "stdout",
     "output_type": "stream",
     "text": [
      "\t - Recall@20 epoch 2/7: 0.160156\n",
      "\t - MRR@20    epoch 2/7: 0.050098\n",
      "\n"
     ]
    },
    {
     "name": "stderr",
     "output_type": "stream",
     "text": [
      "Train: 100%|█████████▉| 4112/4113 [00:57<00:00, 71.57it/s, accuracy=0.0234, train_loss=6.28] \n",
      "Evaluation: 100%|██████████| 6/6 [00:03<00:00,  1.87it/s]\n"
     ]
    },
    {
     "name": "stdout",
     "output_type": "stream",
     "text": [
      "\t - Recall@20 epoch 3/7: 0.191406\n",
      "\t - MRR@20    epoch 3/7: 0.059097\n",
      "\n"
     ]
    },
    {
     "name": "stderr",
     "output_type": "stream",
     "text": [
      "Train: 100%|█████████▉| 4112/4113 [00:57<00:00, 71.59it/s, accuracy=0.0391, train_loss=6.2]  \n",
      "Evaluation: 100%|██████████| 6/6 [00:03<00:00,  1.85it/s]\n"
     ]
    },
    {
     "name": "stdout",
     "output_type": "stream",
     "text": [
      "\t - Recall@20 epoch 4/7: 0.192708\n",
      "\t - MRR@20    epoch 4/7: 0.061173\n",
      "\n"
     ]
    },
    {
     "name": "stderr",
     "output_type": "stream",
     "text": [
      "Train: 100%|█████████▉| 4112/4113 [00:56<00:00, 72.77it/s, accuracy=0.0312, train_loss=6.08] \n",
      "Evaluation: 100%|██████████| 6/6 [00:03<00:00,  1.81it/s]\n"
     ]
    },
    {
     "name": "stdout",
     "output_type": "stream",
     "text": [
      "\t - Recall@20 epoch 5/7: 0.208333\n",
      "\t - MRR@20    epoch 5/7: 0.064797\n",
      "\n"
     ]
    },
    {
     "name": "stderr",
     "output_type": "stream",
     "text": [
      "Train: 100%|█████████▉| 4112/4113 [00:56<00:00, 72.48it/s, accuracy=0.0312, train_loss=6.06] \n",
      "Evaluation: 100%|██████████| 6/6 [00:03<00:00,  1.91it/s]\n"
     ]
    },
    {
     "name": "stdout",
     "output_type": "stream",
     "text": [
      "\t - Recall@20 epoch 6/7: 0.208333\n",
      "\t - MRR@20    epoch 6/7: 0.067615\n",
      "\n"
     ]
    },
    {
     "name": "stderr",
     "output_type": "stream",
     "text": [
      "Train: 100%|█████████▉| 4112/4113 [00:56<00:00, 72.35it/s, accuracy=0.0547, train_loss=6.06] \n",
      "Evaluation: 100%|██████████| 6/6 [00:03<00:00,  1.89it/s]\n"
     ]
    },
    {
     "name": "stdout",
     "output_type": "stream",
     "text": [
      "\t - Recall@20 epoch 7/7: 0.223958\n",
      "\t - MRR@20    epoch 7/7: 0.071802\n",
      "\n",
      "Model: \"model_13\"\n",
      "_________________________________________________________________\n",
      "Layer (type)                 Output Shape              Param #   \n",
      "=================================================================\n",
      "input_14 (InputLayer)        [(128, 1, 3333)]          0         \n",
      "_________________________________________________________________\n",
      "GRU (GRU)                    [(128, 50), (128, 50)]    507750    \n",
      "_________________________________________________________________\n",
      "dropout_13 (Dropout)         (128, 50)                 0         \n",
      "_________________________________________________________________\n",
      "dense_13 (Dense)             (128, 3333)               169983    \n",
      "=================================================================\n",
      "Total params: 677,733\n",
      "Trainable params: 677,733\n",
      "Non-trainable params: 0\n",
      "_________________________________________________________________\n"
     ]
    },
    {
     "name": "stderr",
     "output_type": "stream",
     "text": [
      "Train: 100%|█████████▉| 4112/4113 [00:58<00:00, 70.42it/s, accuracy=0.0156, train_loss=7.03] \n",
      "Evaluation: 100%|██████████| 6/6 [00:03<00:00,  1.70it/s]\n"
     ]
    },
    {
     "name": "stdout",
     "output_type": "stream",
     "text": [
      "\t - Recall@20 epoch 1/10: 0.088542\n",
      "\t - MRR@20    epoch 1/10: 0.022138\n",
      "\n"
     ]
    },
    {
     "name": "stderr",
     "output_type": "stream",
     "text": [
      "Train: 100%|█████████▉| 4112/4113 [00:56<00:00, 72.15it/s, accuracy=0.0234, train_loss=6.49] \n",
      "Evaluation: 100%|██████████| 6/6 [00:03<00:00,  1.84it/s]\n"
     ]
    },
    {
     "name": "stdout",
     "output_type": "stream",
     "text": [
      "\t - Recall@20 epoch 2/10: 0.154948\n",
      "\t - MRR@20    epoch 2/10: 0.042022\n",
      "\n"
     ]
    },
    {
     "name": "stderr",
     "output_type": "stream",
     "text": [
      "Train: 100%|█████████▉| 4112/4113 [00:57<00:00, 71.18it/s, accuracy=0.0156, train_loss=6.31] \n",
      "Evaluation: 100%|██████████| 6/6 [00:03<00:00,  1.89it/s]\n"
     ]
    },
    {
     "name": "stdout",
     "output_type": "stream",
     "text": [
      "\t - Recall@20 epoch 3/10: 0.190104\n",
      "\t - MRR@20    epoch 3/10: 0.055515\n",
      "\n"
     ]
    },
    {
     "name": "stderr",
     "output_type": "stream",
     "text": [
      "Train: 100%|█████████▉| 4112/4113 [00:56<00:00, 72.56it/s, accuracy=0.0156, train_loss=6.24] \n",
      "Evaluation: 100%|██████████| 6/6 [00:03<00:00,  1.91it/s]\n"
     ]
    },
    {
     "name": "stdout",
     "output_type": "stream",
     "text": [
      "\t - Recall@20 epoch 4/10: 0.201823\n",
      "\t - MRR@20    epoch 4/10: 0.060212\n",
      "\n"
     ]
    },
    {
     "name": "stderr",
     "output_type": "stream",
     "text": [
      "Train: 100%|█████████▉| 4112/4113 [00:56<00:00, 72.46it/s, accuracy=0.0469, train_loss=6.02] \n",
      "Evaluation: 100%|██████████| 6/6 [00:03<00:00,  1.91it/s]\n"
     ]
    },
    {
     "name": "stdout",
     "output_type": "stream",
     "text": [
      "\t - Recall@20 epoch 5/10: 0.217448\n",
      "\t - MRR@20    epoch 5/10: 0.062852\n",
      "\n"
     ]
    },
    {
     "name": "stderr",
     "output_type": "stream",
     "text": [
      "Train: 100%|█████████▉| 4112/4113 [00:56<00:00, 72.25it/s, accuracy=0.0234, train_loss=5.99] \n",
      "Evaluation: 100%|██████████| 6/6 [00:03<00:00,  1.93it/s]\n"
     ]
    },
    {
     "name": "stdout",
     "output_type": "stream",
     "text": [
      "\t - Recall@20 epoch 6/10: 0.214844\n",
      "\t - MRR@20    epoch 6/10: 0.061075\n",
      "\n"
     ]
    },
    {
     "name": "stderr",
     "output_type": "stream",
     "text": [
      "Train: 100%|█████████▉| 4112/4113 [00:56<00:00, 73.28it/s, accuracy=0.0391, train_loss=6.02] \n",
      "Evaluation: 100%|██████████| 6/6 [00:03<00:00,  1.89it/s]\n"
     ]
    },
    {
     "name": "stdout",
     "output_type": "stream",
     "text": [
      "\t - Recall@20 epoch 7/10: 0.225260\n",
      "\t - MRR@20    epoch 7/10: 0.062266\n",
      "\n"
     ]
    },
    {
     "name": "stderr",
     "output_type": "stream",
     "text": [
      "Train: 100%|█████████▉| 4112/4113 [00:56<00:00, 72.80it/s, accuracy=0.0156, train_loss=6.01] \n",
      "Evaluation: 100%|██████████| 6/6 [00:03<00:00,  1.95it/s]\n"
     ]
    },
    {
     "name": "stdout",
     "output_type": "stream",
     "text": [
      "\t - Recall@20 epoch 8/10: 0.223958\n",
      "\t - MRR@20    epoch 8/10: 0.065425\n",
      "\n"
     ]
    },
    {
     "name": "stderr",
     "output_type": "stream",
     "text": [
      "Train: 100%|█████████▉| 4112/4113 [00:56<00:00, 72.73it/s, accuracy=0.0391, train_loss=6.01] \n",
      "Evaluation: 100%|██████████| 6/6 [00:03<00:00,  1.97it/s]\n"
     ]
    },
    {
     "name": "stdout",
     "output_type": "stream",
     "text": [
      "\t - Recall@20 epoch 9/10: 0.225260\n",
      "\t - MRR@20    epoch 9/10: 0.064290\n",
      "\n"
     ]
    },
    {
     "name": "stderr",
     "output_type": "stream",
     "text": [
      "Train: 100%|█████████▉| 4112/4113 [00:55<00:00, 73.48it/s, accuracy=0.0469, train_loss=6.02] \n",
      "Evaluation: 100%|██████████| 6/6 [00:03<00:00,  1.89it/s]\n"
     ]
    },
    {
     "name": "stdout",
     "output_type": "stream",
     "text": [
      "\t - Recall@20 epoch 10/10: 0.223958\n",
      "\t - MRR@20    epoch 10/10: 0.066819\n",
      "\n",
      "Model: \"model_14\"\n",
      "_________________________________________________________________\n",
      "Layer (type)                 Output Shape              Param #   \n",
      "=================================================================\n",
      "input_15 (InputLayer)        [(128, 1, 3333)]          0         \n",
      "_________________________________________________________________\n",
      "GRU (GRU)                    [(128, 50), (128, 50)]    507750    \n",
      "_________________________________________________________________\n",
      "dropout_14 (Dropout)         (128, 50)                 0         \n",
      "_________________________________________________________________\n",
      "dense_14 (Dense)             (128, 3333)               169983    \n",
      "=================================================================\n",
      "Total params: 677,733\n",
      "Trainable params: 677,733\n",
      "Non-trainable params: 0\n",
      "_________________________________________________________________\n"
     ]
    },
    {
     "name": "stderr",
     "output_type": "stream",
     "text": [
      "Train: 100%|█████████▉| 4112/4113 [00:59<00:00, 69.29it/s, accuracy=0.0234, train_loss=6.96] \n",
      "Evaluation: 100%|██████████| 6/6 [00:03<00:00,  1.63it/s]\n"
     ]
    },
    {
     "name": "stdout",
     "output_type": "stream",
     "text": [
      "\t - Recall@20 epoch 1/13: 0.083333\n",
      "\t - MRR@20    epoch 1/13: 0.022897\n",
      "\n"
     ]
    },
    {
     "name": "stderr",
     "output_type": "stream",
     "text": [
      "Train: 100%|█████████▉| 4112/4113 [00:58<00:00, 70.45it/s, accuracy=0.0312, train_loss=6.4]  \n",
      "Evaluation: 100%|██████████| 6/6 [00:03<00:00,  1.79it/s]\n"
     ]
    },
    {
     "name": "stdout",
     "output_type": "stream",
     "text": [
      "\t - Recall@20 epoch 2/13: 0.156250\n",
      "\t - MRR@20    epoch 2/13: 0.045772\n",
      "\n"
     ]
    },
    {
     "name": "stderr",
     "output_type": "stream",
     "text": [
      "Train: 100%|█████████▉| 4112/4113 [00:57<00:00, 70.98it/s, accuracy=0.00781, train_loss=6.13]\n",
      "Evaluation: 100%|██████████| 6/6 [00:03<00:00,  1.89it/s]\n"
     ]
    },
    {
     "name": "stdout",
     "output_type": "stream",
     "text": [
      "\t - Recall@20 epoch 3/13: 0.192708\n",
      "\t - MRR@20    epoch 3/13: 0.058035\n",
      "\n"
     ]
    },
    {
     "name": "stderr",
     "output_type": "stream",
     "text": [
      "Train: 100%|█████████▉| 4112/4113 [00:58<00:00, 70.46it/s, accuracy=0.0469, train_loss=6.09] \n",
      "Evaluation: 100%|██████████| 6/6 [00:03<00:00,  1.89it/s]\n"
     ]
    },
    {
     "name": "stdout",
     "output_type": "stream",
     "text": [
      "\t - Recall@20 epoch 4/13: 0.209635\n",
      "\t - MRR@20    epoch 4/13: 0.062071\n",
      "\n"
     ]
    },
    {
     "name": "stderr",
     "output_type": "stream",
     "text": [
      "Train: 100%|█████████▉| 4112/4113 [00:57<00:00, 70.96it/s, accuracy=0.0312, train_loss=6.1]  \n",
      "Evaluation: 100%|██████████| 6/6 [00:03<00:00,  1.95it/s]\n"
     ]
    },
    {
     "name": "stdout",
     "output_type": "stream",
     "text": [
      "\t - Recall@20 epoch 5/13: 0.210938\n",
      "\t - MRR@20    epoch 5/13: 0.065220\n",
      "\n"
     ]
    },
    {
     "name": "stderr",
     "output_type": "stream",
     "text": [
      "Train: 100%|█████████▉| 4112/4113 [00:57<00:00, 71.28it/s, accuracy=0.0156, train_loss=6.1]  \n",
      "Evaluation: 100%|██████████| 6/6 [00:03<00:00,  1.94it/s]\n"
     ]
    },
    {
     "name": "stdout",
     "output_type": "stream",
     "text": [
      "\t - Recall@20 epoch 6/13: 0.214844\n",
      "\t - MRR@20    epoch 6/13: 0.069470\n",
      "\n"
     ]
    },
    {
     "name": "stderr",
     "output_type": "stream",
     "text": [
      "Train: 100%|█████████▉| 4112/4113 [00:57<00:00, 71.17it/s, accuracy=0.0234, train_loss=6.01] \n",
      "Evaluation: 100%|██████████| 6/6 [00:03<00:00,  1.96it/s]\n"
     ]
    },
    {
     "name": "stdout",
     "output_type": "stream",
     "text": [
      "\t - Recall@20 epoch 7/13: 0.218750\n",
      "\t - MRR@20    epoch 7/13: 0.070392\n",
      "\n"
     ]
    },
    {
     "name": "stderr",
     "output_type": "stream",
     "text": [
      "Train: 100%|█████████▉| 4112/4113 [00:57<00:00, 71.85it/s, accuracy=0.0312, train_loss=5.98] \n",
      "Evaluation: 100%|██████████| 6/6 [00:03<00:00,  1.98it/s]\n"
     ]
    },
    {
     "name": "stdout",
     "output_type": "stream",
     "text": [
      "\t - Recall@20 epoch 8/13: 0.218750\n",
      "\t - MRR@20    epoch 8/13: 0.070448\n",
      "\n"
     ]
    },
    {
     "name": "stderr",
     "output_type": "stream",
     "text": [
      "Train: 100%|█████████▉| 4112/4113 [00:57<00:00, 71.63it/s, accuracy=0.0391, train_loss=5.96] \n",
      "Evaluation: 100%|██████████| 6/6 [00:03<00:00,  1.94it/s]\n"
     ]
    },
    {
     "name": "stdout",
     "output_type": "stream",
     "text": [
      "\t - Recall@20 epoch 9/13: 0.218750\n",
      "\t - MRR@20    epoch 9/13: 0.071897\n",
      "\n"
     ]
    },
    {
     "name": "stderr",
     "output_type": "stream",
     "text": [
      "Train: 100%|█████████▉| 4112/4113 [00:57<00:00, 71.66it/s, accuracy=0.0469, train_loss=5.84] \n",
      "Evaluation: 100%|██████████| 6/6 [00:03<00:00,  1.89it/s]\n"
     ]
    },
    {
     "name": "stdout",
     "output_type": "stream",
     "text": [
      "\t - Recall@20 epoch 10/13: 0.218750\n",
      "\t - MRR@20    epoch 10/13: 0.073285\n",
      "\n"
     ]
    },
    {
     "name": "stderr",
     "output_type": "stream",
     "text": [
      "Train: 100%|█████████▉| 4112/4113 [00:57<00:00, 71.74it/s, accuracy=0.0469, train_loss=5.89] \n",
      "Evaluation: 100%|██████████| 6/6 [00:03<00:00,  1.91it/s]\n"
     ]
    },
    {
     "name": "stdout",
     "output_type": "stream",
     "text": [
      "\t - Recall@20 epoch 11/13: 0.222656\n",
      "\t - MRR@20    epoch 11/13: 0.073649\n",
      "\n"
     ]
    },
    {
     "name": "stderr",
     "output_type": "stream",
     "text": [
      "Train: 100%|█████████▉| 4112/4113 [00:57<00:00, 71.90it/s, accuracy=0.00781, train_loss=5.92]\n",
      "Evaluation: 100%|██████████| 6/6 [00:03<00:00,  1.89it/s]\n"
     ]
    },
    {
     "name": "stdout",
     "output_type": "stream",
     "text": [
      "\t - Recall@20 epoch 12/13: 0.221354\n",
      "\t - MRR@20    epoch 12/13: 0.070015\n",
      "\n"
     ]
    },
    {
     "name": "stderr",
     "output_type": "stream",
     "text": [
      "Train: 100%|█████████▉| 4112/4113 [00:57<00:00, 71.68it/s, accuracy=0.0547, train_loss=5.86] \n",
      "Evaluation: 100%|██████████| 6/6 [00:03<00:00,  1.87it/s]"
     ]
    },
    {
     "name": "stdout",
     "output_type": "stream",
     "text": [
      "\t - Recall@20 epoch 13/13: 0.220052\n",
      "\t - MRR@20    epoch 13/13: 0.071164\n",
      "\n"
     ]
    },
    {
     "name": "stderr",
     "output_type": "stream",
     "text": [
      "\n"
     ]
    },
    {
     "data": {
      "text/html": [
       "<div>\n",
       "<style scoped>\n",
       "    .dataframe tbody tr th:only-of-type {\n",
       "        vertical-align: middle;\n",
       "    }\n",
       "\n",
       "    .dataframe tbody tr th {\n",
       "        vertical-align: top;\n",
       "    }\n",
       "\n",
       "    .dataframe thead th {\n",
       "        text-align: right;\n",
       "    }\n",
       "</style>\n",
       "<table border=\"1\" class=\"dataframe\">\n",
       "  <thead>\n",
       "    <tr style=\"text-align: right;\">\n",
       "      <th></th>\n",
       "      <th>epochs</th>\n",
       "      <th>epoch</th>\n",
       "      <th>recall</th>\n",
       "      <th>mrr</th>\n",
       "    </tr>\n",
       "  </thead>\n",
       "  <tbody>\n",
       "    <tr>\n",
       "      <th>0</th>\n",
       "      <td>7</td>\n",
       "      <td>1</td>\n",
       "      <td>0.085938</td>\n",
       "      <td>0.022237</td>\n",
       "    </tr>\n",
       "    <tr>\n",
       "      <th>1</th>\n",
       "      <td>7</td>\n",
       "      <td>2</td>\n",
       "      <td>0.160156</td>\n",
       "      <td>0.050098</td>\n",
       "    </tr>\n",
       "    <tr>\n",
       "      <th>2</th>\n",
       "      <td>7</td>\n",
       "      <td>3</td>\n",
       "      <td>0.191406</td>\n",
       "      <td>0.059097</td>\n",
       "    </tr>\n",
       "    <tr>\n",
       "      <th>3</th>\n",
       "      <td>7</td>\n",
       "      <td>4</td>\n",
       "      <td>0.192708</td>\n",
       "      <td>0.061173</td>\n",
       "    </tr>\n",
       "    <tr>\n",
       "      <th>4</th>\n",
       "      <td>7</td>\n",
       "      <td>5</td>\n",
       "      <td>0.208333</td>\n",
       "      <td>0.064797</td>\n",
       "    </tr>\n",
       "    <tr>\n",
       "      <th>5</th>\n",
       "      <td>7</td>\n",
       "      <td>6</td>\n",
       "      <td>0.208333</td>\n",
       "      <td>0.067615</td>\n",
       "    </tr>\n",
       "    <tr>\n",
       "      <th>6</th>\n",
       "      <td>7</td>\n",
       "      <td>7</td>\n",
       "      <td>0.223958</td>\n",
       "      <td>0.071802</td>\n",
       "    </tr>\n",
       "    <tr>\n",
       "      <th>7</th>\n",
       "      <td>10</td>\n",
       "      <td>1</td>\n",
       "      <td>0.088542</td>\n",
       "      <td>0.022138</td>\n",
       "    </tr>\n",
       "    <tr>\n",
       "      <th>8</th>\n",
       "      <td>10</td>\n",
       "      <td>2</td>\n",
       "      <td>0.154948</td>\n",
       "      <td>0.042022</td>\n",
       "    </tr>\n",
       "    <tr>\n",
       "      <th>9</th>\n",
       "      <td>10</td>\n",
       "      <td>3</td>\n",
       "      <td>0.190104</td>\n",
       "      <td>0.055515</td>\n",
       "    </tr>\n",
       "    <tr>\n",
       "      <th>10</th>\n",
       "      <td>10</td>\n",
       "      <td>4</td>\n",
       "      <td>0.201823</td>\n",
       "      <td>0.060212</td>\n",
       "    </tr>\n",
       "    <tr>\n",
       "      <th>11</th>\n",
       "      <td>10</td>\n",
       "      <td>5</td>\n",
       "      <td>0.217448</td>\n",
       "      <td>0.062852</td>\n",
       "    </tr>\n",
       "    <tr>\n",
       "      <th>12</th>\n",
       "      <td>10</td>\n",
       "      <td>6</td>\n",
       "      <td>0.214844</td>\n",
       "      <td>0.061075</td>\n",
       "    </tr>\n",
       "    <tr>\n",
       "      <th>13</th>\n",
       "      <td>10</td>\n",
       "      <td>7</td>\n",
       "      <td>0.225260</td>\n",
       "      <td>0.062266</td>\n",
       "    </tr>\n",
       "    <tr>\n",
       "      <th>14</th>\n",
       "      <td>10</td>\n",
       "      <td>8</td>\n",
       "      <td>0.223958</td>\n",
       "      <td>0.065425</td>\n",
       "    </tr>\n",
       "    <tr>\n",
       "      <th>15</th>\n",
       "      <td>10</td>\n",
       "      <td>9</td>\n",
       "      <td>0.225260</td>\n",
       "      <td>0.064290</td>\n",
       "    </tr>\n",
       "    <tr>\n",
       "      <th>16</th>\n",
       "      <td>10</td>\n",
       "      <td>10</td>\n",
       "      <td>0.223958</td>\n",
       "      <td>0.066819</td>\n",
       "    </tr>\n",
       "    <tr>\n",
       "      <th>17</th>\n",
       "      <td>13</td>\n",
       "      <td>1</td>\n",
       "      <td>0.083333</td>\n",
       "      <td>0.022897</td>\n",
       "    </tr>\n",
       "    <tr>\n",
       "      <th>18</th>\n",
       "      <td>13</td>\n",
       "      <td>2</td>\n",
       "      <td>0.156250</td>\n",
       "      <td>0.045772</td>\n",
       "    </tr>\n",
       "    <tr>\n",
       "      <th>19</th>\n",
       "      <td>13</td>\n",
       "      <td>3</td>\n",
       "      <td>0.192708</td>\n",
       "      <td>0.058035</td>\n",
       "    </tr>\n",
       "    <tr>\n",
       "      <th>20</th>\n",
       "      <td>13</td>\n",
       "      <td>4</td>\n",
       "      <td>0.209635</td>\n",
       "      <td>0.062071</td>\n",
       "    </tr>\n",
       "    <tr>\n",
       "      <th>21</th>\n",
       "      <td>13</td>\n",
       "      <td>5</td>\n",
       "      <td>0.210938</td>\n",
       "      <td>0.065220</td>\n",
       "    </tr>\n",
       "    <tr>\n",
       "      <th>22</th>\n",
       "      <td>13</td>\n",
       "      <td>6</td>\n",
       "      <td>0.214844</td>\n",
       "      <td>0.069470</td>\n",
       "    </tr>\n",
       "    <tr>\n",
       "      <th>23</th>\n",
       "      <td>13</td>\n",
       "      <td>7</td>\n",
       "      <td>0.218750</td>\n",
       "      <td>0.070392</td>\n",
       "    </tr>\n",
       "    <tr>\n",
       "      <th>24</th>\n",
       "      <td>13</td>\n",
       "      <td>8</td>\n",
       "      <td>0.218750</td>\n",
       "      <td>0.070448</td>\n",
       "    </tr>\n",
       "    <tr>\n",
       "      <th>25</th>\n",
       "      <td>13</td>\n",
       "      <td>9</td>\n",
       "      <td>0.218750</td>\n",
       "      <td>0.071897</td>\n",
       "    </tr>\n",
       "    <tr>\n",
       "      <th>26</th>\n",
       "      <td>13</td>\n",
       "      <td>10</td>\n",
       "      <td>0.218750</td>\n",
       "      <td>0.073285</td>\n",
       "    </tr>\n",
       "    <tr>\n",
       "      <th>27</th>\n",
       "      <td>13</td>\n",
       "      <td>11</td>\n",
       "      <td>0.222656</td>\n",
       "      <td>0.073649</td>\n",
       "    </tr>\n",
       "    <tr>\n",
       "      <th>28</th>\n",
       "      <td>13</td>\n",
       "      <td>12</td>\n",
       "      <td>0.221354</td>\n",
       "      <td>0.070015</td>\n",
       "    </tr>\n",
       "    <tr>\n",
       "      <th>29</th>\n",
       "      <td>13</td>\n",
       "      <td>13</td>\n",
       "      <td>0.220052</td>\n",
       "      <td>0.071164</td>\n",
       "    </tr>\n",
       "  </tbody>\n",
       "</table>\n",
       "</div>"
      ],
      "text/plain": [
       "    epochs  epoch    recall       mrr\n",
       "0        7      1  0.085938  0.022237\n",
       "1        7      2  0.160156  0.050098\n",
       "2        7      3  0.191406  0.059097\n",
       "3        7      4  0.192708  0.061173\n",
       "4        7      5  0.208333  0.064797\n",
       "5        7      6  0.208333  0.067615\n",
       "6        7      7  0.223958  0.071802\n",
       "7       10      1  0.088542  0.022138\n",
       "8       10      2  0.154948  0.042022\n",
       "9       10      3  0.190104  0.055515\n",
       "10      10      4  0.201823  0.060212\n",
       "11      10      5  0.217448  0.062852\n",
       "12      10      6  0.214844  0.061075\n",
       "13      10      7  0.225260  0.062266\n",
       "14      10      8  0.223958  0.065425\n",
       "15      10      9  0.225260  0.064290\n",
       "16      10     10  0.223958  0.066819\n",
       "17      13      1  0.083333  0.022897\n",
       "18      13      2  0.156250  0.045772\n",
       "19      13      3  0.192708  0.058035\n",
       "20      13      4  0.209635  0.062071\n",
       "21      13      5  0.210938  0.065220\n",
       "22      13      6  0.214844  0.069470\n",
       "23      13      7  0.218750  0.070392\n",
       "24      13      8  0.218750  0.070448\n",
       "25      13      9  0.218750  0.071897\n",
       "26      13     10  0.218750  0.073285\n",
       "27      13     11  0.222656  0.073649\n",
       "28      13     12  0.221354  0.070015\n",
       "29      13     13  0.220052  0.071164"
      ]
     },
     "execution_count": 53,
     "metadata": {},
     "output_type": "execute_result"
    }
   ],
   "source": [
    "epoch_result_df = pd.DataFrame()\n",
    "for epochs in [7, 10, 13]:\n",
    "    args = Args(tr, val, test, batch_size=128, hsz=50, drop_rate=0.3, lr=0.001, epochs=epochs, k=20)\n",
    "    model = create_model(args)\n",
    "\n",
    "    results = train_model(model, args, adjust=dict(epochs=epochs))\n",
    "    epoch_result_df = pd.concat([epoch_result_df, pd.DataFrame(results)], ignore_index=True)\n",
    "\n",
    "epoch_result_df"
   ]
  },
  {
   "cell_type": "code",
   "execution_count": 54,
   "metadata": {
    "colab": {
     "base_uri": "https://localhost:8080/"
    },
    "executionInfo": {
     "elapsed": 1705338,
     "status": "ok",
     "timestamp": 1630252935145,
     "user": {
      "displayName": "‍유상민[학생](이과대학 생물학과)",
      "photoUrl": "",
      "userId": "15014503589518623359"
     },
     "user_tz": -540
    },
    "id": "tFA0Dz4DipXs",
    "outputId": "a13aaee4-482b-455d-ed08-8c1328c5c933",
    "scrolled": true
   },
   "outputs": [
    {
     "data": {
      "image/png": "[encoded data removed]",
      "text/plain": [
       "<Figure size 1296x432 with 2 Axes>"
      ]
     },
     "metadata": {
      "needs_background": "light"
     },
     "output_type": "display_data"
    }
   ],
   "source": [
    "plt.figure(figsize=(18, 6))\n",
    "plt.subplot(121)\n",
    "sns.lineplot(x='epoch', y='recall', hue='epochs', data=epoch_result_df)\n",
    "\n",
    "plt.subplot(122)\n",
    "sns.lineplot(x='epoch', y='mrr', hue='epochs', data=epoch_result_df)\n",
    "\n",
    "plt.tight_layout()"
   ]
  },
  {
   "cell_type": "markdown",
   "metadata": {},
   "source": [
    "> epoch 10회 이후 Recall 값이 유의미하게 상승하진 않는다.\n",
    ">\n",
    "> mrr 값도 랜덤시드를 잡지 않고 실험하여 값에 차이가 발생하는 것 같다.\n",
    ">\n",
    "> loss값을 확인해보면 10회 이후 줄어들지 않는다. 오버피팅 시작되는듯..\n",
    ">\n",
    "> 재시도 하고 싶지만 시간을 너무 잡아먹으므로.."
   ]
  },
  {
   "cell_type": "code",
   "execution_count": 55,
   "metadata": {
    "scrolled": true
   },
   "outputs": [
    {
     "name": "stderr",
     "output_type": "stream",
     "text": [
      "Evaluation:  88%|████████▊ | 7/8 [00:03<00:00,  1.82it/s]"
     ]
    },
    {
     "name": "stdout",
     "output_type": "stream",
     "text": [
      "\n",
      "\t - Recall@20: 0.241071\n",
      "\t - MRR@20: 0.099497\n",
      "\n"
     ]
    },
    {
     "name": "stderr",
     "output_type": "stream",
     "text": [
      "\n"
     ]
    }
   ],
   "source": [
    "test_model(model, args, test)"
   ]
  },
  {
   "cell_type": "markdown",
   "metadata": {},
   "source": [
    "## 정리\n",
    "* Session Based Recommendation 기능을 구현해봤다.\n",
    "* 처음에 SessionID를 어떻게 잡을것이냐 삽질을 많이 했던 것 같다.\n",
    "* 이후 하이퍼파라미터 튜닝도 꽤 시간을 잡아먹었다.\n",
    "* 하이퍼파라미터 튜닝이후 `Recall` 0.24, `MRR` 0.09를 기록했다.\n",
    "* 더 높은 수치를 기록해보고 싶었는데 아쉽다."
   ]
  }
 ],
 "metadata": {
  "colab": {
   "authorship_tag": "ABX9TyOj43W3Cyb/wpx9Dt5YLmBu",
   "collapsed_sections": [],
   "mount_file_id": "1FqtZnjHK6aJElI4o4TO5thwaaN4Ln0-w",
   "name": "Ex12prac.ipynb",
   "provenance": []
  },
  "kernelspec": {
   "display_name": "Python 3 (ipykernel)",
   "language": "python",
   "name": "python3"
  },
  "language_info": {
   "codemirror_mode": {
    "name": "ipython",
    "version": 3
   },
   "file_extension": ".py",
   "mimetype": "text/x-python",
   "name": "python",
   "nbconvert_exporter": "python",
   "pygments_lexer": "ipython3",
   "version": "3.9.7"
  }
 },
 "nbformat": 4,
 "nbformat_minor": 1
}
