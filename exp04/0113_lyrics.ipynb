{
 "cells": [
  {
   "cell_type": "code",
   "execution_count": 1,
   "id": "8147c35e",
   "metadata": {},
   "outputs": [],
   "source": [
    "import os, re \n",
    "import numpy as np\n",
    "import tensorflow as tf\n",
    "import glob\n",
    "import os"
   ]
  },
  {
   "cell_type": "markdown",
   "id": "04ca97f4",
   "metadata": {},
   "source": [
    "## 데이터 전처리"
   ]
  },
  {
   "cell_type": "markdown",
   "id": "9ee44d41",
   "metadata": {},
   "source": [
    "### 1) 전처리: 데이터 로드\n",
    "요구사항\n",
    "* 12000개 이상 사전을 생성\n",
    "* 텐서 길이는 15를 넘지 않도록\n",
    "* 데이터상 필요없는 텍스트는 정제 할 것"
   ]
  },
  {
   "cell_type": "code",
   "execution_count": 2,
   "id": "8938255d",
   "metadata": {},
   "outputs": [
    {
     "name": "stdout",
     "output_type": "stream",
     "text": [
      "데이터 크기: 187088\n",
      "Examples:\n",
      " [\"Now I've heard there was a secret chord\\n\", 'That David played, and it pleased the Lord\\n', \"But you don't really care for music, do you?\\n\"]\n"
     ]
    }
   ],
   "source": [
    "txt_file_path = os.getenv('HOME')+'/aiffel/lyricist/data/lyrics/*'\n",
    "raw_corpus = []\n",
    "\n",
    "for txt_file in glob.glob(txt_file_path):\n",
    "    with open(txt_file, \"r\") as f:\n",
    "        raw_corpus.extend(f.readlines())\n",
    "\n",
    "print(\"데이터 크기:\", len(raw_corpus))\n",
    "print(\"Examples:\\n\", raw_corpus[:3])"
   ]
  },
  {
   "cell_type": "markdown",
   "id": "1552639c",
   "metadata": {},
   "source": [
    "### 2) 전처리: 데이터 정제"
   ]
  },
  {
   "cell_type": "code",
   "execution_count": 3,
   "id": "79c8d54d",
   "metadata": {},
   "outputs": [
    {
     "name": "stdout",
     "output_type": "stream",
     "text": [
      "임의 문장: This @_is ;;;sample        sentence.\n",
      "정제: <start> this is sample sentence . <end>\n",
      "----\n",
      "before: \"Now I've heard there was a secret chord\n",
      "\"\n",
      "after: \"<start> now i ve heard there was a secret chord <end>\"\n",
      "----\n",
      "before: \"That David played, and it pleased the Lord\n",
      "\"\n",
      "after: \"<start> that david played , and it pleased the lord <end>\"\n",
      "----\n",
      "before: \"But you don't really care for music, do you?\n",
      "\"\n",
      "after: \"<start> but you don t really care for music , do you ? <end>\"\n",
      "----\n"
     ]
    }
   ],
   "source": [
    "def preprocess_sentence(sentence):\n",
    "    sentence = sentence.lower().strip() # 1\n",
    "    sentence = re.sub(r\"([?.!,¿])\", r\" \\1 \", sentence) # ?.!,¿ 기호 앞에 공백 추가\n",
    "    sentence = re.sub(r\"[^a-zA-Z?.!,¿]+\", \" \", sentence) # 허용된 문자 외 공백 치환\n",
    "    sentence = re.sub(r\"\\s+\", \" \", sentence) # 하나 이상 중복된 공백(스페이스) 하나로 처리\n",
    "    return f\"<start> { sentence.strip() } <end>\" # start/end 마커 추가\n",
    "\n",
    "# 임의문장 테스트\n",
    "print(\"임의 문장: This @_is ;;;sample        sentence.\")\n",
    "print(\"정제:\", preprocess_sentence(\"This @_is ;;;sample        sentence.\"))\n",
    "print(\"----\")\n",
    "\n",
    "# 앞 단계에서 확인한 3개 문장 의도된 전처리여부 적용 확인\n",
    "for i in range(3):\n",
    "    print(f\"before: \\\"{raw_corpus[i]}\\\"\")\n",
    "    print(f\"after: \\\"{preprocess_sentence(raw_corpus[i])}\\\"\")\n",
    "    print(\"----\")"
   ]
  },
  {
   "cell_type": "code",
   "execution_count": 4,
   "id": "051fb1d0",
   "metadata": {
    "scrolled": false
   },
   "outputs": [
    {
     "data": {
      "text/plain": [
       "['<start> now i ve heard there was a secret chord <end>',\n",
       " '<start> that david played , and it pleased the lord <end>',\n",
       " '<start> but you don t really care for music , do you ? <end>',\n",
       " '<start> it goes like this <end>',\n",
       " '<start> the fourth , the fifth <end>',\n",
       " '<start> the minor fall , the major lift <end>',\n",
       " '<start> the baffled king composing hallelujah hallelujah <end>',\n",
       " '<start> hallelujah <end>',\n",
       " '<start> hallelujah <end>',\n",
       " '<start> hallelujah your faith was strong but you needed proof <end>']"
      ]
     },
     "execution_count": 4,
     "metadata": {},
     "output_type": "execute_result"
    }
   ],
   "source": [
    "corpus = []\n",
    "\n",
    "for sentence in raw_corpus:\n",
    "    if len(sentence) == 0: continue\n",
    "    if sentence[-1] == \":\": continue\n",
    "\n",
    "    preprocessed_sentence = preprocess_sentence(sentence)\n",
    "    if len(preprocessed_sentence.split()) > 15 : continue  # 텐서 길이 15이상은 필터링\n",
    "    corpus.append(preprocessed_sentence)\n",
    "\n",
    "corpus[:10]"
   ]
  },
  {
   "cell_type": "markdown",
   "id": "e10aac96",
   "metadata": {},
   "source": [
    "> 토큰화 할 때 텐서플로우의 Tokenizer와 pad_sequences 참고자료\n",
    ">\n",
    "> https://www.tensorflow.org/api_docs/python/tf/keras/preprocessing/text/Tokenizer\n",
    ">\n",
    "> https://www.tensorflow.org/api_docs/python/tf/keras/preprocessing/sequence/pad_sequences"
   ]
  },
  {
   "cell_type": "code",
   "execution_count": 5,
   "id": "c50d0014",
   "metadata": {},
   "outputs": [
    {
     "name": "stdout",
     "output_type": "stream",
     "text": [
      "텐서 길이: 15\n"
     ]
    }
   ],
   "source": [
    "def tokenize(corpus):\n",
    "    # 12,500 단어장 생성\n",
    "    tokenizer = tf.keras.preprocessing.text.Tokenizer(\n",
    "        num_words=12500, \n",
    "        filters=' ',\n",
    "        oov_token=\"<unk>\"\n",
    "    )\n",
    "    tokenizer.fit_on_texts(corpus)\n",
    "\n",
    "    tensor = tokenizer.texts_to_sequences(corpus)   \n",
    "    tensor = tf.keras.preprocessing.sequence.pad_sequences(tensor, padding='post')  \n",
    "\n",
    "    return tensor, tokenizer\n",
    "\n",
    "tensor, tokenizer = tokenize(corpus)\n",
    "print(\"텐서 길이:\", len(tensor[0]))\n",
    "assert len(tensor[0]) == 15  # 각 텐서길이 15개를 안넘도록 했으니"
   ]
  },
  {
   "cell_type": "code",
   "execution_count": 6,
   "id": "24a37a6e",
   "metadata": {
    "scrolled": true
   },
   "outputs": [
    {
     "name": "stdout",
     "output_type": "stream",
     "text": [
      "1 : <unk>\n",
      "2 : <start>\n",
      "3 : <end>\n",
      "4 : i\n",
      "5 : ,\n",
      "6 : the\n",
      "7 : you\n",
      "8 : and\n",
      "9 : a\n",
      "10 : to\n"
     ]
    }
   ],
   "source": [
    "for idx in tokenizer.index_word:\n",
    "    print(idx, \":\", tokenizer.index_word[idx])\n",
    "\n",
    "    if idx >= 10: break"
   ]
  },
  {
   "cell_type": "code",
   "execution_count": 7,
   "id": "1b83498b",
   "metadata": {},
   "outputs": [
    {
     "name": "stdout",
     "output_type": "stream",
     "text": [
      "[   2   50    4   95  303   62   53    9  946 6269    3    0    0    0]\n",
      "[  50    4   95  303   62   53    9  946 6269    3    0    0    0    0]\n"
     ]
    }
   ],
   "source": [
    "# tensor에서 마지막 토큰을 잘라내서 소스 문장을 생성합니다\n",
    "# 마지막 토큰은 <end>가 아니라 <pad>일 가능성이 높습니다.\n",
    "src_input = tensor[:, :-1]\n",
    "# tensor에서 <start>를 잘라내서 타겟 문장을 생성합니다.\n",
    "tgt_input = tensor[:, 1:]\n",
    "\n",
    "print(src_input[0])\n",
    "print(tgt_input[0])"
   ]
  },
  {
   "cell_type": "markdown",
   "id": "112d0379",
   "metadata": {},
   "source": [
    "> 데이터셋에 대해\n",
    ">\n",
    "> https://www.tensorflow.org/api_docs/python/tf/data/Dataset"
   ]
  },
  {
   "cell_type": "markdown",
   "id": "176408b1",
   "metadata": {},
   "source": [
    "## 모델 작성"
   ]
  },
  {
   "cell_type": "code",
   "execution_count": 8,
   "id": "35145d1b",
   "metadata": {},
   "outputs": [
    {
     "data": {
      "text/plain": [
       "<BatchDataset shapes: ((256, 14), (256, 14)), types: (tf.int32, tf.int32)>"
      ]
     },
     "execution_count": 8,
     "metadata": {},
     "output_type": "execute_result"
    }
   ],
   "source": [
    "BUFFER_SIZE = len(src_input)\n",
    "BATCH_SIZE = 256\n",
    "steps_per_epoch = len(src_input) // BATCH_SIZE\n",
    "VOCAB_SIZE = tokenizer.num_words + 1   \n",
    "\n",
    "dataset = tf.data.Dataset.from_tensor_slices((src_input, tgt_input))\n",
    "dataset = dataset.shuffle(BUFFER_SIZE)\n",
    "dataset = dataset.batch(BATCH_SIZE, drop_remainder=True)\n",
    "dataset"
   ]
  },
  {
   "cell_type": "code",
   "execution_count": 9,
   "id": "53a32145",
   "metadata": {},
   "outputs": [],
   "source": [
    "class TextGenerator(tf.keras.Model):\n",
    "    def __init__(self, vocab_size, embedding_size, hidden_size):\n",
    "        super().__init__()\n",
    "        \n",
    "        self.embedding = tf.keras.layers.Embedding(vocab_size, embedding_size)\n",
    "        self.rnn_1 = tf.keras.layers.LSTM(hidden_size, return_sequences=True)\n",
    "        self.rnn_2 = tf.keras.layers.LSTM(hidden_size, return_sequences=True)\n",
    "        self.linear = tf.keras.layers.Dense(vocab_size)\n",
    "        \n",
    "    def call(self, x):\n",
    "        out = self.embedding(x)\n",
    "        out = self.rnn_1(out)\n",
    "        out = self.rnn_2(out)\n",
    "        out = self.linear(out)\n",
    "        \n",
    "        return out\n",
    "    \n",
    "embedding_size = 256\n",
    "hidden_size = 1024\n",
    "model = TextGenerator(tokenizer.num_words + 1, embedding_size , hidden_size)"
   ]
  },
  {
   "cell_type": "code",
   "execution_count": 10,
   "id": "89eb78b1",
   "metadata": {},
   "outputs": [
    {
     "data": {
      "text/plain": [
       "<tf.Tensor: shape=(256, 14, 12501), dtype=float32, numpy=\n",
       "array([[[ 1.13146656e-04, -1.36220260e-04, -6.48452115e-05, ...,\n",
       "         -1.84700664e-04, -1.47142600e-05, -1.71026004e-05],\n",
       "        [ 3.57334095e-04,  7.55200090e-05, -6.53226380e-05, ...,\n",
       "         -1.23574515e-04, -1.60609605e-04,  1.93327316e-04],\n",
       "        [ 3.07683425e-04,  9.48408269e-05,  1.36184186e-04, ...,\n",
       "         -8.28442498e-05, -1.02218139e-04,  3.69507703e-04],\n",
       "        ...,\n",
       "        [-2.16732486e-04, -1.55893981e-03,  2.44609360e-03, ...,\n",
       "         -6.03584806e-04,  2.10143538e-04,  4.40827629e-04],\n",
       "        [-1.27746607e-04, -1.87352661e-03,  2.77472334e-03, ...,\n",
       "         -7.30416796e-04,  7.26693688e-05,  3.95436393e-04],\n",
       "        [-2.75127168e-05, -2.17176485e-03,  3.03186802e-03, ...,\n",
       "         -8.34000588e-04, -6.92017129e-05,  3.14347271e-04]],\n",
       "\n",
       "       [[ 1.13146656e-04, -1.36220260e-04, -6.48452115e-05, ...,\n",
       "         -1.84700664e-04, -1.47142600e-05, -1.71026004e-05],\n",
       "        [ 7.06007049e-05, -1.16885873e-04, -6.68477951e-05, ...,\n",
       "         -2.53703038e-04,  4.88116302e-06, -2.03621748e-04],\n",
       "        [ 3.39714029e-06, -2.50295125e-04,  2.63319322e-04, ...,\n",
       "         -3.24317632e-04, -2.13009184e-06, -1.71714011e-04],\n",
       "        ...,\n",
       "        [ 4.04397608e-04, -2.80944793e-03,  3.22654820e-03, ...,\n",
       "         -1.04387850e-03, -6.99645840e-04, -1.00495294e-04],\n",
       "        [ 4.61482618e-04, -3.04134772e-03,  3.31443734e-03, ...,\n",
       "         -1.04573870e-03, -7.64737371e-04, -2.18665999e-04],\n",
       "        [ 5.07380581e-04, -3.25435819e-03,  3.37417354e-03, ...,\n",
       "         -1.03517761e-03, -8.16962740e-04, -3.40372382e-04]],\n",
       "\n",
       "       [[ 1.13146656e-04, -1.36220260e-04, -6.48452115e-05, ...,\n",
       "         -1.84700664e-04, -1.47142600e-05, -1.71026004e-05],\n",
       "        [ 7.38996678e-05, -1.54279143e-04, -1.34384565e-04, ...,\n",
       "         -2.16119792e-04, -1.02689832e-04,  1.17495918e-04],\n",
       "        [-1.51043264e-06, -2.01316609e-04, -2.81021926e-06, ...,\n",
       "         -1.39499432e-04, -8.62113884e-05,  5.25441719e-04],\n",
       "        ...,\n",
       "        [-6.97162817e-04, -4.28053812e-04,  1.45469536e-03, ...,\n",
       "         -2.99302104e-04, -1.34117086e-04, -3.76295007e-04],\n",
       "        [-7.22288329e-04, -7.14566675e-04,  1.87638169e-03, ...,\n",
       "         -3.49159265e-04, -1.70280400e-04, -1.96559733e-04],\n",
       "        [-6.90957764e-04, -1.03725982e-03,  2.25167209e-03, ...,\n",
       "         -4.31967783e-04, -2.15749460e-04, -4.61893869e-05]],\n",
       "\n",
       "       ...,\n",
       "\n",
       "       [[ 1.13146656e-04, -1.36220260e-04, -6.48452115e-05, ...,\n",
       "         -1.84700664e-04, -1.47142600e-05, -1.71026004e-05],\n",
       "        [ 3.91789130e-04, -2.34676147e-04, -1.93201922e-04, ...,\n",
       "         -3.20499006e-04,  2.04057375e-04,  1.12372196e-04],\n",
       "        [ 5.01525763e-04, -2.79597618e-04, -3.77131975e-04, ...,\n",
       "         -1.43089666e-04,  3.31232528e-04,  4.14406008e-04],\n",
       "        ...,\n",
       "        [ 1.43826846e-03,  3.41725681e-04, -3.55053111e-04, ...,\n",
       "          1.18882325e-03, -4.98291978e-04,  2.63799680e-04],\n",
       "        [ 1.31285749e-03,  1.37990050e-04, -5.97427197e-06, ...,\n",
       "          1.20804564e-03, -5.16980828e-04,  4.09735221e-04],\n",
       "        [ 1.21040246e-03, -1.93182132e-04,  5.18428511e-04, ...,\n",
       "          1.11042231e-03, -5.57099469e-04,  5.68102754e-04]],\n",
       "\n",
       "       [[ 1.13146656e-04, -1.36220260e-04, -6.48452115e-05, ...,\n",
       "         -1.84700664e-04, -1.47142600e-05, -1.71026004e-05],\n",
       "        [ 2.33839717e-04, -4.13860544e-04, -3.52153911e-05, ...,\n",
       "         -3.21359432e-04, -1.46332837e-04, -7.09260057e-05],\n",
       "        [ 4.69497463e-04, -1.30717790e-05, -4.77555986e-05, ...,\n",
       "         -4.10464185e-04, -1.28662170e-04, -6.63520259e-05],\n",
       "        ...,\n",
       "        [ 1.02036232e-04, -2.94607802e-04,  1.65548699e-03, ...,\n",
       "          3.00422926e-05,  6.81515259e-04,  1.51680957e-04],\n",
       "        [ 1.87296318e-05, -6.87763561e-04,  2.08858424e-03, ...,\n",
       "         -1.36554416e-04,  5.07190765e-04,  2.56335188e-04],\n",
       "        [-1.73804528e-05, -1.09066826e-03,  2.47524283e-03, ...,\n",
       "         -2.97511462e-04,  3.07805545e-04,  3.24849621e-04]],\n",
       "\n",
       "       [[ 1.13146656e-04, -1.36220260e-04, -6.48452115e-05, ...,\n",
       "         -1.84700664e-04, -1.47142600e-05, -1.71026004e-05],\n",
       "        [ 4.11974121e-04, -2.51187681e-04, -2.14998319e-04, ...,\n",
       "         -1.35796454e-05,  2.97558768e-06, -1.08292319e-04],\n",
       "        [ 4.68809390e-04, -1.48365056e-04, -4.07848565e-04, ...,\n",
       "          3.33459582e-04, -1.13578593e-04,  5.46333940e-05],\n",
       "        ...,\n",
       "        [ 5.41078974e-04, -1.64098723e-03,  2.33515259e-03, ...,\n",
       "         -7.37307768e-04, -2.23306750e-04,  5.23843803e-04],\n",
       "        [ 5.85447298e-04, -1.90400216e-03,  2.69734417e-03, ...,\n",
       "         -8.81286513e-04, -3.34023527e-04,  4.98792971e-04],\n",
       "        [ 6.34272525e-04, -2.16079154e-03,  2.98246602e-03, ...,\n",
       "         -9.86950821e-04, -4.43182478e-04,  4.27576248e-04]]],\n",
       "      dtype=float32)>"
      ]
     },
     "execution_count": 10,
     "metadata": {},
     "output_type": "execute_result"
    }
   ],
   "source": [
    "# 데이터셋에서 데이터 한 배치만 불러오는 방법입니다.\n",
    "# 지금은 동작 원리에 너무 빠져들지 마세요~\n",
    "for src_sample, tgt_sample in dataset.take(1): break\n",
    "\n",
    "# 한 배치만 불러온 데이터를 모델에 넣어봅니다\n",
    "model(src_sample)"
   ]
  },
  {
   "cell_type": "code",
   "execution_count": 11,
   "id": "1cdbbaf0",
   "metadata": {},
   "outputs": [
    {
     "name": "stdout",
     "output_type": "stream",
     "text": [
      "Model: \"text_generator\"\n",
      "_________________________________________________________________\n",
      "Layer (type)                 Output Shape              Param #   \n",
      "=================================================================\n",
      "embedding (Embedding)        multiple                  3200256   \n",
      "_________________________________________________________________\n",
      "lstm (LSTM)                  multiple                  5246976   \n",
      "_________________________________________________________________\n",
      "lstm_1 (LSTM)                multiple                  8392704   \n",
      "_________________________________________________________________\n",
      "dense (Dense)                multiple                  12813525  \n",
      "=================================================================\n",
      "Total params: 29,653,461\n",
      "Trainable params: 29,653,461\n",
      "Non-trainable params: 0\n",
      "_________________________________________________________________\n"
     ]
    }
   ],
   "source": [
    "model.summary()"
   ]
  },
  {
   "cell_type": "markdown",
   "id": "40033ee1",
   "metadata": {},
   "source": [
    "> optimizer와 loss등은 차차 배웁니다\n",
    ">\n",
    "> 혹시 미리 알고 싶다면 아래 문서를 참고하세요\n",
    ">\n",
    "> https://www.tensorflow.org/api_docs/python/tf/keras/optimizers\n",
    ">\n",
    "> https://www.tensorflow.org/api_docs/python/tf/keras/losses\n",
    ">\n",
    "> 양이 상당히 많은 편이니 지금 보는 것은 추천하지 않습니다"
   ]
  },
  {
   "cell_type": "markdown",
   "id": "32e2b225",
   "metadata": {},
   "source": [
    "## 모델 트레이닝 결과"
   ]
  },
  {
   "cell_type": "code",
   "execution_count": 12,
   "id": "6af0b881",
   "metadata": {
    "scrolled": false
   },
   "outputs": [
    {
     "name": "stdout",
     "output_type": "stream",
     "text": [
      "Epoch 1/10\n",
      "653/653 [==============================] - 119s 179ms/step - loss: 3.2130\n",
      "Epoch 2/10\n",
      "653/653 [==============================] - 117s 180ms/step - loss: 2.7999\n",
      "Epoch 3/10\n",
      "653/653 [==============================] - 117s 179ms/step - loss: 2.6473\n",
      "Epoch 4/10\n",
      "653/653 [==============================] - 117s 179ms/step - loss: 2.5276\n",
      "Epoch 5/10\n",
      "653/653 [==============================] - 117s 179ms/step - loss: 2.4273\n",
      "Epoch 6/10\n",
      "653/653 [==============================] - 117s 179ms/step - loss: 2.3378\n",
      "Epoch 7/10\n",
      "653/653 [==============================] - 117s 179ms/step - loss: 2.2537\n",
      "Epoch 8/10\n",
      "653/653 [==============================] - 117s 179ms/step - loss: 2.1756\n",
      "Epoch 9/10\n",
      "653/653 [==============================] - 117s 179ms/step - loss: 2.1023\n",
      "Epoch 10/10\n",
      "653/653 [==============================] - 117s 179ms/step - loss: 2.0327\n"
     ]
    },
    {
     "data": {
      "text/plain": [
       "<keras.callbacks.History at 0x7f5559a7fb50>"
      ]
     },
     "execution_count": 12,
     "metadata": {},
     "output_type": "execute_result"
    }
   ],
   "source": [
    "optimizer = tf.keras.optimizers.Adam()\n",
    "loss = tf.keras.losses.SparseCategoricalCrossentropy(\n",
    "    from_logits = True,\n",
    "    reduction = 'none'\n",
    ")\n",
    "\n",
    "model.compile(loss=loss, optimizer=optimizer)\n",
    "model.fit(dataset, epochs=10)"
   ]
  },
  {
   "cell_type": "markdown",
   "id": "0bd7e3da",
   "metadata": {},
   "source": [
    "## 모델이 만들어 낸 가사"
   ]
  },
  {
   "cell_type": "code",
   "execution_count": 15,
   "id": "c2cc1ae9",
   "metadata": {},
   "outputs": [],
   "source": [
    "def generate_text(model, tokenizer, init_sentence=\"<start>\", max_len=20):\n",
    "    # 테스트를 위해서 입력받은 init_sentence도 텐서로 변환합니다\n",
    "    test_input = tokenizer.texts_to_sequences([init_sentence])\n",
    "    test_tensor = tf.convert_to_tensor(test_input, dtype=tf.int64)\n",
    "    end_token = tokenizer.word_index[\"<end>\"]\n",
    "\n",
    "    # 단어 하나씩 예측해 문장을 만듭니다\n",
    "    #    1. 입력받은 문장의 텐서를 입력합니다\n",
    "    #    2. 예측된 값 중 가장 높은 확률인 word index를 뽑아냅니다\n",
    "    #    3. 2에서 예측된 word index를 문장 뒤에 붙입니다\n",
    "    #    4. 모델이 <end>를 예측했거나, max_len에 도달했다면 문장 생성을 마칩니다\n",
    "    while True:\n",
    "        # 1\n",
    "        predict = model(test_tensor) \n",
    "        # 2\n",
    "        predict_word = tf.argmax(tf.nn.softmax(predict, axis=-1), axis=-1)[:, -1] \n",
    "        # 3 \n",
    "        test_tensor = tf.concat([test_tensor, tf.expand_dims(predict_word, axis=0)], axis=-1)\n",
    "        # 4\n",
    "        if predict_word.numpy()[0] == end_token: break\n",
    "        if test_tensor.shape[1] >= max_len: break\n",
    "\n",
    "    generated = \"\"\n",
    "    # tokenizer를 이용해 word index를 단어로 하나씩 변환합니다 \n",
    "    for word_index in test_tensor[0].numpy():\n",
    "        generated += tokenizer.index_word[word_index] + \" \"\n",
    "\n",
    "    return generated"
   ]
  },
  {
   "cell_type": "code",
   "execution_count": 16,
   "id": "5b90511e",
   "metadata": {},
   "outputs": [
    {
     "data": {
      "text/plain": [
       "'<start> i love you , i m gonna be a little selfish <end> '"
      ]
     },
     "execution_count": 16,
     "metadata": {},
     "output_type": "execute_result"
    }
   ],
   "source": [
    "generate_text(model, tokenizer, init_sentence=\"<start> i love\", max_len=20)"
   ]
  }
 ],
 "metadata": {
  "kernelspec": {
   "display_name": "Python 3 (ipykernel)",
   "language": "python",
   "name": "python3"
  },
  "language_info": {
   "codemirror_mode": {
    "name": "ipython",
    "version": 3
   },
   "file_extension": ".py",
   "mimetype": "text/x-python",
   "name": "python",
   "nbconvert_exporter": "python",
   "pygments_lexer": "ipython3",
   "version": "3.9.7"
  }
 },
 "nbformat": 4,
 "nbformat_minor": 5
}
